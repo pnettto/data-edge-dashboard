{
 "cells": [
  {
   "cell_type": "code",
   "execution_count": 15,
   "id": "93e5f5eb",
   "metadata": {},
   "outputs": [],
   "source": [
    "import pandas as pd\n",
    "import numpy as np\n",
    "import os"
   ]
  },
  {
   "cell_type": "code",
   "execution_count": 16,
   "id": "8ff67587",
   "metadata": {},
   "outputs": [],
   "source": [
    "# Sample data\n",
    "\n",
    "DEFAULT_DATE_RANGE = ('2023-01-01', '2025-01-01')\n",
    "\n",
    "def generate_timeseries_df():\n",
    "    start, end = DEFAULT_DATE_RANGE\n",
    "    idx = pd.date_range(start=start, end=end, freq=\"MS\") # freq month start\n",
    "    n_points = len(idx)\n",
    "    rng = np.random.default_rng(np.random.randint(1, 99))\n",
    "    base = rng.normal(loc=5500, scale=1500, size=n_points)\n",
    "    trend = np.linspace(0, 2000, n_points)\n",
    "    values = np.maximum(base + trend, 1000).astype(float)\n",
    "    values = np.minimum(values, 10000).round(2)\n",
    "    df = pd.DataFrame({\"value\": values})\n",
    "    df.insert(0, \"date\", idx)\n",
    "    return df\n",
    "    \n",
    "def generate_multiline_df():\n",
    "    start, end = DEFAULT_DATE_RANGE\n",
    "    idx = pd.date_range(start=start, end=end, freq=\"MS\")\n",
    "\n",
    "    rng = np.random.default_rng(np.random.randint(1, 99))\n",
    "    region_names = [\"North\", \"South\", \"East\", \"West\"]\n",
    "    frames: list[pd.DataFrame] = []\n",
    "    for i, name in enumerate(region_names):\n",
    "        base = 700_000 + i * 120_000\n",
    "        # Alternate trend direction for some lines\n",
    "        if i % 2 == 0:\n",
    "            trend_slope = 400_000 + i * 50_000\n",
    "            trend = np.linspace(0, trend_slope, len(idx))\n",
    "        else:\n",
    "            trend_slope = 400_000 + i * 50_000\n",
    "            # Down then up: negative slope for first half, positive for second half\n",
    "            half = len(idx) // 2\n",
    "            trend = np.concatenate([\n",
    "                np.linspace(0, -trend_slope, half),\n",
    "                np.linspace(-trend_slope, trend_slope, len(idx) - half)\n",
    "            ])\n",
    "        noise = rng.normal(loc=0, scale=60_000, size=len(idx))\n",
    "        values = np.maximum(base + trend + noise, 0).round(2)\n",
    "        frames.append(pd.DataFrame({\"date\": idx, \"region\": name, \"value\": values}))\n",
    "\n",
    "    df = pd.concat(frames, ignore_index=True)\n",
    "    return df"
   ]
  },
  {
   "cell_type": "code",
   "execution_count": 17,
   "id": "79f1f3f6",
   "metadata": {},
   "outputs": [],
   "source": [
    "bar = generate_timeseries_df()\n",
    "single_line = generate_timeseries_df()\n",
    "multi_line = generate_multiline_df()"
   ]
  },
  {
   "cell_type": "markdown",
   "id": "5f390774",
   "metadata": {},
   "source": [
    "# Bar chart"
   ]
  },
  {
   "cell_type": "code",
   "execution_count": 18,
   "id": "95e40bb1",
   "metadata": {},
   "outputs": [
    {
     "data": {
      "application/vnd.microsoft.datawrangler.viewer.v0+json": {
       "columns": [
        {
         "name": "index",
         "rawType": "int64",
         "type": "integer"
        },
        {
         "name": "date",
         "rawType": "datetime64[ns]",
         "type": "datetime"
        },
        {
         "name": "value",
         "rawType": "float64",
         "type": "float"
        }
       ],
       "ref": "d8d4b741-9e9e-4297-9370-78daac25013c",
       "rows": [
        [
         "0",
         "2023-01-01 00:00:00",
         "1835.19"
        ],
        [
         "1",
         "2023-02-01 00:00:00",
         "4066.15"
        ],
        [
         "2",
         "2023-03-01 00:00:00",
         "3642.9"
        ],
        [
         "3",
         "2023-04-01 00:00:00",
         "3726.75"
        ],
        [
         "4",
         "2023-05-01 00:00:00",
         "5210.06"
        ]
       ],
       "shape": {
        "columns": 2,
        "rows": 5
       }
      },
      "text/html": [
       "<div>\n",
       "<style scoped>\n",
       "    .dataframe tbody tr th:only-of-type {\n",
       "        vertical-align: middle;\n",
       "    }\n",
       "\n",
       "    .dataframe tbody tr th {\n",
       "        vertical-align: top;\n",
       "    }\n",
       "\n",
       "    .dataframe thead th {\n",
       "        text-align: right;\n",
       "    }\n",
       "</style>\n",
       "<table border=\"1\" class=\"dataframe\">\n",
       "  <thead>\n",
       "    <tr style=\"text-align: right;\">\n",
       "      <th></th>\n",
       "      <th>date</th>\n",
       "      <th>value</th>\n",
       "    </tr>\n",
       "  </thead>\n",
       "  <tbody>\n",
       "    <tr>\n",
       "      <th>0</th>\n",
       "      <td>2023-01-01</td>\n",
       "      <td>1835.19</td>\n",
       "    </tr>\n",
       "    <tr>\n",
       "      <th>1</th>\n",
       "      <td>2023-02-01</td>\n",
       "      <td>4066.15</td>\n",
       "    </tr>\n",
       "    <tr>\n",
       "      <th>2</th>\n",
       "      <td>2023-03-01</td>\n",
       "      <td>3642.90</td>\n",
       "    </tr>\n",
       "    <tr>\n",
       "      <th>3</th>\n",
       "      <td>2023-04-01</td>\n",
       "      <td>3726.75</td>\n",
       "    </tr>\n",
       "    <tr>\n",
       "      <th>4</th>\n",
       "      <td>2023-05-01</td>\n",
       "      <td>5210.06</td>\n",
       "    </tr>\n",
       "  </tbody>\n",
       "</table>\n",
       "</div>"
      ],
      "text/plain": [
       "        date    value\n",
       "0 2023-01-01  1835.19\n",
       "1 2023-02-01  4066.15\n",
       "2 2023-03-01  3642.90\n",
       "3 2023-04-01  3726.75\n",
       "4 2023-05-01  5210.06"
      ]
     },
     "execution_count": 18,
     "metadata": {},
     "output_type": "execute_result"
    }
   ],
   "source": [
    "bar.head()"
   ]
  },
  {
   "cell_type": "markdown",
   "id": "9638372b",
   "metadata": {},
   "source": [
    "# Single line chart"
   ]
  },
  {
   "cell_type": "code",
   "execution_count": 19,
   "id": "ef856a69",
   "metadata": {},
   "outputs": [
    {
     "data": {
      "application/vnd.microsoft.datawrangler.viewer.v0+json": {
       "columns": [
        {
         "name": "index",
         "rawType": "int64",
         "type": "integer"
        },
        {
         "name": "date",
         "rawType": "datetime64[ns]",
         "type": "datetime"
        },
        {
         "name": "value",
         "rawType": "float64",
         "type": "float"
        }
       ],
       "ref": "6c869024-e80f-45e4-a43f-5ebdeee3f894",
       "rows": [
        [
         "0",
         "2023-01-01 00:00:00",
         "3868.61"
        ],
        [
         "1",
         "2023-02-01 00:00:00",
         "3716.4"
        ],
        [
         "2",
         "2023-03-01 00:00:00",
         "6507.46"
        ],
        [
         "3",
         "2023-04-01 00:00:00",
         "6783.23"
        ],
        [
         "4",
         "2023-05-01 00:00:00",
         "6475.53"
        ]
       ],
       "shape": {
        "columns": 2,
        "rows": 5
       }
      },
      "text/html": [
       "<div>\n",
       "<style scoped>\n",
       "    .dataframe tbody tr th:only-of-type {\n",
       "        vertical-align: middle;\n",
       "    }\n",
       "\n",
       "    .dataframe tbody tr th {\n",
       "        vertical-align: top;\n",
       "    }\n",
       "\n",
       "    .dataframe thead th {\n",
       "        text-align: right;\n",
       "    }\n",
       "</style>\n",
       "<table border=\"1\" class=\"dataframe\">\n",
       "  <thead>\n",
       "    <tr style=\"text-align: right;\">\n",
       "      <th></th>\n",
       "      <th>date</th>\n",
       "      <th>value</th>\n",
       "    </tr>\n",
       "  </thead>\n",
       "  <tbody>\n",
       "    <tr>\n",
       "      <th>0</th>\n",
       "      <td>2023-01-01</td>\n",
       "      <td>3868.61</td>\n",
       "    </tr>\n",
       "    <tr>\n",
       "      <th>1</th>\n",
       "      <td>2023-02-01</td>\n",
       "      <td>3716.40</td>\n",
       "    </tr>\n",
       "    <tr>\n",
       "      <th>2</th>\n",
       "      <td>2023-03-01</td>\n",
       "      <td>6507.46</td>\n",
       "    </tr>\n",
       "    <tr>\n",
       "      <th>3</th>\n",
       "      <td>2023-04-01</td>\n",
       "      <td>6783.23</td>\n",
       "    </tr>\n",
       "    <tr>\n",
       "      <th>4</th>\n",
       "      <td>2023-05-01</td>\n",
       "      <td>6475.53</td>\n",
       "    </tr>\n",
       "  </tbody>\n",
       "</table>\n",
       "</div>"
      ],
      "text/plain": [
       "        date    value\n",
       "0 2023-01-01  3868.61\n",
       "1 2023-02-01  3716.40\n",
       "2 2023-03-01  6507.46\n",
       "3 2023-04-01  6783.23\n",
       "4 2023-05-01  6475.53"
      ]
     },
     "execution_count": 19,
     "metadata": {},
     "output_type": "execute_result"
    }
   ],
   "source": [
    "single_line.head()"
   ]
  },
  {
   "cell_type": "markdown",
   "id": "234d70f8",
   "metadata": {},
   "source": [
    "# Multi line chart"
   ]
  },
  {
   "cell_type": "code",
   "execution_count": 20,
   "id": "73f64394",
   "metadata": {},
   "outputs": [
    {
     "data": {
      "application/vnd.microsoft.datawrangler.viewer.v0+json": {
       "columns": [
        {
         "name": "index",
         "rawType": "int64",
         "type": "integer"
        },
        {
         "name": "date",
         "rawType": "datetime64[ns]",
         "type": "datetime"
        },
        {
         "name": "region",
         "rawType": "object",
         "type": "string"
        },
        {
         "name": "value",
         "rawType": "float64",
         "type": "float"
        }
       ],
       "ref": "1b999979-6015-48b5-9f44-427dc85f3147",
       "rows": [
        [
         "0",
         "2023-01-01 00:00:00",
         "North",
         "699590.39"
        ],
        [
         "1",
         "2023-02-01 00:00:00",
         "North",
         "779435.26"
        ],
        [
         "2",
         "2023-03-01 00:00:00",
         "North",
         "777828.64"
        ],
        [
         "3",
         "2023-04-01 00:00:00",
         "North",
         "793437.39"
        ],
        [
         "4",
         "2023-05-01 00:00:00",
         "North",
         "863793.24"
        ]
       ],
       "shape": {
        "columns": 3,
        "rows": 5
       }
      },
      "text/html": [
       "<div>\n",
       "<style scoped>\n",
       "    .dataframe tbody tr th:only-of-type {\n",
       "        vertical-align: middle;\n",
       "    }\n",
       "\n",
       "    .dataframe tbody tr th {\n",
       "        vertical-align: top;\n",
       "    }\n",
       "\n",
       "    .dataframe thead th {\n",
       "        text-align: right;\n",
       "    }\n",
       "</style>\n",
       "<table border=\"1\" class=\"dataframe\">\n",
       "  <thead>\n",
       "    <tr style=\"text-align: right;\">\n",
       "      <th></th>\n",
       "      <th>date</th>\n",
       "      <th>region</th>\n",
       "      <th>value</th>\n",
       "    </tr>\n",
       "  </thead>\n",
       "  <tbody>\n",
       "    <tr>\n",
       "      <th>0</th>\n",
       "      <td>2023-01-01</td>\n",
       "      <td>North</td>\n",
       "      <td>699590.39</td>\n",
       "    </tr>\n",
       "    <tr>\n",
       "      <th>1</th>\n",
       "      <td>2023-02-01</td>\n",
       "      <td>North</td>\n",
       "      <td>779435.26</td>\n",
       "    </tr>\n",
       "    <tr>\n",
       "      <th>2</th>\n",
       "      <td>2023-03-01</td>\n",
       "      <td>North</td>\n",
       "      <td>777828.64</td>\n",
       "    </tr>\n",
       "    <tr>\n",
       "      <th>3</th>\n",
       "      <td>2023-04-01</td>\n",
       "      <td>North</td>\n",
       "      <td>793437.39</td>\n",
       "    </tr>\n",
       "    <tr>\n",
       "      <th>4</th>\n",
       "      <td>2023-05-01</td>\n",
       "      <td>North</td>\n",
       "      <td>863793.24</td>\n",
       "    </tr>\n",
       "  </tbody>\n",
       "</table>\n",
       "</div>"
      ],
      "text/plain": [
       "        date region      value\n",
       "0 2023-01-01  North  699590.39\n",
       "1 2023-02-01  North  779435.26\n",
       "2 2023-03-01  North  777828.64\n",
       "3 2023-04-01  North  793437.39\n",
       "4 2023-05-01  North  863793.24"
      ]
     },
     "execution_count": 20,
     "metadata": {},
     "output_type": "execute_result"
    }
   ],
   "source": [
    "multi_line.head()"
   ]
  },
  {
   "cell_type": "markdown",
   "id": "8b1145bd",
   "metadata": {},
   "source": [
    "# Quarterly Effort"
   ]
  },
  {
   "cell_type": "code",
   "execution_count": 21,
   "id": "53dfe9b2",
   "metadata": {},
   "outputs": [
    {
     "data": {
      "application/vnd.microsoft.datawrangler.viewer.v0+json": {
       "columns": [
        {
         "name": "index",
         "rawType": "int64",
         "type": "integer"
        },
        {
         "name": "completion_quarter_str",
         "rawType": "object",
         "type": "string"
        },
        {
         "name": "avg_effort_per_project",
         "rawType": "float64",
         "type": "float"
        }
       ],
       "ref": "45e44cce-6cf4-479c-a159-4966e39addd2",
       "rows": [
        [
         "0",
         "2021Q1",
         "2007.0"
        ],
        [
         "1",
         "2021Q2",
         "992.5"
        ],
        [
         "2",
         "2021Q4",
         "1155.0"
        ],
        [
         "3",
         "2022Q1",
         "874.35"
        ],
        [
         "4",
         "2022Q2",
         "2477.6"
        ]
       ],
       "shape": {
        "columns": 2,
        "rows": 5
       }
      },
      "text/html": [
       "<div>\n",
       "<style scoped>\n",
       "    .dataframe tbody tr th:only-of-type {\n",
       "        vertical-align: middle;\n",
       "    }\n",
       "\n",
       "    .dataframe tbody tr th {\n",
       "        vertical-align: top;\n",
       "    }\n",
       "\n",
       "    .dataframe thead th {\n",
       "        text-align: right;\n",
       "    }\n",
       "</style>\n",
       "<table border=\"1\" class=\"dataframe\">\n",
       "  <thead>\n",
       "    <tr style=\"text-align: right;\">\n",
       "      <th></th>\n",
       "      <th>completion_quarter_str</th>\n",
       "      <th>avg_effort_per_project</th>\n",
       "    </tr>\n",
       "  </thead>\n",
       "  <tbody>\n",
       "    <tr>\n",
       "      <th>0</th>\n",
       "      <td>2021Q1</td>\n",
       "      <td>2007.00</td>\n",
       "    </tr>\n",
       "    <tr>\n",
       "      <th>1</th>\n",
       "      <td>2021Q2</td>\n",
       "      <td>992.50</td>\n",
       "    </tr>\n",
       "    <tr>\n",
       "      <th>2</th>\n",
       "      <td>2021Q4</td>\n",
       "      <td>1155.00</td>\n",
       "    </tr>\n",
       "    <tr>\n",
       "      <th>3</th>\n",
       "      <td>2022Q1</td>\n",
       "      <td>874.35</td>\n",
       "    </tr>\n",
       "    <tr>\n",
       "      <th>4</th>\n",
       "      <td>2022Q2</td>\n",
       "      <td>2477.60</td>\n",
       "    </tr>\n",
       "  </tbody>\n",
       "</table>\n",
       "</div>"
      ],
      "text/plain": [
       "  completion_quarter_str  avg_effort_per_project\n",
       "0                 2021Q1                 2007.00\n",
       "1                 2021Q2                  992.50\n",
       "2                 2021Q4                 1155.00\n",
       "3                 2022Q1                  874.35\n",
       "4                 2022Q2                 2477.60"
      ]
     },
     "execution_count": 21,
     "metadata": {},
     "output_type": "execute_result"
    }
   ],
   "source": [
    "quarterly_effort = pd.DataFrame({\n",
    "    'completion_quarter_str': ['2021Q1', '2021Q2', '2021Q4', '2022Q1', '2022Q2', '2022Q3', '2022Q4', \n",
    "                                '2023Q1', '2023Q2', '2023Q3', '2023Q4', '2024Q1', '2024Q2', '2024Q3', \n",
    "                                '2024Q4', '2025Q1', '2025Q2', '2025Q4'],\n",
    "    'avg_effort_per_project': [2007.000000, 992.500000, 1155.000000, 874.350000, 2477.600000, \n",
    "                               879.666667, 1368.000000, 401.062500, 1108.333333, 1340.833333, \n",
    "                               866.000000, 1691.666667, 810.000000, 2761.000000, 2736.500000, \n",
    "                               916.666667, 176.833333, 344.000000]\n",
    "})\n",
    "quarterly_effort.head()"
   ]
  },
  {
   "cell_type": "code",
   "execution_count": 22,
   "id": "3fd18ea5",
   "metadata": {},
   "outputs": [],
   "source": [
    "# Export the final dfs needed for the charts\n",
    "os.makedirs('output', exist_ok=True)\n",
    "bar.to_csv('output/bar.csv', index=False)\n",
    "single_line.to_csv('output/single_line.csv', index=False)\n",
    "multi_line.to_csv('output/multi_line.csv', index=False)\n",
    "quarterly_effort.to_csv('output/quarterly_effort.csv', index=False)"
   ]
  }
 ],
 "metadata": {
  "kernelspec": {
   "display_name": ".venv",
   "language": "python",
   "name": "python3"
  },
  "language_info": {
   "codemirror_mode": {
    "name": "ipython",
    "version": 3
   },
   "file_extension": ".py",
   "mimetype": "text/x-python",
   "name": "python",
   "nbconvert_exporter": "python",
   "pygments_lexer": "ipython3",
   "version": "3.13.7"
  }
 },
 "nbformat": 4,
 "nbformat_minor": 5
}
