{
 "cells": [
  {
   "cell_type": "code",
   "execution_count": 29,
   "id": "93e5f5eb",
   "metadata": {},
   "outputs": [],
   "source": [
    "import pandas as pd\n",
    "import numpy as np\n",
    "import os"
   ]
  },
  {
   "cell_type": "code",
   "execution_count": 30,
   "id": "8ff67587",
   "metadata": {},
   "outputs": [],
   "source": [
    "# Sample data\n",
    "\n",
    "DEFAULT_DATE_RANGE = ('2023-01-01', '2025-01-01')\n",
    "\n",
    "def generate_timeseries_df():\n",
    "    start, end = DEFAULT_DATE_RANGE\n",
    "    idx = pd.date_range(start=start, end=end, freq=\"MS\") # freq month start\n",
    "    n_points = len(idx)\n",
    "    rng = np.random.default_rng(np.random.randint(1, 99))\n",
    "    base = rng.normal(loc=5500, scale=1500, size=n_points)\n",
    "    trend = np.linspace(0, 2000, n_points)\n",
    "    values = np.maximum(base + trend, 1000).astype(float)\n",
    "    values = np.minimum(values, 10000).round(2)\n",
    "    df = pd.DataFrame({\"value\": values})\n",
    "    df.insert(0, \"date\", idx)\n",
    "    return df\n",
    "    \n",
    "def generate_multiline_df():\n",
    "    start, end = DEFAULT_DATE_RANGE\n",
    "    idx = pd.date_range(start=start, end=end, freq=\"MS\")\n",
    "\n",
    "    rng = np.random.default_rng(np.random.randint(1, 99))\n",
    "    region_names = [\"North\", \"South\", \"East\", \"West\"]\n",
    "    frames: list[pd.DataFrame] = []\n",
    "    for i, name in enumerate(region_names):\n",
    "        base = 700_000 + i * 120_000\n",
    "        # Alternate trend direction for some lines\n",
    "        if i % 2 == 0:\n",
    "            trend_slope = 400_000 + i * 50_000\n",
    "            trend = np.linspace(0, trend_slope, len(idx))\n",
    "        else:\n",
    "            trend_slope = 400_000 + i * 50_000\n",
    "            # Down then up: negative slope for first half, positive for second half\n",
    "            half = len(idx) // 2\n",
    "            trend = np.concatenate([\n",
    "                np.linspace(0, -trend_slope, half),\n",
    "                np.linspace(-trend_slope, trend_slope, len(idx) - half)\n",
    "            ])\n",
    "        noise = rng.normal(loc=0, scale=60_000, size=len(idx))\n",
    "        values = np.maximum(base + trend + noise, 0).round(2)\n",
    "        frames.append(pd.DataFrame({\"date\": idx, \"region\": name, \"value\": values}))\n",
    "\n",
    "    df = pd.concat(frames, ignore_index=True)\n",
    "    return df"
   ]
  },
  {
   "cell_type": "code",
   "execution_count": 31,
   "id": "79f1f3f6",
   "metadata": {},
   "outputs": [],
   "source": [
    "bar = generate_timeseries_df()\n",
    "single_line = generate_timeseries_df()\n",
    "multi_line = generate_multiline_df()"
   ]
  },
  {
   "cell_type": "markdown",
   "id": "5f390774",
   "metadata": {},
   "source": [
    "# Bar chart"
   ]
  },
  {
   "cell_type": "code",
   "execution_count": 32,
   "id": "95e40bb1",
   "metadata": {},
   "outputs": [
    {
     "data": {
      "application/vnd.microsoft.datawrangler.viewer.v0+json": {
       "columns": [
        {
         "name": "index",
         "rawType": "int64",
         "type": "integer"
        },
        {
         "name": "date",
         "rawType": "datetime64[ns]",
         "type": "datetime"
        },
        {
         "name": "value",
         "rawType": "float64",
         "type": "float"
        }
       ],
       "ref": "3e36fd71-70c0-4a1b-a2c1-dd94b349d56a",
       "rows": [
        [
         "0",
         "2023-01-01 00:00:00",
         "6863.72"
        ],
        [
         "1",
         "2023-02-01 00:00:00",
         "6710.43"
        ],
        [
         "2",
         "2023-03-01 00:00:00",
         "5628.36"
        ],
        [
         "3",
         "2023-04-01 00:00:00",
         "6728.76"
        ],
        [
         "4",
         "2023-05-01 00:00:00",
         "4856.9"
        ]
       ],
       "shape": {
        "columns": 2,
        "rows": 5
       }
      },
      "text/html": [
       "<div>\n",
       "<style scoped>\n",
       "    .dataframe tbody tr th:only-of-type {\n",
       "        vertical-align: middle;\n",
       "    }\n",
       "\n",
       "    .dataframe tbody tr th {\n",
       "        vertical-align: top;\n",
       "    }\n",
       "\n",
       "    .dataframe thead th {\n",
       "        text-align: right;\n",
       "    }\n",
       "</style>\n",
       "<table border=\"1\" class=\"dataframe\">\n",
       "  <thead>\n",
       "    <tr style=\"text-align: right;\">\n",
       "      <th></th>\n",
       "      <th>date</th>\n",
       "      <th>value</th>\n",
       "    </tr>\n",
       "  </thead>\n",
       "  <tbody>\n",
       "    <tr>\n",
       "      <th>0</th>\n",
       "      <td>2023-01-01</td>\n",
       "      <td>6863.72</td>\n",
       "    </tr>\n",
       "    <tr>\n",
       "      <th>1</th>\n",
       "      <td>2023-02-01</td>\n",
       "      <td>6710.43</td>\n",
       "    </tr>\n",
       "    <tr>\n",
       "      <th>2</th>\n",
       "      <td>2023-03-01</td>\n",
       "      <td>5628.36</td>\n",
       "    </tr>\n",
       "    <tr>\n",
       "      <th>3</th>\n",
       "      <td>2023-04-01</td>\n",
       "      <td>6728.76</td>\n",
       "    </tr>\n",
       "    <tr>\n",
       "      <th>4</th>\n",
       "      <td>2023-05-01</td>\n",
       "      <td>4856.90</td>\n",
       "    </tr>\n",
       "  </tbody>\n",
       "</table>\n",
       "</div>"
      ],
      "text/plain": [
       "        date    value\n",
       "0 2023-01-01  6863.72\n",
       "1 2023-02-01  6710.43\n",
       "2 2023-03-01  5628.36\n",
       "3 2023-04-01  6728.76\n",
       "4 2023-05-01  4856.90"
      ]
     },
     "execution_count": 32,
     "metadata": {},
     "output_type": "execute_result"
    }
   ],
   "source": [
    "bar.head()"
   ]
  },
  {
   "cell_type": "markdown",
   "id": "9638372b",
   "metadata": {},
   "source": [
    "# Single line chart"
   ]
  },
  {
   "cell_type": "code",
   "execution_count": 33,
   "id": "ef856a69",
   "metadata": {},
   "outputs": [
    {
     "data": {
      "application/vnd.microsoft.datawrangler.viewer.v0+json": {
       "columns": [
        {
         "name": "index",
         "rawType": "int64",
         "type": "integer"
        },
        {
         "name": "date",
         "rawType": "datetime64[ns]",
         "type": "datetime"
        },
        {
         "name": "value",
         "rawType": "float64",
         "type": "float"
        }
       ],
       "ref": "2cc445b8-01b1-4db4-8885-828006b4277e",
       "rows": [
        [
         "0",
         "2023-01-01 00:00:00",
         "3786.86"
        ],
        [
         "1",
         "2023-02-01 00:00:00",
         "3979.33"
        ],
        [
         "2",
         "2023-03-01 00:00:00",
         "4530.78"
        ],
        [
         "3",
         "2023-04-01 00:00:00",
         "6902.99"
        ],
        [
         "4",
         "2023-05-01 00:00:00",
         "4276.43"
        ]
       ],
       "shape": {
        "columns": 2,
        "rows": 5
       }
      },
      "text/html": [
       "<div>\n",
       "<style scoped>\n",
       "    .dataframe tbody tr th:only-of-type {\n",
       "        vertical-align: middle;\n",
       "    }\n",
       "\n",
       "    .dataframe tbody tr th {\n",
       "        vertical-align: top;\n",
       "    }\n",
       "\n",
       "    .dataframe thead th {\n",
       "        text-align: right;\n",
       "    }\n",
       "</style>\n",
       "<table border=\"1\" class=\"dataframe\">\n",
       "  <thead>\n",
       "    <tr style=\"text-align: right;\">\n",
       "      <th></th>\n",
       "      <th>date</th>\n",
       "      <th>value</th>\n",
       "    </tr>\n",
       "  </thead>\n",
       "  <tbody>\n",
       "    <tr>\n",
       "      <th>0</th>\n",
       "      <td>2023-01-01</td>\n",
       "      <td>3786.86</td>\n",
       "    </tr>\n",
       "    <tr>\n",
       "      <th>1</th>\n",
       "      <td>2023-02-01</td>\n",
       "      <td>3979.33</td>\n",
       "    </tr>\n",
       "    <tr>\n",
       "      <th>2</th>\n",
       "      <td>2023-03-01</td>\n",
       "      <td>4530.78</td>\n",
       "    </tr>\n",
       "    <tr>\n",
       "      <th>3</th>\n",
       "      <td>2023-04-01</td>\n",
       "      <td>6902.99</td>\n",
       "    </tr>\n",
       "    <tr>\n",
       "      <th>4</th>\n",
       "      <td>2023-05-01</td>\n",
       "      <td>4276.43</td>\n",
       "    </tr>\n",
       "  </tbody>\n",
       "</table>\n",
       "</div>"
      ],
      "text/plain": [
       "        date    value\n",
       "0 2023-01-01  3786.86\n",
       "1 2023-02-01  3979.33\n",
       "2 2023-03-01  4530.78\n",
       "3 2023-04-01  6902.99\n",
       "4 2023-05-01  4276.43"
      ]
     },
     "execution_count": 33,
     "metadata": {},
     "output_type": "execute_result"
    }
   ],
   "source": [
    "single_line.head()"
   ]
  },
  {
   "cell_type": "markdown",
   "id": "234d70f8",
   "metadata": {},
   "source": [
    "# Multi line chart"
   ]
  },
  {
   "cell_type": "code",
   "execution_count": 34,
   "id": "73f64394",
   "metadata": {},
   "outputs": [
    {
     "data": {
      "application/vnd.microsoft.datawrangler.viewer.v0+json": {
       "columns": [
        {
         "name": "index",
         "rawType": "int64",
         "type": "integer"
        },
        {
         "name": "date",
         "rawType": "datetime64[ns]",
         "type": "datetime"
        },
        {
         "name": "region",
         "rawType": "object",
         "type": "string"
        },
        {
         "name": "value",
         "rawType": "float64",
         "type": "float"
        }
       ],
       "ref": "63b3ec06-848b-4c26-84c7-8e79fbaca1b0",
       "rows": [
        [
         "0",
         "2023-01-01 00:00:00",
         "North",
         "676281.92"
        ],
        [
         "1",
         "2023-02-01 00:00:00",
         "North",
         "732501.56"
        ],
        [
         "2",
         "2023-03-01 00:00:00",
         "North",
         "769761.03"
        ],
        [
         "3",
         "2023-04-01 00:00:00",
         "North",
         "691670.41"
        ],
        [
         "4",
         "2023-05-01 00:00:00",
         "North",
         "812726.52"
        ]
       ],
       "shape": {
        "columns": 3,
        "rows": 5
       }
      },
      "text/html": [
       "<div>\n",
       "<style scoped>\n",
       "    .dataframe tbody tr th:only-of-type {\n",
       "        vertical-align: middle;\n",
       "    }\n",
       "\n",
       "    .dataframe tbody tr th {\n",
       "        vertical-align: top;\n",
       "    }\n",
       "\n",
       "    .dataframe thead th {\n",
       "        text-align: right;\n",
       "    }\n",
       "</style>\n",
       "<table border=\"1\" class=\"dataframe\">\n",
       "  <thead>\n",
       "    <tr style=\"text-align: right;\">\n",
       "      <th></th>\n",
       "      <th>date</th>\n",
       "      <th>region</th>\n",
       "      <th>value</th>\n",
       "    </tr>\n",
       "  </thead>\n",
       "  <tbody>\n",
       "    <tr>\n",
       "      <th>0</th>\n",
       "      <td>2023-01-01</td>\n",
       "      <td>North</td>\n",
       "      <td>676281.92</td>\n",
       "    </tr>\n",
       "    <tr>\n",
       "      <th>1</th>\n",
       "      <td>2023-02-01</td>\n",
       "      <td>North</td>\n",
       "      <td>732501.56</td>\n",
       "    </tr>\n",
       "    <tr>\n",
       "      <th>2</th>\n",
       "      <td>2023-03-01</td>\n",
       "      <td>North</td>\n",
       "      <td>769761.03</td>\n",
       "    </tr>\n",
       "    <tr>\n",
       "      <th>3</th>\n",
       "      <td>2023-04-01</td>\n",
       "      <td>North</td>\n",
       "      <td>691670.41</td>\n",
       "    </tr>\n",
       "    <tr>\n",
       "      <th>4</th>\n",
       "      <td>2023-05-01</td>\n",
       "      <td>North</td>\n",
       "      <td>812726.52</td>\n",
       "    </tr>\n",
       "  </tbody>\n",
       "</table>\n",
       "</div>"
      ],
      "text/plain": [
       "        date region      value\n",
       "0 2023-01-01  North  676281.92\n",
       "1 2023-02-01  North  732501.56\n",
       "2 2023-03-01  North  769761.03\n",
       "3 2023-04-01  North  691670.41\n",
       "4 2023-05-01  North  812726.52"
      ]
     },
     "execution_count": 34,
     "metadata": {},
     "output_type": "execute_result"
    }
   ],
   "source": [
    "multi_line.head()"
   ]
  },
  {
   "cell_type": "code",
   "execution_count": 35,
   "id": "3fd18ea5",
   "metadata": {},
   "outputs": [],
   "source": [
    "# Export the final dfs needed for the charts\n",
    "os.makedirs('output', exist_ok=True)\n",
    "bar.to_csv('output/bar.csv', index=False)\n",
    "single_line.to_csv('output/single_line.csv', index=False)\n",
    "multi_line.to_csv('output/multi_line.csv', index=False)\n"
   ]
  }
 ],
 "metadata": {
  "kernelspec": {
   "display_name": ".venv",
   "language": "python",
   "name": "python3"
  },
  "language_info": {
   "codemirror_mode": {
    "name": "ipython",
    "version": 3
   },
   "file_extension": ".py",
   "mimetype": "text/x-python",
   "name": "python",
   "nbconvert_exporter": "python",
   "pygments_lexer": "ipython3",
   "version": "3.13.7"
  }
 },
 "nbformat": 4,
 "nbformat_minor": 5
}
