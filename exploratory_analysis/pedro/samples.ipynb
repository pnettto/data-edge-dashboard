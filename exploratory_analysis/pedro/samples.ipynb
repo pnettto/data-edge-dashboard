{
 "cells": [
  {
   "cell_type": "code",
   "execution_count": 45,
   "id": "93e5f5eb",
   "metadata": {},
   "outputs": [],
   "source": [
    "import pandas as pd\n",
    "import numpy as np\n",
    "import os"
   ]
  },
  {
   "cell_type": "code",
   "execution_count": 46,
   "id": "8ff67587",
   "metadata": {},
   "outputs": [],
   "source": [
    "# Sample data\n",
    "\n",
    "DEFAULT_DATE_RANGE = ('2023-01-01', '2025-01-01')\n",
    "\n",
    "def generate_timeseries_df():\n",
    "    start, end = DEFAULT_DATE_RANGE\n",
    "    idx = pd.date_range(start=start, end=end, freq=\"MS\") # freq month start\n",
    "    n_points = len(idx)\n",
    "    rng = np.random.default_rng(np.random.randint(1, 99))\n",
    "    base = rng.normal(loc=5500, scale=1500, size=n_points)\n",
    "    trend = np.linspace(0, 2000, n_points)\n",
    "    values = np.maximum(base + trend, 1000).astype(float)\n",
    "    values = np.minimum(values, 10000).round(2)\n",
    "    df = pd.DataFrame({\"value\": values})\n",
    "    df.insert(0, \"date\", idx)\n",
    "    return df\n",
    "    \n",
    "def generate_multiline_df():\n",
    "    start, end = DEFAULT_DATE_RANGE\n",
    "    idx = pd.date_range(start=start, end=end, freq=\"MS\")\n",
    "\n",
    "    rng = np.random.default_rng(17)\n",
    "    series_names = [\"North\", \"South\", \"East\", \"West\"]\n",
    "    frames: list[pd.DataFrame] = []\n",
    "    for i, name in enumerate(series_names):\n",
    "        values = np.maximum(\n",
    "            rng.normal(loc=700_000 + i * 120_000, scale=250_000, size=len(idx))\n",
    "            + np.linspace(0, 400_000, len(idx)),\n",
    "            0,\n",
    "        ).round(2)\n",
    "        frames.append(pd.DataFrame({\"date\": idx, \"series\": name, \"value\": values}))\n",
    "\n",
    "    df = pd.concat(frames, ignore_index=True)\n",
    "    return df"
   ]
  },
  {
   "cell_type": "code",
   "execution_count": 47,
   "id": "79f1f3f6",
   "metadata": {},
   "outputs": [],
   "source": [
    "bar = generate_timeseries_df()\n",
    "single_line = generate_timeseries_df()\n",
    "multi_line = generate_multiline_df()"
   ]
  },
  {
   "cell_type": "markdown",
   "id": "5f390774",
   "metadata": {},
   "source": [
    "# Bar chart"
   ]
  },
  {
   "cell_type": "code",
   "execution_count": 48,
   "id": "95e40bb1",
   "metadata": {},
   "outputs": [
    {
     "data": {
      "text/html": [
       "<div>\n",
       "<style scoped>\n",
       "    .dataframe tbody tr th:only-of-type {\n",
       "        vertical-align: middle;\n",
       "    }\n",
       "\n",
       "    .dataframe tbody tr th {\n",
       "        vertical-align: top;\n",
       "    }\n",
       "\n",
       "    .dataframe thead th {\n",
       "        text-align: right;\n",
       "    }\n",
       "</style>\n",
       "<table border=\"1\" class=\"dataframe\">\n",
       "  <thead>\n",
       "    <tr style=\"text-align: right;\">\n",
       "      <th></th>\n",
       "      <th>date</th>\n",
       "      <th>value</th>\n",
       "    </tr>\n",
       "  </thead>\n",
       "  <tbody>\n",
       "    <tr>\n",
       "      <th>0</th>\n",
       "      <td>2023-01-01</td>\n",
       "      <td>5783.58</td>\n",
       "    </tr>\n",
       "    <tr>\n",
       "      <th>1</th>\n",
       "      <td>2023-02-01</td>\n",
       "      <td>4799.21</td>\n",
       "    </tr>\n",
       "    <tr>\n",
       "      <th>2</th>\n",
       "      <td>2023-03-01</td>\n",
       "      <td>5047.07</td>\n",
       "    </tr>\n",
       "    <tr>\n",
       "      <th>3</th>\n",
       "      <td>2023-04-01</td>\n",
       "      <td>2087.80</td>\n",
       "    </tr>\n",
       "    <tr>\n",
       "      <th>4</th>\n",
       "      <td>2023-05-01</td>\n",
       "      <td>8532.89</td>\n",
       "    </tr>\n",
       "  </tbody>\n",
       "</table>\n",
       "</div>"
      ],
      "text/plain": [
       "        date    value\n",
       "0 2023-01-01  5783.58\n",
       "1 2023-02-01  4799.21\n",
       "2 2023-03-01  5047.07\n",
       "3 2023-04-01  2087.80\n",
       "4 2023-05-01  8532.89"
      ]
     },
     "execution_count": 48,
     "metadata": {},
     "output_type": "execute_result"
    }
   ],
   "source": [
    "bar.head()"
   ]
  },
  {
   "cell_type": "markdown",
   "id": "9638372b",
   "metadata": {},
   "source": [
    "# Single line chart"
   ]
  },
  {
   "cell_type": "code",
   "execution_count": 49,
   "id": "ef856a69",
   "metadata": {},
   "outputs": [
    {
     "data": {
      "text/html": [
       "<div>\n",
       "<style scoped>\n",
       "    .dataframe tbody tr th:only-of-type {\n",
       "        vertical-align: middle;\n",
       "    }\n",
       "\n",
       "    .dataframe tbody tr th {\n",
       "        vertical-align: top;\n",
       "    }\n",
       "\n",
       "    .dataframe thead th {\n",
       "        text-align: right;\n",
       "    }\n",
       "</style>\n",
       "<table border=\"1\" class=\"dataframe\">\n",
       "  <thead>\n",
       "    <tr style=\"text-align: right;\">\n",
       "      <th></th>\n",
       "      <th>date</th>\n",
       "      <th>value</th>\n",
       "    </tr>\n",
       "  </thead>\n",
       "  <tbody>\n",
       "    <tr>\n",
       "      <th>0</th>\n",
       "      <td>2023-01-01</td>\n",
       "      <td>4745.63</td>\n",
       "    </tr>\n",
       "    <tr>\n",
       "      <th>1</th>\n",
       "      <td>2023-02-01</td>\n",
       "      <td>7410.17</td>\n",
       "    </tr>\n",
       "    <tr>\n",
       "      <th>2</th>\n",
       "      <td>2023-03-01</td>\n",
       "      <td>5259.99</td>\n",
       "    </tr>\n",
       "    <tr>\n",
       "      <th>3</th>\n",
       "      <td>2023-04-01</td>\n",
       "      <td>6845.27</td>\n",
       "    </tr>\n",
       "    <tr>\n",
       "      <th>4</th>\n",
       "      <td>2023-05-01</td>\n",
       "      <td>4079.38</td>\n",
       "    </tr>\n",
       "  </tbody>\n",
       "</table>\n",
       "</div>"
      ],
      "text/plain": [
       "        date    value\n",
       "0 2023-01-01  4745.63\n",
       "1 2023-02-01  7410.17\n",
       "2 2023-03-01  5259.99\n",
       "3 2023-04-01  6845.27\n",
       "4 2023-05-01  4079.38"
      ]
     },
     "execution_count": 49,
     "metadata": {},
     "output_type": "execute_result"
    }
   ],
   "source": [
    "single_line.head()"
   ]
  },
  {
   "cell_type": "markdown",
   "id": "234d70f8",
   "metadata": {},
   "source": [
    "# Multi line chart"
   ]
  },
  {
   "cell_type": "code",
   "execution_count": 50,
   "id": "73f64394",
   "metadata": {},
   "outputs": [
    {
     "data": {
      "text/html": [
       "<div>\n",
       "<style scoped>\n",
       "    .dataframe tbody tr th:only-of-type {\n",
       "        vertical-align: middle;\n",
       "    }\n",
       "\n",
       "    .dataframe tbody tr th {\n",
       "        vertical-align: top;\n",
       "    }\n",
       "\n",
       "    .dataframe thead th {\n",
       "        text-align: right;\n",
       "    }\n",
       "</style>\n",
       "<table border=\"1\" class=\"dataframe\">\n",
       "  <thead>\n",
       "    <tr style=\"text-align: right;\">\n",
       "      <th></th>\n",
       "      <th>date</th>\n",
       "      <th>series</th>\n",
       "      <th>value</th>\n",
       "    </tr>\n",
       "  </thead>\n",
       "  <tbody>\n",
       "    <tr>\n",
       "      <th>0</th>\n",
       "      <td>2023-01-01</td>\n",
       "      <td>North</td>\n",
       "      <td>975315.61</td>\n",
       "    </tr>\n",
       "    <tr>\n",
       "      <th>1</th>\n",
       "      <td>2023-02-01</td>\n",
       "      <td>North</td>\n",
       "      <td>801274.49</td>\n",
       "    </tr>\n",
       "    <tr>\n",
       "      <th>2</th>\n",
       "      <td>2023-03-01</td>\n",
       "      <td>North</td>\n",
       "      <td>598340.45</td>\n",
       "    </tr>\n",
       "    <tr>\n",
       "      <th>3</th>\n",
       "      <td>2023-04-01</td>\n",
       "      <td>North</td>\n",
       "      <td>434939.54</td>\n",
       "    </tr>\n",
       "    <tr>\n",
       "      <th>4</th>\n",
       "      <td>2023-05-01</td>\n",
       "      <td>North</td>\n",
       "      <td>293011.35</td>\n",
       "    </tr>\n",
       "  </tbody>\n",
       "</table>\n",
       "</div>"
      ],
      "text/plain": [
       "        date series      value\n",
       "0 2023-01-01  North  975315.61\n",
       "1 2023-02-01  North  801274.49\n",
       "2 2023-03-01  North  598340.45\n",
       "3 2023-04-01  North  434939.54\n",
       "4 2023-05-01  North  293011.35"
      ]
     },
     "execution_count": 50,
     "metadata": {},
     "output_type": "execute_result"
    }
   ],
   "source": [
    "multi_line.head()"
   ]
  },
  {
   "cell_type": "code",
   "execution_count": 51,
   "id": "3fd18ea5",
   "metadata": {},
   "outputs": [],
   "source": [
    "# Export the final dfs needed for the charts\n",
    "os.makedirs('output', exist_ok=True)\n",
    "bar.to_csv('output/bar.csv', index=False)\n",
    "single_line.to_csv('output/single_line.csv', index=False)\n",
    "multi_line.to_csv('output/multi_line.csv', index=False)\n"
   ]
  }
 ],
 "metadata": {
  "kernelspec": {
   "display_name": ".venv",
   "language": "python",
   "name": "python3"
  },
  "language_info": {
   "codemirror_mode": {
    "name": "ipython",
    "version": 3
   },
   "file_extension": ".py",
   "mimetype": "text/x-python",
   "name": "python",
   "nbconvert_exporter": "python",
   "pygments_lexer": "ipython3",
   "version": "3.13.7"
  }
 },
 "nbformat": 4,
 "nbformat_minor": 5
}
