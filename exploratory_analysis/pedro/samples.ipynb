{
 "cells": [
  {
   "cell_type": "code",
   "execution_count": 15,
   "id": "93e5f5eb",
   "metadata": {},
   "outputs": [],
   "source": [
    "import pandas as pd\n",
    "import numpy as np\n",
    "import os"
   ]
  },
  {
   "cell_type": "code",
   "execution_count": 16,
   "id": "8ff67587",
   "metadata": {},
   "outputs": [],
   "source": [
    "# Sample data\n",
    "\n",
    "DEFAULT_DATE_RANGE = ('2023-01-01', '2025-01-01')\n",
    "\n",
    "def generate_timeseries_df():\n",
    "    start, end = DEFAULT_DATE_RANGE\n",
    "    idx = pd.date_range(start=start, end=end, freq=\"MS\") # freq month start\n",
    "    n_points = len(idx)\n",
    "    rng = np.random.default_rng(np.random.randint(1, 99))\n",
    "    base = rng.normal(loc=5500, scale=1500, size=n_points)\n",
    "    trend = np.linspace(0, 2000, n_points)\n",
    "    values = np.maximum(base + trend, 1000).astype(float)\n",
    "    values = np.minimum(values, 10000).round(2)\n",
    "    df = pd.DataFrame({\"value\": values})\n",
    "    df.insert(0, \"date\", idx)\n",
    "    return df\n",
    "    \n",
    "def generate_multiline_df():\n",
    "    start, end = DEFAULT_DATE_RANGE\n",
    "    idx = pd.date_range(start=start, end=end, freq=\"MS\")\n",
    "\n",
    "    rng = np.random.default_rng(np.random.randint(1, 99))\n",
    "    series_names = [\"North\", \"South\", \"East\", \"West\"]\n",
    "    frames: list[pd.DataFrame] = []\n",
    "    for i, name in enumerate(series_names):\n",
    "        values = np.maximum(\n",
    "            rng.normal(loc=700_000 + i * 120_000, scale=250_000, size=len(idx))\n",
    "            + np.linspace(0, 400_000, len(idx)),\n",
    "            0,\n",
    "        ).round(2)\n",
    "        frames.append(pd.DataFrame({\"date\": idx, \"series\": name, \"value\": values}))\n",
    "\n",
    "    df = pd.concat(frames, ignore_index=True)\n",
    "    return df"
   ]
  },
  {
   "cell_type": "code",
   "execution_count": 17,
   "id": "79f1f3f6",
   "metadata": {},
   "outputs": [],
   "source": [
    "bar = generate_timeseries_df()\n",
    "single_line = generate_timeseries_df()\n",
    "multi_line = generate_multiline_df()"
   ]
  },
  {
   "cell_type": "markdown",
   "id": "5f390774",
   "metadata": {},
   "source": [
    "# Bar chart"
   ]
  },
  {
   "cell_type": "code",
   "execution_count": 18,
   "id": "95e40bb1",
   "metadata": {},
   "outputs": [
    {
     "data": {
      "text/html": [
       "<div>\n",
       "<style scoped>\n",
       "    .dataframe tbody tr th:only-of-type {\n",
       "        vertical-align: middle;\n",
       "    }\n",
       "\n",
       "    .dataframe tbody tr th {\n",
       "        vertical-align: top;\n",
       "    }\n",
       "\n",
       "    .dataframe thead th {\n",
       "        text-align: right;\n",
       "    }\n",
       "</style>\n",
       "<table border=\"1\" class=\"dataframe\">\n",
       "  <thead>\n",
       "    <tr style=\"text-align: right;\">\n",
       "      <th></th>\n",
       "      <th>date</th>\n",
       "      <th>value</th>\n",
       "    </tr>\n",
       "  </thead>\n",
       "  <tbody>\n",
       "    <tr>\n",
       "      <th>0</th>\n",
       "      <td>2023-01-01</td>\n",
       "      <td>5038.56</td>\n",
       "    </tr>\n",
       "    <tr>\n",
       "      <th>1</th>\n",
       "      <td>2023-02-01</td>\n",
       "      <td>7607.72</td>\n",
       "    </tr>\n",
       "    <tr>\n",
       "      <th>2</th>\n",
       "      <td>2023-03-01</td>\n",
       "      <td>5955.91</td>\n",
       "    </tr>\n",
       "    <tr>\n",
       "      <th>3</th>\n",
       "      <td>2023-04-01</td>\n",
       "      <td>7859.84</td>\n",
       "    </tr>\n",
       "    <tr>\n",
       "      <th>4</th>\n",
       "      <td>2023-05-01</td>\n",
       "      <td>6076.64</td>\n",
       "    </tr>\n",
       "  </tbody>\n",
       "</table>\n",
       "</div>"
      ],
      "text/plain": [
       "        date    value\n",
       "0 2023-01-01  5038.56\n",
       "1 2023-02-01  7607.72\n",
       "2 2023-03-01  5955.91\n",
       "3 2023-04-01  7859.84\n",
       "4 2023-05-01  6076.64"
      ]
     },
     "execution_count": 18,
     "metadata": {},
     "output_type": "execute_result"
    }
   ],
   "source": [
    "bar.head()"
   ]
  },
  {
   "cell_type": "markdown",
   "id": "9638372b",
   "metadata": {},
   "source": [
    "# Single line chart"
   ]
  },
  {
   "cell_type": "code",
   "execution_count": 19,
   "id": "ef856a69",
   "metadata": {},
   "outputs": [
    {
     "data": {
      "text/html": [
       "<div>\n",
       "<style scoped>\n",
       "    .dataframe tbody tr th:only-of-type {\n",
       "        vertical-align: middle;\n",
       "    }\n",
       "\n",
       "    .dataframe tbody tr th {\n",
       "        vertical-align: top;\n",
       "    }\n",
       "\n",
       "    .dataframe thead th {\n",
       "        text-align: right;\n",
       "    }\n",
       "</style>\n",
       "<table border=\"1\" class=\"dataframe\">\n",
       "  <thead>\n",
       "    <tr style=\"text-align: right;\">\n",
       "      <th></th>\n",
       "      <th>date</th>\n",
       "      <th>value</th>\n",
       "    </tr>\n",
       "  </thead>\n",
       "  <tbody>\n",
       "    <tr>\n",
       "      <th>0</th>\n",
       "      <td>2023-01-01</td>\n",
       "      <td>4261.07</td>\n",
       "    </tr>\n",
       "    <tr>\n",
       "      <th>1</th>\n",
       "      <td>2023-02-01</td>\n",
       "      <td>5947.09</td>\n",
       "    </tr>\n",
       "    <tr>\n",
       "      <th>2</th>\n",
       "      <td>2023-03-01</td>\n",
       "      <td>5570.89</td>\n",
       "    </tr>\n",
       "    <tr>\n",
       "      <th>3</th>\n",
       "      <td>2023-04-01</td>\n",
       "      <td>5608.45</td>\n",
       "    </tr>\n",
       "    <tr>\n",
       "      <th>4</th>\n",
       "      <td>2023-05-01</td>\n",
       "      <td>6318.51</td>\n",
       "    </tr>\n",
       "  </tbody>\n",
       "</table>\n",
       "</div>"
      ],
      "text/plain": [
       "        date    value\n",
       "0 2023-01-01  4261.07\n",
       "1 2023-02-01  5947.09\n",
       "2 2023-03-01  5570.89\n",
       "3 2023-04-01  5608.45\n",
       "4 2023-05-01  6318.51"
      ]
     },
     "execution_count": 19,
     "metadata": {},
     "output_type": "execute_result"
    }
   ],
   "source": [
    "single_line.head()"
   ]
  },
  {
   "cell_type": "markdown",
   "id": "234d70f8",
   "metadata": {},
   "source": [
    "# Multi line chart"
   ]
  },
  {
   "cell_type": "code",
   "execution_count": 20,
   "id": "73f64394",
   "metadata": {},
   "outputs": [
    {
     "data": {
      "text/html": [
       "<div>\n",
       "<style scoped>\n",
       "    .dataframe tbody tr th:only-of-type {\n",
       "        vertical-align: middle;\n",
       "    }\n",
       "\n",
       "    .dataframe tbody tr th {\n",
       "        vertical-align: top;\n",
       "    }\n",
       "\n",
       "    .dataframe thead th {\n",
       "        text-align: right;\n",
       "    }\n",
       "</style>\n",
       "<table border=\"1\" class=\"dataframe\">\n",
       "  <thead>\n",
       "    <tr style=\"text-align: right;\">\n",
       "      <th></th>\n",
       "      <th>date</th>\n",
       "      <th>series</th>\n",
       "      <th>value</th>\n",
       "    </tr>\n",
       "  </thead>\n",
       "  <tbody>\n",
       "    <tr>\n",
       "      <th>0</th>\n",
       "      <td>2023-01-01</td>\n",
       "      <td>North</td>\n",
       "      <td>910565.33</td>\n",
       "    </tr>\n",
       "    <tr>\n",
       "      <th>1</th>\n",
       "      <td>2023-02-01</td>\n",
       "      <td>North</td>\n",
       "      <td>0.00</td>\n",
       "    </tr>\n",
       "    <tr>\n",
       "      <th>2</th>\n",
       "      <td>2023-03-01</td>\n",
       "      <td>North</td>\n",
       "      <td>657077.36</td>\n",
       "    </tr>\n",
       "    <tr>\n",
       "      <th>3</th>\n",
       "      <td>2023-04-01</td>\n",
       "      <td>North</td>\n",
       "      <td>1112471.98</td>\n",
       "    </tr>\n",
       "    <tr>\n",
       "      <th>4</th>\n",
       "      <td>2023-05-01</td>\n",
       "      <td>North</td>\n",
       "      <td>455676.30</td>\n",
       "    </tr>\n",
       "  </tbody>\n",
       "</table>\n",
       "</div>"
      ],
      "text/plain": [
       "        date series       value\n",
       "0 2023-01-01  North   910565.33\n",
       "1 2023-02-01  North        0.00\n",
       "2 2023-03-01  North   657077.36\n",
       "3 2023-04-01  North  1112471.98\n",
       "4 2023-05-01  North   455676.30"
      ]
     },
     "execution_count": 20,
     "metadata": {},
     "output_type": "execute_result"
    }
   ],
   "source": [
    "multi_line.head()"
   ]
  },
  {
   "cell_type": "code",
   "execution_count": 21,
   "id": "3fd18ea5",
   "metadata": {},
   "outputs": [],
   "source": [
    "# Export the final dfs needed for the charts\n",
    "os.makedirs('output', exist_ok=True)\n",
    "bar.to_csv('output/bar.csv', index=False)\n",
    "single_line.to_csv('output/single_line.csv', index=False)\n",
    "multi_line.to_csv('output/multi_line.csv', index=False)\n"
   ]
  }
 ],
 "metadata": {
  "kernelspec": {
   "display_name": ".venv",
   "language": "python",
   "name": "python3"
  },
  "language_info": {
   "codemirror_mode": {
    "name": "ipython",
    "version": 3
   },
   "file_extension": ".py",
   "mimetype": "text/x-python",
   "name": "python",
   "nbconvert_exporter": "python",
   "pygments_lexer": "ipython3",
   "version": "3.13.7"
  }
 },
 "nbformat": 4,
 "nbformat_minor": 5
}
