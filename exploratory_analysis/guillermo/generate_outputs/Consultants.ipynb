{
 "cells": [
  {
   "cell_type": "code",
   "execution_count": 1,
   "id": "7bda4b24",
   "metadata": {},
   "outputs": [
    {
     "name": "stdout",
     "output_type": "stream",
     "text": [
      "Data-Edge BI Analysis: People & Distribution Exploration\n",
      "======================================================================\n"
     ]
    }
   ],
   "source": [
    "import pandas as pd\n",
    "import numpy as np\n",
    "import matplotlib.pyplot as plt\n",
    "import seaborn as sns\n",
    "from pathlib import Path\n",
    "from datetime import datetime\n",
    "\n",
    "# Set up paths\n",
    "REPO_ROOT = Path().resolve().parent if Path().resolve().name == 'notebooks' else Path().resolve()\n",
    "RAW_DIR = REPO_ROOT / \"data\" / \"raw\"\n",
    "LINKING_DIR = REPO_ROOT / \"data\" / \"processed\" / \"linking_tables\"\n",
    "\n",
    "# Set display options\n",
    "pd.set_option('display.max_columns', None)\n",
    "pd.set_option('display.max_rows', 100)\n",
    "pd.set_option('display.width', None)\n",
    "\n",
    "print(\"Data-Edge BI Analysis: People & Distribution Exploration\")\n",
    "print(\"=\" * 70)\n"
   ]
  },
  {
   "cell_type": "code",
   "execution_count": 5,
   "id": "3d0cda5d",
   "metadata": {},
   "outputs": [
    {
     "name": "stdout",
     "output_type": "stream",
     "text": [
      "Loaded 11 identity mappings\n",
      "Loaded 11 enriched person records\n",
      "Loaded 9808 time entries\n",
      "Loaded 13 HR records\n"
     ]
    }
   ],
   "source": [
    "# Load the master identity map and enriched data\n",
    "identity_map_path = LINKING_DIR / \"export__identity_map__20251006.csv\"\n",
    "enriched_matches_path = LINKING_DIR / \"export__enriched_matches__20251006.csv\"\n",
    "time_entries_path = RAW_DIR / \"fct__time_entries.csv\"\n",
    "hr_path = RAW_DIR / \"dim__notion_hr__anonymized.csv\"\n",
    "\n",
    "df_identity_map = pd.read_csv(identity_map_path)\n",
    "df_enriched_matches = pd.read_csv(enriched_matches_path)\n",
    "df_time_entries = pd.read_csv(time_entries_path)\n",
    "df_hr = pd.read_csv(hr_path)\n",
    "\n",
    "print(f\"Loaded {len(df_identity_map)} identity mappings\")\n",
    "print(f\"Loaded {len(df_enriched_matches)} enriched person records\")\n",
    "print(f\"Loaded {len(df_time_entries)} time entries\")\n",
    "print(f\"Loaded {len(df_hr)} HR records\")"
   ]
  },
  {
   "cell_type": "code",
   "execution_count": null,
   "id": "f0b630c5",
   "metadata": {},
   "outputs": [],
   "source": []
  },
  {
   "cell_type": "code",
   "execution_count": null,
   "id": "9bffca61",
   "metadata": {},
   "outputs": [],
   "source": []
  },
  {
   "cell_type": "code",
   "execution_count": null,
   "id": "29946f71",
   "metadata": {},
   "outputs": [],
   "source": []
  }
 ],
 "metadata": {
  "kernelspec": {
   "display_name": ".venv",
   "language": "python",
   "name": "python3"
  },
  "language_info": {
   "codemirror_mode": {
    "name": "ipython",
    "version": 3
   },
   "file_extension": ".py",
   "mimetype": "text/x-python",
   "name": "python",
   "nbconvert_exporter": "python",
   "pygments_lexer": "ipython3",
   "version": "3.11.5"
  }
 },
 "nbformat": 4,
 "nbformat_minor": 5
}
