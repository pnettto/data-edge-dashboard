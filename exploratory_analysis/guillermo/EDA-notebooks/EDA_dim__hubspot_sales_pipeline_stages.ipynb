{
 "cells": [
  {
   "cell_type": "markdown",
   "id": "9e3db5ea",
   "metadata": {},
   "source": [
    "# Exploratory Data Analysis - Employee Dimension Data\n",
    "This notebook performs EDA on the `dim_employees_anon.csv` file from the Data Edge Internal Data folder."
   ]
  },
  {
   "cell_type": "code",
   "execution_count": 1,
   "id": "c0bb4289",
   "metadata": {},
   "outputs": [],
   "source": [
    "# Import Required Libraries\n",
    "import pandas as pd\n",
    "import numpy as np\n",
    "import matplotlib.pyplot as plt\n",
    "import seaborn as sns\n",
    "import os\n",
    "from pathlib import Path\n",
    "\n",
    "# Set display options\n",
    "pd.set_option('display.max_columns', None)\n",
    "pd.set_option('display.max_rows', 100)\n",
    "plt.style.use('seaborn-v0_8')\n",
    "sns.set_palette(\"husl\")"
   ]
  },
  {
   "cell_type": "code",
   "execution_count": 2,
   "id": "84e77748",
   "metadata": {},
   "outputs": [
    {
     "name": "stdout",
     "output_type": "stream",
     "text": [
      "✓ File found: c:\\Users\\guine\\Documents\\BC#4\\Hyper_python\\BI project\\Data Edge Internal Data\\dim__hubspot_sales_pipeline_stages.csv\n",
      "File size: 347 bytes\n"
     ]
    }
   ],
   "source": [
    "# Set Data Directory Path\n",
    "data_dir = r\"c:\\Users\\guine\\Documents\\BC#4\\Hyper_python\\BI project\\Data Edge Internal Data\"\n",
    "file_path = os.path.join(data_dir, \"dim__hubspot_sales_pipeline_stages.csv\")\n",
    "\n",
    "# Verify file exists\n",
    "if os.path.exists(file_path):\n",
    "    print(f\"✓ File found: {file_path}\")\n",
    "    print(f\"File size: {os.path.getsize(file_path)} bytes\")\n",
    "else:\n",
    "    print(f\"✗ File not found: {file_path}\")"
   ]
  },
  {
   "cell_type": "code",
   "execution_count": 6,
   "id": "3f94f491",
   "metadata": {},
   "outputs": [
    {
     "name": "stdout",
     "output_type": "stream",
     "text": [
      "✓ Data loaded successfully!\n",
      "Dataset shape: (6, 6)\n"
     ]
    }
   ],
   "source": [
    "# Load Employee Data\n",
    "try:\n",
    "    df_sales_hub = pd.read_csv(file_path)\n",
    "    print(\"✓ Data loaded successfully!\")\n",
    "    print(f\"Dataset shape: {df_sales_hub.shape}\")\n",
    "except Exception as e:\n",
    "    print(f\"✗ Error loading data: {e}\")"
   ]
  },
  {
   "cell_type": "markdown",
   "id": "77836a01",
   "metadata": {},
   "source": [
    "## Dataset Overview"
   ]
  },
  {
   "cell_type": "code",
   "execution_count": 7,
   "id": "b5e1dbef",
   "metadata": {},
   "outputs": [
    {
     "name": "stdout",
     "output_type": "stream",
     "text": [
      "=== BASIC INFORMATION ===\n",
      "Shape: (6, 6)\n",
      "Columns: ['pipeline_stage_id', 'pipeline_stage_order', 'pipeline_stage', 'close_probability', 'stage_is_archived', 'deal_is_closed']\n",
      "Data types:\n",
      "pipeline_stage_id        object\n",
      "pipeline_stage_order      int64\n",
      "pipeline_stage           object\n",
      "close_probability       float64\n",
      "stage_is_archived          bool\n",
      "deal_is_closed             bool\n",
      "dtype: object\n",
      "\n",
      "Memory usage: 1.02 KB\n"
     ]
    }
   ],
   "source": [
    "# Basic Information\n",
    "print(\"=== BASIC INFORMATION ===\")\n",
    "print(f\"Shape: {df_sales_hub.shape}\")\n",
    "print(f\"Columns: {list(df_sales_hub.columns)}\")\n",
    "print(f\"Data types:\\n{df_sales_hub.dtypes}\")\n",
    "print(f\"\\nMemory usage: {df_sales_hub.memory_usage(deep=True).sum() / 1024:.2f} KB\")"
   ]
  },
  {
   "cell_type": "code",
   "execution_count": 8,
   "id": "a44890b6",
   "metadata": {},
   "outputs": [
    {
     "name": "stdout",
     "output_type": "stream",
     "text": [
      "=== FIRST 5 ROWS ===\n"
     ]
    },
    {
     "data": {
      "text/html": [
       "<div>\n",
       "<style scoped>\n",
       "    .dataframe tbody tr th:only-of-type {\n",
       "        vertical-align: middle;\n",
       "    }\n",
       "\n",
       "    .dataframe tbody tr th {\n",
       "        vertical-align: top;\n",
       "    }\n",
       "\n",
       "    .dataframe thead th {\n",
       "        text-align: right;\n",
       "    }\n",
       "</style>\n",
       "<table border=\"1\" class=\"dataframe\">\n",
       "  <thead>\n",
       "    <tr style=\"text-align: right;\">\n",
       "      <th></th>\n",
       "      <th>pipeline_stage_id</th>\n",
       "      <th>pipeline_stage_order</th>\n",
       "      <th>pipeline_stage</th>\n",
       "      <th>close_probability</th>\n",
       "      <th>stage_is_archived</th>\n",
       "      <th>deal_is_closed</th>\n",
       "    </tr>\n",
       "  </thead>\n",
       "  <tbody>\n",
       "    <tr>\n",
       "      <th>0</th>\n",
       "      <td>1102499</td>\n",
       "      <td>1</td>\n",
       "      <td>Qualification</td>\n",
       "      <td>0.2</td>\n",
       "      <td>False</td>\n",
       "      <td>False</td>\n",
       "    </tr>\n",
       "    <tr>\n",
       "      <th>1</th>\n",
       "      <td>12008384</td>\n",
       "      <td>0</td>\n",
       "      <td>Lead</td>\n",
       "      <td>0.1</td>\n",
       "      <td>False</td>\n",
       "      <td>False</td>\n",
       "    </tr>\n",
       "    <tr>\n",
       "      <th>2</th>\n",
       "      <td>qualifiedtobuy</td>\n",
       "      <td>3</td>\n",
       "      <td>Proposal</td>\n",
       "      <td>0.6</td>\n",
       "      <td>False</td>\n",
       "      <td>False</td>\n",
       "    </tr>\n",
       "    <tr>\n",
       "      <th>3</th>\n",
       "      <td>appointmentscheduled</td>\n",
       "      <td>2</td>\n",
       "      <td>Exploration</td>\n",
       "      <td>0.4</td>\n",
       "      <td>False</td>\n",
       "      <td>False</td>\n",
       "    </tr>\n",
       "    <tr>\n",
       "      <th>4</th>\n",
       "      <td>closedlost</td>\n",
       "      <td>5</td>\n",
       "      <td>Closed Lost</td>\n",
       "      <td>0.0</td>\n",
       "      <td>False</td>\n",
       "      <td>True</td>\n",
       "    </tr>\n",
       "  </tbody>\n",
       "</table>\n",
       "</div>"
      ],
      "text/plain": [
       "      pipeline_stage_id  pipeline_stage_order pipeline_stage  \\\n",
       "0               1102499                     1  Qualification   \n",
       "1              12008384                     0           Lead   \n",
       "2        qualifiedtobuy                     3       Proposal   \n",
       "3  appointmentscheduled                     2    Exploration   \n",
       "4            closedlost                     5    Closed Lost   \n",
       "\n",
       "   close_probability  stage_is_archived  deal_is_closed  \n",
       "0                0.2              False           False  \n",
       "1                0.1              False           False  \n",
       "2                0.6              False           False  \n",
       "3                0.4              False           False  \n",
       "4                0.0              False            True  "
      ]
     },
     "metadata": {},
     "output_type": "display_data"
    },
    {
     "name": "stdout",
     "output_type": "stream",
     "text": [
      "\n",
      "=== LAST 5 ROWS ===\n"
     ]
    },
    {
     "data": {
      "text/html": [
       "<div>\n",
       "<style scoped>\n",
       "    .dataframe tbody tr th:only-of-type {\n",
       "        vertical-align: middle;\n",
       "    }\n",
       "\n",
       "    .dataframe tbody tr th {\n",
       "        vertical-align: top;\n",
       "    }\n",
       "\n",
       "    .dataframe thead th {\n",
       "        text-align: right;\n",
       "    }\n",
       "</style>\n",
       "<table border=\"1\" class=\"dataframe\">\n",
       "  <thead>\n",
       "    <tr style=\"text-align: right;\">\n",
       "      <th></th>\n",
       "      <th>pipeline_stage_id</th>\n",
       "      <th>pipeline_stage_order</th>\n",
       "      <th>pipeline_stage</th>\n",
       "      <th>close_probability</th>\n",
       "      <th>stage_is_archived</th>\n",
       "      <th>deal_is_closed</th>\n",
       "    </tr>\n",
       "  </thead>\n",
       "  <tbody>\n",
       "    <tr>\n",
       "      <th>1</th>\n",
       "      <td>12008384</td>\n",
       "      <td>0</td>\n",
       "      <td>Lead</td>\n",
       "      <td>0.1</td>\n",
       "      <td>False</td>\n",
       "      <td>False</td>\n",
       "    </tr>\n",
       "    <tr>\n",
       "      <th>2</th>\n",
       "      <td>qualifiedtobuy</td>\n",
       "      <td>3</td>\n",
       "      <td>Proposal</td>\n",
       "      <td>0.6</td>\n",
       "      <td>False</td>\n",
       "      <td>False</td>\n",
       "    </tr>\n",
       "    <tr>\n",
       "      <th>3</th>\n",
       "      <td>appointmentscheduled</td>\n",
       "      <td>2</td>\n",
       "      <td>Exploration</td>\n",
       "      <td>0.4</td>\n",
       "      <td>False</td>\n",
       "      <td>False</td>\n",
       "    </tr>\n",
       "    <tr>\n",
       "      <th>4</th>\n",
       "      <td>closedlost</td>\n",
       "      <td>5</td>\n",
       "      <td>Closed Lost</td>\n",
       "      <td>0.0</td>\n",
       "      <td>False</td>\n",
       "      <td>True</td>\n",
       "    </tr>\n",
       "    <tr>\n",
       "      <th>5</th>\n",
       "      <td>closedwon</td>\n",
       "      <td>4</td>\n",
       "      <td>Closed Won</td>\n",
       "      <td>1.0</td>\n",
       "      <td>False</td>\n",
       "      <td>True</td>\n",
       "    </tr>\n",
       "  </tbody>\n",
       "</table>\n",
       "</div>"
      ],
      "text/plain": [
       "      pipeline_stage_id  pipeline_stage_order pipeline_stage  \\\n",
       "1              12008384                     0           Lead   \n",
       "2        qualifiedtobuy                     3       Proposal   \n",
       "3  appointmentscheduled                     2    Exploration   \n",
       "4            closedlost                     5    Closed Lost   \n",
       "5             closedwon                     4     Closed Won   \n",
       "\n",
       "   close_probability  stage_is_archived  deal_is_closed  \n",
       "1                0.1              False           False  \n",
       "2                0.6              False           False  \n",
       "3                0.4              False           False  \n",
       "4                0.0              False            True  \n",
       "5                1.0              False            True  "
      ]
     },
     "metadata": {},
     "output_type": "display_data"
    }
   ],
   "source": [
    "# First Few Rows\n",
    "print(\"=== FIRST 5 ROWS ===\")\n",
    "display(df_sales_hub.head())\n",
    "\n",
    "print(\"\\n=== LAST 5 ROWS ===\")\n",
    "display(df_sales_hub.tail())"
   ]
  },
  {
   "cell_type": "markdown",
   "id": "09fabfea",
   "metadata": {},
   "source": [
    "## Data Quality Assessment"
   ]
  },
  {
   "cell_type": "code",
   "execution_count": 9,
   "id": "7a3d6858",
   "metadata": {},
   "outputs": [
    {
     "name": "stdout",
     "output_type": "stream",
     "text": [
      "=== MISSING VALUES ===\n",
      "Empty DataFrame\n",
      "Columns: [Missing Count, Missing Percentage]\n",
      "Index: []\n",
      "\n",
      "=== DUPLICATES ===\n",
      "Total duplicated rows: 0\n",
      "Percentage of duplicates: 0.00%\n"
     ]
    }
   ],
   "source": [
    "# Missing Values Analysis\n",
    "print(\"=== MISSING VALUES ===\")\n",
    "missing_data = df_sales_hub.isnull().sum()\n",
    "missing_percent = (missing_data / len(df_sales_hub)) * 100\n",
    "missing_df = pd.DataFrame({\n",
    "    'Missing Count': missing_data,\n",
    "    'Missing Percentage': missing_percent\n",
    "}).sort_values('Missing Count', ascending=False)\n",
    "\n",
    "print(missing_df[missing_df['Missing Count'] > 0])\n",
    "\n",
    "# Duplicates\n",
    "print(f\"\\n=== DUPLICATES ===\")\n",
    "print(f\"Total duplicated rows: {df_sales_hub.duplicated().sum()}\")\n",
    "print(f\"Percentage of duplicates: {(df_sales_hub.duplicated().sum() / len(df_sales_hub)) * 100:.2f}%\")"
   ]
  },
  {
   "cell_type": "markdown",
   "id": "9c967c82",
   "metadata": {},
   "source": [
    "## Statistical Summary"
   ]
  },
  {
   "cell_type": "code",
   "execution_count": null,
   "id": "aa22f831",
   "metadata": {},
   "outputs": [
    {
     "name": "stdout",
     "output_type": "stream",
     "text": [
      "=== IS_ACTIVE COLUMN SUMMARY ===\n"
     ]
    }
   ],
   "source": []
  },
  {
   "cell_type": "code",
   "execution_count": null,
   "id": "b95d58f6",
   "metadata": {},
   "outputs": [],
   "source": []
  }
 ],
 "metadata": {
  "kernelspec": {
   "display_name": ".venv",
   "language": "python",
   "name": "python3"
  },
  "language_info": {
   "codemirror_mode": {
    "name": "ipython",
    "version": 3
   },
   "file_extension": ".py",
   "mimetype": "text/x-python",
   "name": "python",
   "nbconvert_exporter": "python",
   "pygments_lexer": "ipython3",
   "version": "3.11.5"
  }
 },
 "nbformat": 4,
 "nbformat_minor": 5
}
