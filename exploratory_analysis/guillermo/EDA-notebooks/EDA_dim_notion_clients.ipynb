{
 "cells": [
  {
   "cell_type": "code",
   "execution_count": 1,
   "id": "e488d958",
   "metadata": {},
   "outputs": [],
   "source": [
    "# Import Required Libraries\n",
    "import pandas as pd\n",
    "import numpy as np\n",
    "import matplotlib.pyplot as plt\n",
    "import seaborn as sns\n",
    "import os\n",
    "from pathlib import Path\n",
    "\n",
    "# Set display options\n",
    "pd.set_option('display.max_columns', None)\n",
    "pd.set_option('display.max_rows', 100)\n",
    "plt.style.use('seaborn-v0_8')\n",
    "sns.set_palette(\"husl\")"
   ]
  },
  {
   "cell_type": "code",
   "execution_count": 2,
   "id": "23931382",
   "metadata": {},
   "outputs": [
    {
     "name": "stdout",
     "output_type": "stream",
     "text": [
      "✓ File found: c:\\Users\\guine\\Documents\\BC#4\\Hyper_python\\BI project\\Data Edge Internal Data\\dim__notion_clients__anonymized.csv\n",
      "File size: 5535 bytes\n"
     ]
    }
   ],
   "source": [
    "# Set Data Directory Path\n",
    "data_dir = r\"c:\\Users\\guine\\Documents\\BC#4\\Hyper_python\\BI project\\Data Edge Internal Data\"\n",
    "file_path = os.path.join(data_dir, \"dim__notion_clients__anonymized.csv\")\n",
    "\n",
    "# Verify file exists\n",
    "if os.path.exists(file_path):\n",
    "    print(f\"✓ File found: {file_path}\")\n",
    "    print(f\"File size: {os.path.getsize(file_path)} bytes\")\n",
    "else:\n",
    "    print(f\"✗ File not found: {file_path}\")"
   ]
  },
  {
   "cell_type": "code",
   "execution_count": 3,
   "id": "26143065",
   "metadata": {},
   "outputs": [
    {
     "name": "stdout",
     "output_type": "stream",
     "text": [
      "✓ Data loaded successfully!\n",
      "Dataset shape: (48, 10)\n"
     ]
    }
   ],
   "source": [
    "# Load Client Data\n",
    "try:\n",
    "    df_clients = pd.read_csv(file_path)\n",
    "    print(\"✓ Data loaded successfully!\")\n",
    "    print(f\"Dataset shape: {df_clients.shape}\")\n",
    "except Exception as e:\n",
    "    print(f\"✗ Error loading data: {e}\")"
   ]
  },
  {
   "cell_type": "code",
   "execution_count": 4,
   "id": "2bdcbd26",
   "metadata": {},
   "outputs": [
    {
     "name": "stdout",
     "output_type": "stream",
     "text": [
      "=== BASIC INFORMATION ===\n",
      "Shape: (48, 10)\n",
      "Columns: ['client_id', 'category', 'industry_id', 'company_size', 'company_type', 'n_roles', 'n_projects', 'n_people', 'started_at', 'name_anon']\n",
      "Data types:\n",
      "client_id       object\n",
      "category        object\n",
      "industry_id     object\n",
      "company_size    object\n",
      "company_type    object\n",
      "n_roles          int64\n",
      "n_projects       int64\n",
      "n_people         int64\n",
      "started_at      object\n",
      "name_anon       object\n",
      "dtype: object\n",
      "\n",
      "Memory usage: 22.82 KB\n"
     ]
    }
   ],
   "source": [
    "# Basic Information\n",
    "print(\"=== BASIC INFORMATION ===\")\n",
    "print(f\"Shape: {df_clients.shape}\")\n",
    "print(f\"Columns: {list(df_clients.columns)}\")\n",
    "print(f\"Data types:\\n{df_clients.dtypes}\")\n",
    "print(f\"\\nMemory usage: {df_clients.memory_usage(deep=True).sum() / 1024:.2f} KB\")"
   ]
  },
  {
   "cell_type": "code",
   "execution_count": 5,
   "id": "9185a0d4",
   "metadata": {},
   "outputs": [
    {
     "name": "stdout",
     "output_type": "stream",
     "text": [
      "=== FIRST 5 ROWS ===\n"
     ]
    },
    {
     "data": {
      "text/html": [
       "<div>\n",
       "<style scoped>\n",
       "    .dataframe tbody tr th:only-of-type {\n",
       "        vertical-align: middle;\n",
       "    }\n",
       "\n",
       "    .dataframe tbody tr th {\n",
       "        vertical-align: top;\n",
       "    }\n",
       "\n",
       "    .dataframe thead th {\n",
       "        text-align: right;\n",
       "    }\n",
       "</style>\n",
       "<table border=\"1\" class=\"dataframe\">\n",
       "  <thead>\n",
       "    <tr style=\"text-align: right;\">\n",
       "      <th></th>\n",
       "      <th>client_id</th>\n",
       "      <th>category</th>\n",
       "      <th>industry_id</th>\n",
       "      <th>company_size</th>\n",
       "      <th>company_type</th>\n",
       "      <th>n_roles</th>\n",
       "      <th>n_projects</th>\n",
       "      <th>n_people</th>\n",
       "      <th>started_at</th>\n",
       "      <th>name_anon</th>\n",
       "    </tr>\n",
       "  </thead>\n",
       "  <tbody>\n",
       "    <tr>\n",
       "      <th>0</th>\n",
       "      <td>2f0a5150-aeeb-49f7-b11b-5307511068ff</td>\n",
       "      <td>Internal</td>\n",
       "      <td>NaN</td>\n",
       "      <td>NaN</td>\n",
       "      <td>NaN</td>\n",
       "      <td>0</td>\n",
       "      <td>1</td>\n",
       "      <td>0</td>\n",
       "      <td>NaN</td>\n",
       "      <td>Smith, Fields and Bentley</td>\n",
       "    </tr>\n",
       "    <tr>\n",
       "      <th>1</th>\n",
       "      <td>2dc74fac-c75a-4770-855f-9943969f18e3</td>\n",
       "      <td>Internal</td>\n",
       "      <td>NaN</td>\n",
       "      <td>NaN</td>\n",
       "      <td>NaN</td>\n",
       "      <td>0</td>\n",
       "      <td>2</td>\n",
       "      <td>0</td>\n",
       "      <td>NaN</td>\n",
       "      <td>Ryan-Ward</td>\n",
       "    </tr>\n",
       "    <tr>\n",
       "      <th>2</th>\n",
       "      <td>3d619f69-ee9c-41f8-ac3a-ac5cc851cf10</td>\n",
       "      <td>Internal</td>\n",
       "      <td>NaN</td>\n",
       "      <td>NaN</td>\n",
       "      <td>NaN</td>\n",
       "      <td>0</td>\n",
       "      <td>3</td>\n",
       "      <td>0</td>\n",
       "      <td>NaN</td>\n",
       "      <td>Edwards-Jenkins</td>\n",
       "    </tr>\n",
       "    <tr>\n",
       "      <th>3</th>\n",
       "      <td>87163a01-08e8-487c-b200-6f04138c53bf</td>\n",
       "      <td>Internal</td>\n",
       "      <td>NaN</td>\n",
       "      <td>NaN</td>\n",
       "      <td>NaN</td>\n",
       "      <td>0</td>\n",
       "      <td>3</td>\n",
       "      <td>0</td>\n",
       "      <td>NaN</td>\n",
       "      <td>Avila LLC</td>\n",
       "    </tr>\n",
       "    <tr>\n",
       "      <th>4</th>\n",
       "      <td>0a1a94ab-d574-4c92-9b69-b21df5080288</td>\n",
       "      <td>Internal</td>\n",
       "      <td>NaN</td>\n",
       "      <td>NaN</td>\n",
       "      <td>NaN</td>\n",
       "      <td>0</td>\n",
       "      <td>3</td>\n",
       "      <td>0</td>\n",
       "      <td>NaN</td>\n",
       "      <td>Adams Group</td>\n",
       "    </tr>\n",
       "  </tbody>\n",
       "</table>\n",
       "</div>"
      ],
      "text/plain": [
       "                              client_id  category industry_id company_size  \\\n",
       "0  2f0a5150-aeeb-49f7-b11b-5307511068ff  Internal         NaN          NaN   \n",
       "1  2dc74fac-c75a-4770-855f-9943969f18e3  Internal         NaN          NaN   \n",
       "2  3d619f69-ee9c-41f8-ac3a-ac5cc851cf10  Internal         NaN          NaN   \n",
       "3  87163a01-08e8-487c-b200-6f04138c53bf  Internal         NaN          NaN   \n",
       "4  0a1a94ab-d574-4c92-9b69-b21df5080288  Internal         NaN          NaN   \n",
       "\n",
       "  company_type  n_roles  n_projects  n_people started_at  \\\n",
       "0          NaN        0           1         0        NaN   \n",
       "1          NaN        0           2         0        NaN   \n",
       "2          NaN        0           3         0        NaN   \n",
       "3          NaN        0           3         0        NaN   \n",
       "4          NaN        0           3         0        NaN   \n",
       "\n",
       "                   name_anon  \n",
       "0  Smith, Fields and Bentley  \n",
       "1                  Ryan-Ward  \n",
       "2            Edwards-Jenkins  \n",
       "3                  Avila LLC  \n",
       "4                Adams Group  "
      ]
     },
     "metadata": {},
     "output_type": "display_data"
    },
    {
     "name": "stdout",
     "output_type": "stream",
     "text": [
      "\n",
      "=== LAST 5 ROWS ===\n"
     ]
    },
    {
     "data": {
      "text/html": [
       "<div>\n",
       "<style scoped>\n",
       "    .dataframe tbody tr th:only-of-type {\n",
       "        vertical-align: middle;\n",
       "    }\n",
       "\n",
       "    .dataframe tbody tr th {\n",
       "        vertical-align: top;\n",
       "    }\n",
       "\n",
       "    .dataframe thead th {\n",
       "        text-align: right;\n",
       "    }\n",
       "</style>\n",
       "<table border=\"1\" class=\"dataframe\">\n",
       "  <thead>\n",
       "    <tr style=\"text-align: right;\">\n",
       "      <th></th>\n",
       "      <th>client_id</th>\n",
       "      <th>category</th>\n",
       "      <th>industry_id</th>\n",
       "      <th>company_size</th>\n",
       "      <th>company_type</th>\n",
       "      <th>n_roles</th>\n",
       "      <th>n_projects</th>\n",
       "      <th>n_people</th>\n",
       "      <th>started_at</th>\n",
       "      <th>name_anon</th>\n",
       "    </tr>\n",
       "  </thead>\n",
       "  <tbody>\n",
       "    <tr>\n",
       "      <th>43</th>\n",
       "      <td>d6cd8164-a355-4b4a-a506-02eb9b34ba74</td>\n",
       "      <td>Clients</td>\n",
       "      <td>bd0cfcaf-af99-43d4-ba60-13c50a85e0a4</td>\n",
       "      <td>&gt;250</td>\n",
       "      <td>Public</td>\n",
       "      <td>4</td>\n",
       "      <td>2</td>\n",
       "      <td>1</td>\n",
       "      <td>2024-03-04</td>\n",
       "      <td>Joseph and Sons</td>\n",
       "    </tr>\n",
       "    <tr>\n",
       "      <th>44</th>\n",
       "      <td>f63533d5-5060-47e1-99bc-80a305f94471</td>\n",
       "      <td>Clients</td>\n",
       "      <td>bc16a6d1-34a7-46aa-b12d-0b014750385d</td>\n",
       "      <td>25-249</td>\n",
       "      <td>Private</td>\n",
       "      <td>6</td>\n",
       "      <td>2</td>\n",
       "      <td>5</td>\n",
       "      <td>2023-01-23</td>\n",
       "      <td>Cooper LLC</td>\n",
       "    </tr>\n",
       "    <tr>\n",
       "      <th>45</th>\n",
       "      <td>43db11b5-8688-4831-930a-b2a5ed51e717</td>\n",
       "      <td>Clients</td>\n",
       "      <td>f99a9738-1f86-48ec-b212-28ec0ad4c8e4</td>\n",
       "      <td>25-249</td>\n",
       "      <td>Private</td>\n",
       "      <td>7</td>\n",
       "      <td>1</td>\n",
       "      <td>0</td>\n",
       "      <td>2022-04-18</td>\n",
       "      <td>Jones-Willis</td>\n",
       "    </tr>\n",
       "    <tr>\n",
       "      <th>46</th>\n",
       "      <td>b7799cf5-ea66-4fcf-b705-630819a8ec8c</td>\n",
       "      <td>Clients</td>\n",
       "      <td>778f29ec-9e94-4438-81ac-a85c7022b22f</td>\n",
       "      <td>&gt;250</td>\n",
       "      <td>Public</td>\n",
       "      <td>10</td>\n",
       "      <td>1</td>\n",
       "      <td>0</td>\n",
       "      <td>2022-04-01</td>\n",
       "      <td>Sullivan PLC</td>\n",
       "    </tr>\n",
       "    <tr>\n",
       "      <th>47</th>\n",
       "      <td>0b539912-e3de-480a-8e64-1acf6c0b03b3</td>\n",
       "      <td>Clients</td>\n",
       "      <td>f99a9738-1f86-48ec-b212-28ec0ad4c8e4</td>\n",
       "      <td>&gt;250</td>\n",
       "      <td>Private</td>\n",
       "      <td>12</td>\n",
       "      <td>6</td>\n",
       "      <td>0</td>\n",
       "      <td>2021-10-04</td>\n",
       "      <td>Ortega Group</td>\n",
       "    </tr>\n",
       "  </tbody>\n",
       "</table>\n",
       "</div>"
      ],
      "text/plain": [
       "                               client_id category  \\\n",
       "43  d6cd8164-a355-4b4a-a506-02eb9b34ba74  Clients   \n",
       "44  f63533d5-5060-47e1-99bc-80a305f94471  Clients   \n",
       "45  43db11b5-8688-4831-930a-b2a5ed51e717  Clients   \n",
       "46  b7799cf5-ea66-4fcf-b705-630819a8ec8c  Clients   \n",
       "47  0b539912-e3de-480a-8e64-1acf6c0b03b3  Clients   \n",
       "\n",
       "                             industry_id company_size company_type  n_roles  \\\n",
       "43  bd0cfcaf-af99-43d4-ba60-13c50a85e0a4         >250       Public        4   \n",
       "44  bc16a6d1-34a7-46aa-b12d-0b014750385d       25-249      Private        6   \n",
       "45  f99a9738-1f86-48ec-b212-28ec0ad4c8e4       25-249      Private        7   \n",
       "46  778f29ec-9e94-4438-81ac-a85c7022b22f         >250       Public       10   \n",
       "47  f99a9738-1f86-48ec-b212-28ec0ad4c8e4         >250      Private       12   \n",
       "\n",
       "    n_projects  n_people  started_at        name_anon  \n",
       "43           2         1  2024-03-04  Joseph and Sons  \n",
       "44           2         5  2023-01-23       Cooper LLC  \n",
       "45           1         0  2022-04-18     Jones-Willis  \n",
       "46           1         0  2022-04-01     Sullivan PLC  \n",
       "47           6         0  2021-10-04     Ortega Group  "
      ]
     },
     "metadata": {},
     "output_type": "display_data"
    }
   ],
   "source": [
    "# First Few Rows\n",
    "print(\"=== FIRST 5 ROWS ===\")\n",
    "display(df_clients.head())\n",
    "\n",
    "print(\"\\n=== LAST 5 ROWS ===\")\n",
    "display(df_clients.tail())"
   ]
  },
  {
   "cell_type": "code",
   "execution_count": 7,
   "id": "a6ba94be",
   "metadata": {},
   "outputs": [
    {
     "data": {
      "text/plain": [
       "name_anon\n",
       "Terry and Sons                     2\n",
       "Ryan-Ward                          1\n",
       "Smith, Fields and Bentley          1\n",
       "Edwards-Jenkins                    1\n",
       "Avila LLC                          1\n",
       "Adams Group                        1\n",
       "Diaz and Sons                      1\n",
       "Dixon and Sons                     1\n",
       "Martinez Group                     1\n",
       "Wagner, King and Lewis             1\n",
       "Fernandez, Brewer and Vasquez      1\n",
       "Lee, Freeman and Jones             1\n",
       "Robinson, Kaufman and Mills        1\n",
       "Pineda-Carter                      1\n",
       "Rivera, Davis and Roberts          1\n",
       "Stokes, Harrison and Goodman       1\n",
       "Park, Elliott and Castillo         1\n",
       "Robinson-Gilbert                   1\n",
       "Miller, Swanson and Black          1\n",
       "Rice, Strickland and Soto          1\n",
       "Dudley and Sons                    1\n",
       "Reed, Berry and Wilkins            1\n",
       "Morris, Juarez and Chavez          1\n",
       "Gibson, Nguyen and Graham          1\n",
       "Harris, Watson and Donaldson       1\n",
       "Harvey, Collins and Walker         1\n",
       "Hernandez, Walker and Holt         1\n",
       "Payne-Nelson                       1\n",
       "Smith, Guerrero and Howell         1\n",
       "Ward and Sons                      1\n",
       "Hill, Wilson and Matthews          1\n",
       "Anderson Ltd                       1\n",
       "Rogers, Perry and Ramsey           1\n",
       "Eaton LLC                          1\n",
       "Price and Sons                     1\n",
       "Hopkins, Wagner and Ho             1\n",
       "Ramirez, Rodriguez and Gonzalez    1\n",
       "Richards, Acosta and Mccall        1\n",
       "Gamble, Summers and Bailey         1\n",
       "Gonzalez-Miller                    1\n",
       "Barnes and Sons                    1\n",
       "Campbell, Johnson and Smith        1\n",
       "Joseph and Sons                    1\n",
       "Cooper LLC                         1\n",
       "Jones-Willis                       1\n",
       "Sullivan PLC                       1\n",
       "Ortega Group                       1\n",
       "Name: count, dtype: int64"
      ]
     },
     "execution_count": 7,
     "metadata": {},
     "output_type": "execute_result"
    }
   ],
   "source": [
    "#there is a possible join between this and the roles tables(potentially adding information about projects/hours/money)\n",
    "df_clients.name_anon.value_counts()"
   ]
  },
  {
   "cell_type": "code",
   "execution_count": 7,
   "id": "8d2bee31",
   "metadata": {},
   "outputs": [
    {
     "name": "stdout",
     "output_type": "stream",
     "text": [
      "=== MISSING VALUES ===\n",
      "              Missing Count  Missing Percentage\n",
      "industry_id              19           39.583333\n",
      "company_size             18           37.500000\n",
      "company_type             17           35.416667\n",
      "started_at               13           27.083333\n",
      "category                  4            8.333333\n",
      "\n",
      "=== DUPLICATES ===\n",
      "Total duplicated rows: 0\n",
      "Percentage of duplicates: 0.00%\n"
     ]
    }
   ],
   "source": [
    "# Missing Values Analysis\n",
    "print(\"=== MISSING VALUES ===\")\n",
    "missing_data = df_clients.isnull().sum()\n",
    "missing_percent = (missing_data / len(df_clients)) * 100\n",
    "missing_df = pd.DataFrame({\n",
    "    'Missing Count': missing_data,\n",
    "    'Missing Percentage': missing_percent\n",
    "}).sort_values('Missing Count', ascending=False)\n",
    "\n",
    "print(missing_df[missing_df['Missing Count'] > 0])\n",
    "\n",
    "# Duplicates\n",
    "print(f\"\\n=== DUPLICATES ===\")\n",
    "print(f\"Total duplicated rows: {df_clients.duplicated().sum()}\")\n",
    "print(f\"Percentage of duplicates: {(df_clients.duplicated().sum() / len(df_clients)) * 100:.2f}%\")"
   ]
  },
  {
   "cell_type": "code",
   "execution_count": 8,
   "id": "c89b1a17",
   "metadata": {},
   "outputs": [
    {
     "name": "stdout",
     "output_type": "stream",
     "text": [
      "=== CLIENT ANALYSIS - COMPREHENSIVE BREAKDOWN ===\n",
      "✓ category column found!\n",
      "\n",
      "--- CATEGORY BREAKDOWN ---\n"
     ]
    },
    {
     "data": {
      "text/plain": [
       "category\n",
       "Clients     35\n",
       "Internal     9\n",
       "NaN          4\n",
       "Name: count, dtype: int64"
      ]
     },
     "metadata": {},
     "output_type": "display_data"
    },
    {
     "name": "stdout",
     "output_type": "stream",
     "text": [
      "\n",
      "Filtered dataset shape (Clients only): (35, 10)\n",
      "Original dataset shape: (48, 10)\n",
      "Filtered out 13 non-client records\n",
      "\n",
      "--- COLUMN AVAILABILITY CHECK ---\n",
      "✓ Available columns: ['started_at', 'n_roles', 'n_projects', 'n_people']\n",
      "\n",
      "--- SAMPLE OF CLIENT DATA ---\n"
     ]
    },
    {
     "data": {
      "text/html": [
       "<div>\n",
       "<style scoped>\n",
       "    .dataframe tbody tr th:only-of-type {\n",
       "        vertical-align: middle;\n",
       "    }\n",
       "\n",
       "    .dataframe tbody tr th {\n",
       "        vertical-align: top;\n",
       "    }\n",
       "\n",
       "    .dataframe thead th {\n",
       "        text-align: right;\n",
       "    }\n",
       "</style>\n",
       "<table border=\"1\" class=\"dataframe\">\n",
       "  <thead>\n",
       "    <tr style=\"text-align: right;\">\n",
       "      <th></th>\n",
       "      <th>client_id</th>\n",
       "      <th>category</th>\n",
       "      <th>industry_id</th>\n",
       "      <th>company_size</th>\n",
       "      <th>company_type</th>\n",
       "      <th>n_roles</th>\n",
       "      <th>n_projects</th>\n",
       "      <th>n_people</th>\n",
       "      <th>started_at</th>\n",
       "      <th>name_anon</th>\n",
       "    </tr>\n",
       "  </thead>\n",
       "  <tbody>\n",
       "    <tr>\n",
       "      <th>10</th>\n",
       "      <td>7fa223a8-390d-4d99-8766-51d0c87726bb</td>\n",
       "      <td>Clients</td>\n",
       "      <td>bd0cfcaf-af99-43d4-ba60-13c50a85e0a4</td>\n",
       "      <td>&gt;250</td>\n",
       "      <td>Public</td>\n",
       "      <td>0</td>\n",
       "      <td>1</td>\n",
       "      <td>0</td>\n",
       "      <td>NaN</td>\n",
       "      <td>Fernandez, Brewer and Vasquez</td>\n",
       "    </tr>\n",
       "    <tr>\n",
       "      <th>11</th>\n",
       "      <td>53354996-d9a0-4312-b5d5-8ecb56a13048</td>\n",
       "      <td>Clients</td>\n",
       "      <td>NaN</td>\n",
       "      <td>NaN</td>\n",
       "      <td>NaN</td>\n",
       "      <td>1</td>\n",
       "      <td>1</td>\n",
       "      <td>0</td>\n",
       "      <td>2024-06-17</td>\n",
       "      <td>Lee, Freeman and Jones</td>\n",
       "    </tr>\n",
       "    <tr>\n",
       "      <th>12</th>\n",
       "      <td>e484733b-a243-4358-8def-b422d77cceb2</td>\n",
       "      <td>Clients</td>\n",
       "      <td>NaN</td>\n",
       "      <td>NaN</td>\n",
       "      <td>NaN</td>\n",
       "      <td>1</td>\n",
       "      <td>1</td>\n",
       "      <td>1</td>\n",
       "      <td>2024-06-24</td>\n",
       "      <td>Robinson, Kaufman and Mills</td>\n",
       "    </tr>\n",
       "    <tr>\n",
       "      <th>16</th>\n",
       "      <td>254af57c-b40e-42fb-92ed-e18cb8a36d0c</td>\n",
       "      <td>Clients</td>\n",
       "      <td>778f29ec-9e94-4438-81ac-a85c7022b22f</td>\n",
       "      <td>25-249</td>\n",
       "      <td>Private</td>\n",
       "      <td>1</td>\n",
       "      <td>1</td>\n",
       "      <td>1</td>\n",
       "      <td>2024-01-16</td>\n",
       "      <td>Park, Elliott and Castillo</td>\n",
       "    </tr>\n",
       "    <tr>\n",
       "      <th>17</th>\n",
       "      <td>0329ebb5-3e0d-488f-b7ef-da8165183aba</td>\n",
       "      <td>Clients</td>\n",
       "      <td>778f29ec-9e94-4438-81ac-a85c7022b22f</td>\n",
       "      <td>25-249</td>\n",
       "      <td>Private</td>\n",
       "      <td>1</td>\n",
       "      <td>1</td>\n",
       "      <td>0</td>\n",
       "      <td>2021-12-06</td>\n",
       "      <td>Robinson-Gilbert</td>\n",
       "    </tr>\n",
       "  </tbody>\n",
       "</table>\n",
       "</div>"
      ],
      "text/plain": [
       "                               client_id category  \\\n",
       "10  7fa223a8-390d-4d99-8766-51d0c87726bb  Clients   \n",
       "11  53354996-d9a0-4312-b5d5-8ecb56a13048  Clients   \n",
       "12  e484733b-a243-4358-8def-b422d77cceb2  Clients   \n",
       "16  254af57c-b40e-42fb-92ed-e18cb8a36d0c  Clients   \n",
       "17  0329ebb5-3e0d-488f-b7ef-da8165183aba  Clients   \n",
       "\n",
       "                             industry_id company_size company_type  n_roles  \\\n",
       "10  bd0cfcaf-af99-43d4-ba60-13c50a85e0a4         >250       Public        0   \n",
       "11                                   NaN          NaN          NaN        1   \n",
       "12                                   NaN          NaN          NaN        1   \n",
       "16  778f29ec-9e94-4438-81ac-a85c7022b22f       25-249      Private        1   \n",
       "17  778f29ec-9e94-4438-81ac-a85c7022b22f       25-249      Private        1   \n",
       "\n",
       "    n_projects  n_people  started_at                      name_anon  \n",
       "10           1         0         NaN  Fernandez, Brewer and Vasquez  \n",
       "11           1         0  2024-06-17         Lee, Freeman and Jones  \n",
       "12           1         1  2024-06-24    Robinson, Kaufman and Mills  \n",
       "16           1         1  2024-01-16     Park, Elliott and Castillo  \n",
       "17           1         0  2021-12-06               Robinson-Gilbert  "
      ]
     },
     "metadata": {},
     "output_type": "display_data"
    }
   ],
   "source": [
    "# Client Analysis - Timeline and Metrics\n",
    "print(\"=== CLIENT ANALYSIS - COMPREHENSIVE BREAKDOWN ===\")\n",
    "\n",
    "# First, let's explore the category column to understand the filtering criteria\n",
    "if 'category' in df_clients.columns:\n",
    "    print(\"✓ category column found!\")\n",
    "    print(\"\\n--- CATEGORY BREAKDOWN ---\")\n",
    "    category_counts = df_clients['category'].value_counts(dropna=False)\n",
    "    display(category_counts)\n",
    "    \n",
    "    # Filter for only \"Clients\" category\n",
    "    clients_only = df_clients[df_clients['category'] == 'Clients'].copy()\n",
    "    print(f\"\\nFiltered dataset shape (Clients only): {clients_only.shape}\")\n",
    "    print(f\"Original dataset shape: {df_clients.shape}\")\n",
    "    print(f\"Filtered out {len(df_clients) - len(clients_only)} non-client records\")\n",
    "    \n",
    "else:\n",
    "    print(\"❌ category column not found\")\n",
    "    print(f\"Available columns: {list(df_clients.columns)}\")\n",
    "    clients_only = df_clients.copy()  # Use all data if Category doesn't exist\n",
    "\n",
    "# Check required columns\n",
    "required_cols = ['started_at', 'n_roles', 'n_projects', 'n_people']\n",
    "existing_cols = [col for col in required_cols if col in clients_only.columns]\n",
    "missing_cols = [col for col in required_cols if col not in clients_only.columns]\n",
    "\n",
    "print(f\"\\n--- COLUMN AVAILABILITY CHECK ---\")\n",
    "print(f\"✓ Available columns: {existing_cols}\")\n",
    "if missing_cols:\n",
    "    print(f\"❌ Missing columns: {missing_cols}\")\n",
    "\n",
    "# Display sample of filtered data\n",
    "print(f\"\\n--- SAMPLE OF CLIENT DATA ---\")\n",
    "display(clients_only.head())"
   ]
  },
  {
   "cell_type": "code",
   "execution_count": 9,
   "id": "8490949e",
   "metadata": {},
   "outputs": [
    {
     "name": "stdout",
     "output_type": "stream",
     "text": [
      "=== CLIENT TIMELINE ANALYSIS ===\n",
      "✓ Successfully converted started_at to datetime\n",
      "\n",
      "Timeline dataset shape: (33, 11)\n",
      "Date range: 2020-10-01 to 2025-09-04\n"
     ]
    },
    {
     "data": {
      "image/png": "[encoded data removed]",
      "text/plain": [
       "<Figure size 1800x1200 with 4 Axes>"
      ]
     },
     "metadata": {},
     "output_type": "display_data"
    }
   ],
   "source": [
    "# Timeline Analysis of Client Start Dates\n",
    "print(\"=== CLIENT TIMELINE ANALYSIS ===\")\n",
    "\n",
    "if 'started_at' in clients_only.columns and len(clients_only) > 0:\n",
    "    # Convert started_at to datetime\n",
    "    try:\n",
    "        clients_only['started_at_clean'] = pd.to_datetime(clients_only['started_at'], errors='coerce')\n",
    "        print(\"✓ Successfully converted started_at to datetime\")\n",
    "        \n",
    "        # Check for conversion issues\n",
    "        invalid_dates = clients_only[clients_only['started_at_clean'].isna() & clients_only['started_at'].notna()]\n",
    "        if len(invalid_dates) > 0:\n",
    "            print(f\"⚠️ Found {len(invalid_dates)} invalid date entries\")\n",
    "        \n",
    "        # Remove rows with invalid dates for timeline analysis\n",
    "        timeline_data = clients_only.dropna(subset=['started_at_clean']).copy()\n",
    "        timeline_data = timeline_data.sort_values('started_at_clean')\n",
    "        \n",
    "        if len(timeline_data) > 0:\n",
    "            print(f\"\\nTimeline dataset shape: {timeline_data.shape}\")\n",
    "            print(f\"Date range: {timeline_data['started_at_clean'].min().strftime('%Y-%m-%d')} to {timeline_data['started_at_clean'].max().strftime('%Y-%m-%d')}\")\n",
    "            \n",
    "            # Create monthly and quarterly aggregations\n",
    "            timeline_data['year_month'] = timeline_data['started_at_clean'].dt.to_period('M')\n",
    "            timeline_data['quarter'] = timeline_data['started_at_clean'].dt.to_period('Q')\n",
    "            timeline_data['year'] = timeline_data['started_at_clean'].dt.year\n",
    "            \n",
    "            # Monthly client acquisitions\n",
    "            monthly_clients = timeline_data.groupby('year_month').size().reset_index(name='new_clients')\n",
    "            monthly_clients['cumulative_clients'] = monthly_clients['new_clients'].cumsum()\n",
    "            monthly_clients['period'] = monthly_clients['year_month'].astype(str)\n",
    "            \n",
    "            # Create comprehensive timeline visualization\n",
    "            fig, ((ax1, ax2), (ax3, ax4)) = plt.subplots(2, 2, figsize=(18, 12))\n",
    "            \n",
    "            # 1. Cumulative client growth (line chart)\n",
    "            ax1.plot(range(len(monthly_clients)), monthly_clients['cumulative_clients'], \n",
    "                    marker='o', linewidth=3, markersize=6, color='steelblue', \n",
    "                    markerfacecolor='white', markeredgecolor='steelblue', markeredgewidth=2)\n",
    "            \n",
    "            # Add trend line\n",
    "            if len(monthly_clients) > 1:\n",
    "                z = np.polyfit(range(len(monthly_clients)), monthly_clients['cumulative_clients'], 1)\n",
    "                p = np.poly1d(z)\n",
    "                ax1.plot(range(len(monthly_clients)), p(range(len(monthly_clients))), \n",
    "                        \"--\", alpha=0.8, color='red', linewidth=2, label='Trend line')\n",
    "                ax1.legend()\n",
    "            \n",
    "            ax1.set_title('Cumulative Client Growth Over Time', fontsize=14, fontweight='bold')\n",
    "            ax1.set_xlabel('Time Period')\n",
    "            ax1.set_ylabel('Total Clients')\n",
    "            ax1.grid(True, alpha=0.3)\n",
    "            ax1.set_xticks(range(0, len(monthly_clients), max(1, len(monthly_clients)//10)))\n",
    "            ax1.set_xticklabels([monthly_clients.iloc[i]['period'] for i in range(0, len(monthly_clients), max(1, len(monthly_clients)//10))], \n",
    "                               rotation=45, ha='right')\n",
    "            \n",
    "            # 2. New clients per month (line chart as requested)\n",
    "            ax2.plot(range(len(monthly_clients)), monthly_clients['new_clients'], \n",
    "                    marker='s', linewidth=2, markersize=6, color='coral', alpha=0.8)\n",
    "            ax2.fill_between(range(len(monthly_clients)), monthly_clients['new_clients'], \n",
    "                           alpha=0.3, color='coral')\n",
    "            \n",
    "            ax2.set_title('New Client Acquisitions per Month', fontsize=14, fontweight='bold')\n",
    "            ax2.set_xlabel('Time Period')\n",
    "            ax2.set_ylabel('New Clients')\n",
    "            ax2.grid(True, alpha=0.3)\n",
    "            ax2.set_xticks(range(0, len(monthly_clients), max(1, len(monthly_clients)//10)))\n",
    "            ax2.set_xticklabels([monthly_clients.iloc[i]['period'] for i in range(0, len(monthly_clients), max(1, len(monthly_clients)//10))], \n",
    "                               rotation=45, ha='right')\n",
    "            \n",
    "            # 3. Yearly client breakdown\n",
    "            yearly_clients = timeline_data.groupby('year').size()\n",
    "            bars = ax3.bar(yearly_clients.index.astype(str), yearly_clients.values, \n",
    "                          color='lightgreen', alpha=0.7, edgecolor='darkgreen')\n",
    "            \n",
    "            # Add value labels\n",
    "            for bar in bars:\n",
    "                height = bar.get_height()\n",
    "                ax3.text(bar.get_x() + bar.get_width()/2., height + 0.1,\n",
    "                        f'{int(height)}', ha='center', va='bottom', fontweight='bold')\n",
    "            \n",
    "            ax3.set_title('Client Acquisitions by Year', fontsize=14, fontweight='bold')\n",
    "            ax3.set_xlabel('Year')\n",
    "            ax3.set_ylabel('New Clients')\n",
    "            ax3.grid(True, alpha=0.3, axis='y')\n",
    "            \n",
    "            # 4. Quarterly trend\n",
    "            quarterly_clients = timeline_data.groupby('quarter').size()\n",
    "            ax4.plot(range(len(quarterly_clients)), quarterly_clients.values, \n",
    "                    marker='o', linewidth=2, markersize=8, color='purple')\n",
    "            \n",
    "            ax4.set_title('Quarterly Client Acquisition Trend', fontsize=14, fontweight='bold')\n",
    "            ax4.set_xlabel('Quarter')\n",
    "            ax4.set_ylabel('New Clients')\n",
    "            ax4.grid(True, alpha=0.3)\n",
    "            ax4.set_xticks(range(len(quarterly_clients)))\n",
    "            ax4.set_xticklabels([str(q) for q in quarterly_clients.index], rotation=45, ha='right')\n",
    "            \n",
    "            plt.tight_layout()\n",
    "            plt.show()\n",
    "            \n",
    "        else:\n",
    "            print(\"❌ No valid client dates found after cleaning\")\n",
    "            \n",
    "    except Exception as e:\n",
    "        print(f\"✗ Error processing started_at column: {e}\")\n",
    "else:\n",
    "    print(\"❌ started_at column not found or no client data available\")"
   ]
  },
  {
   "cell_type": "code",
   "execution_count": 12,
   "id": "81e125e2",
   "metadata": {},
   "outputs": [
    {
     "name": "stdout",
     "output_type": "stream",
     "text": [
      "\n",
      "--- COLUMN AVAILABILITY CHECK ---\n",
      "✓ Available columns: ['started_at', 'n_roles', 'n_projects', 'n_people']\n"
     ]
    }
   ],
   "source": [
    "# Check required columns\n",
    "required_cols = ['started_at', 'n_roles', 'n_projects', 'n_people']\n",
    "existing_cols = [col for col in required_cols if col in clients_only.columns]\n",
    "missing_cols = [col for col in required_cols if col not in clients_only.columns]\n",
    "available_metrics = [col for col in ['n_roles', 'n_projects', 'n_people'] if col in clients_only.columns]\n",
    "\n",
    "print(f\"\\n--- COLUMN AVAILABILITY CHECK ---\")\n",
    "print(f\"✓ Available columns: {existing_cols}\")"
   ]
  },
  {
   "cell_type": "code",
   "execution_count": 13,
   "id": "a4a4cea9",
   "metadata": {},
   "outputs": [
    {
     "name": "stdout",
     "output_type": "stream",
     "text": [
      "=== TIMELINE + METRICS CORRELATION ===\n",
      "\n",
      "--- METRICS BY YEAR ---\n"
     ]
    },
    {
     "data": {
      "text/html": [
       "<div>\n",
       "<style scoped>\n",
       "    .dataframe tbody tr th:only-of-type {\n",
       "        vertical-align: middle;\n",
       "    }\n",
       "\n",
       "    .dataframe tbody tr th {\n",
       "        vertical-align: top;\n",
       "    }\n",
       "\n",
       "    .dataframe thead tr th {\n",
       "        text-align: left;\n",
       "    }\n",
       "\n",
       "    .dataframe thead tr:last-of-type th {\n",
       "        text-align: right;\n",
       "    }\n",
       "</style>\n",
       "<table border=\"1\" class=\"dataframe\">\n",
       "  <thead>\n",
       "    <tr>\n",
       "      <th></th>\n",
       "      <th colspan=\"3\" halign=\"left\">n_roles</th>\n",
       "      <th colspan=\"3\" halign=\"left\">n_projects</th>\n",
       "      <th colspan=\"3\" halign=\"left\">n_people</th>\n",
       "    </tr>\n",
       "    <tr>\n",
       "      <th></th>\n",
       "      <th>count</th>\n",
       "      <th>mean</th>\n",
       "      <th>sum</th>\n",
       "      <th>count</th>\n",
       "      <th>mean</th>\n",
       "      <th>sum</th>\n",
       "      <th>count</th>\n",
       "      <th>mean</th>\n",
       "      <th>sum</th>\n",
       "    </tr>\n",
       "    <tr>\n",
       "      <th>year_started</th>\n",
       "      <th></th>\n",
       "      <th></th>\n",
       "      <th></th>\n",
       "      <th></th>\n",
       "      <th></th>\n",
       "      <th></th>\n",
       "      <th></th>\n",
       "      <th></th>\n",
       "      <th></th>\n",
       "    </tr>\n",
       "  </thead>\n",
       "  <tbody>\n",
       "    <tr>\n",
       "      <th>2020</th>\n",
       "      <td>1</td>\n",
       "      <td>1.00</td>\n",
       "      <td>1</td>\n",
       "      <td>1</td>\n",
       "      <td>0.00</td>\n",
       "      <td>0</td>\n",
       "      <td>1</td>\n",
       "      <td>0.00</td>\n",
       "      <td>0</td>\n",
       "    </tr>\n",
       "    <tr>\n",
       "      <th>2021</th>\n",
       "      <td>6</td>\n",
       "      <td>4.33</td>\n",
       "      <td>26</td>\n",
       "      <td>6</td>\n",
       "      <td>2.00</td>\n",
       "      <td>12</td>\n",
       "      <td>6</td>\n",
       "      <td>0.00</td>\n",
       "      <td>0</td>\n",
       "    </tr>\n",
       "    <tr>\n",
       "      <th>2022</th>\n",
       "      <td>7</td>\n",
       "      <td>3.86</td>\n",
       "      <td>27</td>\n",
       "      <td>7</td>\n",
       "      <td>0.71</td>\n",
       "      <td>5</td>\n",
       "      <td>7</td>\n",
       "      <td>0.00</td>\n",
       "      <td>0</td>\n",
       "    </tr>\n",
       "    <tr>\n",
       "      <th>2023</th>\n",
       "      <td>7</td>\n",
       "      <td>2.57</td>\n",
       "      <td>18</td>\n",
       "      <td>7</td>\n",
       "      <td>1.29</td>\n",
       "      <td>9</td>\n",
       "      <td>7</td>\n",
       "      <td>0.71</td>\n",
       "      <td>5</td>\n",
       "    </tr>\n",
       "    <tr>\n",
       "      <th>2024</th>\n",
       "      <td>8</td>\n",
       "      <td>1.88</td>\n",
       "      <td>15</td>\n",
       "      <td>8</td>\n",
       "      <td>1.62</td>\n",
       "      <td>13</td>\n",
       "      <td>8</td>\n",
       "      <td>0.62</td>\n",
       "      <td>5</td>\n",
       "    </tr>\n",
       "    <tr>\n",
       "      <th>2025</th>\n",
       "      <td>4</td>\n",
       "      <td>1.75</td>\n",
       "      <td>7</td>\n",
       "      <td>4</td>\n",
       "      <td>1.00</td>\n",
       "      <td>4</td>\n",
       "      <td>4</td>\n",
       "      <td>0.50</td>\n",
       "      <td>2</td>\n",
       "    </tr>\n",
       "  </tbody>\n",
       "</table>\n",
       "</div>"
      ],
      "text/plain": [
       "             n_roles           n_projects           n_people          \n",
       "               count  mean sum      count  mean sum    count  mean sum\n",
       "year_started                                                          \n",
       "2020               1  1.00   1          1  0.00   0        1  0.00   0\n",
       "2021               6  4.33  26          6  2.00  12        6  0.00   0\n",
       "2022               7  3.86  27          7  0.71   5        7  0.00   0\n",
       "2023               7  2.57  18          7  1.29   9        7  0.71   5\n",
       "2024               8  1.88  15          8  1.62  13        8  0.62   5\n",
       "2025               4  1.75   7          4  1.00   4        4  0.50   2"
      ]
     },
     "metadata": {},
     "output_type": "display_data"
    },
    {
     "data": {
      "image/png": "[encoded data removed]",
      "text/plain": [
       "<Figure size 1500x1500 with 6 Axes>"
      ]
     },
     "metadata": {},
     "output_type": "display_data"
    },
    {
     "name": "stdout",
     "output_type": "stream",
     "text": [
      "\n",
      "=== KEY INSIGHTS ===\n",
      "📊 Total clients analyzed: 35\n",
      "📅 Client acquisition period: 2020-10-01 to 2025-09-04\n",
      "🏆 Highest n_roles: 12 (Client ID: 47)\n",
      "📈 Average n_roles per client: 2.8\n",
      "🏆 Highest n_projects: 6 (Client ID: 47)\n",
      "📈 Average n_projects per client: 1.3\n",
      "🏆 Highest n_people: 5 (Client ID: 44)\n",
      "📈 Average n_people per client: 0.3\n",
      "📈 Client acquisition CAGR: 32.0%\n"
     ]
    }
   ],
   "source": [
    "# Combined Timeline and Metrics Analysis\n",
    "print(\"=== TIMELINE + METRICS CORRELATION ===\")\n",
    "\n",
    "if 'started_at_clean' in clients_only.columns and available_metrics:\n",
    "    # Analyze metrics over time\n",
    "    timeline_metrics = clients_only.dropna(subset=['started_at_clean']).copy()\n",
    "    \n",
    "    if len(timeline_metrics) > 0:\n",
    "        # Create time-based aggregations\n",
    "        timeline_metrics['year_started'] = timeline_metrics['started_at_clean'].dt.year\n",
    "        timeline_metrics['quarter_started'] = timeline_metrics['started_at_clean'].dt.to_period('Q')\n",
    "        \n",
    "        # Calculate metrics by year\n",
    "        yearly_metrics = timeline_metrics.groupby('year_started')[available_metrics].agg(['count', 'mean', 'sum']).round(2)\n",
    "        \n",
    "        print(f\"\\n--- METRICS BY YEAR ---\")\n",
    "        display(yearly_metrics)\n",
    "        \n",
    "        # Visualize metrics trends over time\n",
    "        fig, axes = plt.subplots(len(available_metrics), 1, figsize=(15, 5*len(available_metrics)))\n",
    "        \n",
    "        if len(available_metrics) == 1:\n",
    "            axes = [axes]\n",
    "        \n",
    "        for i, metric in enumerate(available_metrics):\n",
    "            # Plot average metric by year\n",
    "            yearly_avg = timeline_metrics.groupby('year_started')[metric].mean()\n",
    "            yearly_count = timeline_metrics.groupby('year_started')[metric].count()\n",
    "            \n",
    "            # Create dual axis plot\n",
    "            ax1 = axes[i]\n",
    "            ax2 = ax1.twinx()\n",
    "            \n",
    "            # Average metric (line)\n",
    "            line1 = ax1.plot(yearly_avg.index, yearly_avg.values, 'o-', color='blue', \n",
    "                           linewidth=2, markersize=8, label=f'Avg {metric}')\n",
    "            ax1.set_ylabel(f'Average {metric.replace(\"_\", \" \").title()}', color='blue')\n",
    "            ax1.tick_params(axis='y', labelcolor='blue')\n",
    "            \n",
    "            # Client count (bars)\n",
    "            bars = ax2.bar(yearly_count.index, yearly_count.values, alpha=0.3, \n",
    "                          color='red', label='Client Count')\n",
    "            ax2.set_ylabel('Number of Clients', color='red')\n",
    "            ax2.tick_params(axis='y', labelcolor='red')\n",
    "            \n",
    "            ax1.set_xlabel('Year')\n",
    "            ax1.set_title(f'{metric.replace(\"_\", \" \").title()} Trends Over Time', \n",
    "                         fontsize=14, fontweight='bold')\n",
    "            ax1.grid(True, alpha=0.3)\n",
    "            \n",
    "            # Combined legend\n",
    "            lines1, labels1 = ax1.get_legend_handles_labels()\n",
    "            lines2, labels2 = ax2.get_legend_handles_labels()\n",
    "            ax1.legend(lines1 + lines2, labels1 + labels2, loc='upper left')\n",
    "        \n",
    "        plt.tight_layout()\n",
    "        plt.show()\n",
    "        \n",
    "        # Summary insights\n",
    "        print(f\"\\n=== KEY INSIGHTS ===\")\n",
    "        print(f\"📊 Total clients analyzed: {len(clients_only)}\")\n",
    "        print(f\"📅 Client acquisition period: {timeline_data['started_at_clean'].min().strftime('%Y-%m-%d')} to {timeline_data['started_at_clean'].max().strftime('%Y-%m-%d')}\")\n",
    "        \n",
    "        for metric in available_metrics:\n",
    "            top_client_idx = clients_only[metric].idxmax()\n",
    "            if pd.notna(top_client_idx):\n",
    "                top_value = clients_only.loc[top_client_idx, metric]\n",
    "                print(f\"🏆 Highest {metric}: {top_value} (Client ID: {top_client_idx})\")\n",
    "            \n",
    "            avg_value = clients_only[metric].mean()\n",
    "            print(f\"📈 Average {metric} per client: {avg_value:.1f}\")\n",
    "        \n",
    "        # Growth rate analysis\n",
    "        if len(yearly_clients) > 1:\n",
    "            first_year_clients = yearly_clients.iloc[0]\n",
    "            last_year_clients = yearly_clients.iloc[-1]\n",
    "            years_span = yearly_clients.index[-1] - yearly_clients.index[0]\n",
    "            if years_span > 0:\n",
    "                cagr = ((last_year_clients / first_year_clients) ** (1/years_span) - 1) * 100\n",
    "                print(f\"📈 Client acquisition CAGR: {cagr:.1f}%\")\n",
    "        \n",
    "else:\n",
    "    print(\"❌ Cannot perform timeline-metrics correlation analysis\")"
   ]
  },
  {
   "cell_type": "code",
   "execution_count": 14,
   "id": "9a156dd7",
   "metadata": {},
   "outputs": [
    {
     "name": "stdout",
     "output_type": "stream",
     "text": [
      "=== DETAILED CLIENT TIMELINE TABLE ===\n",
      "Top 10 clients by start date:\n"
     ]
    },
    {
     "data": {
      "text/html": [
       "<div>\n",
       "<style scoped>\n",
       "    .dataframe tbody tr th:only-of-type {\n",
       "        vertical-align: middle;\n",
       "    }\n",
       "\n",
       "    .dataframe tbody tr th {\n",
       "        vertical-align: top;\n",
       "    }\n",
       "\n",
       "    .dataframe thead th {\n",
       "        text-align: right;\n",
       "    }\n",
       "</style>\n",
       "<table border=\"1\" class=\"dataframe\">\n",
       "  <thead>\n",
       "    <tr style=\"text-align: right;\">\n",
       "      <th></th>\n",
       "      <th>n_roles</th>\n",
       "      <th>n_projects</th>\n",
       "      <th>n_people</th>\n",
       "      <th>started_at_formatted</th>\n",
       "    </tr>\n",
       "  </thead>\n",
       "  <tbody>\n",
       "    <tr>\n",
       "      <th>20</th>\n",
       "      <td>1</td>\n",
       "      <td>0</td>\n",
       "      <td>0</td>\n",
       "      <td>2020-10-01</td>\n",
       "    </tr>\n",
       "    <tr>\n",
       "      <th>38</th>\n",
       "      <td>3</td>\n",
       "      <td>0</td>\n",
       "      <td>0</td>\n",
       "      <td>2021-06-21</td>\n",
       "    </tr>\n",
       "    <tr>\n",
       "      <th>42</th>\n",
       "      <td>4</td>\n",
       "      <td>2</td>\n",
       "      <td>0</td>\n",
       "      <td>2021-08-01</td>\n",
       "    </tr>\n",
       "    <tr>\n",
       "      <th>39</th>\n",
       "      <td>4</td>\n",
       "      <td>2</td>\n",
       "      <td>0</td>\n",
       "      <td>2021-09-01</td>\n",
       "    </tr>\n",
       "    <tr>\n",
       "      <th>47</th>\n",
       "      <td>12</td>\n",
       "      <td>6</td>\n",
       "      <td>0</td>\n",
       "      <td>2021-10-04</td>\n",
       "    </tr>\n",
       "    <tr>\n",
       "      <th>17</th>\n",
       "      <td>1</td>\n",
       "      <td>1</td>\n",
       "      <td>0</td>\n",
       "      <td>2021-12-06</td>\n",
       "    </tr>\n",
       "    <tr>\n",
       "      <th>32</th>\n",
       "      <td>2</td>\n",
       "      <td>1</td>\n",
       "      <td>0</td>\n",
       "      <td>2021-12-07</td>\n",
       "    </tr>\n",
       "    <tr>\n",
       "      <th>40</th>\n",
       "      <td>4</td>\n",
       "      <td>1</td>\n",
       "      <td>0</td>\n",
       "      <td>2022-02-21</td>\n",
       "    </tr>\n",
       "    <tr>\n",
       "      <th>46</th>\n",
       "      <td>10</td>\n",
       "      <td>1</td>\n",
       "      <td>0</td>\n",
       "      <td>2022-04-01</td>\n",
       "    </tr>\n",
       "    <tr>\n",
       "      <th>45</th>\n",
       "      <td>7</td>\n",
       "      <td>1</td>\n",
       "      <td>0</td>\n",
       "      <td>2022-04-18</td>\n",
       "    </tr>\n",
       "  </tbody>\n",
       "</table>\n",
       "</div>"
      ],
      "text/plain": [
       "    n_roles  n_projects  n_people started_at_formatted\n",
       "20        1           0         0           2020-10-01\n",
       "38        3           0         0           2021-06-21\n",
       "42        4           2         0           2021-08-01\n",
       "39        4           2         0           2021-09-01\n",
       "47       12           6         0           2021-10-04\n",
       "17        1           1         0           2021-12-06\n",
       "32        2           1         0           2021-12-07\n",
       "40        4           1         0           2022-02-21\n",
       "46       10           1         0           2022-04-01\n",
       "45        7           1         0           2022-04-18"
      ]
     },
     "metadata": {},
     "output_type": "display_data"
    },
    {
     "name": "stdout",
     "output_type": "stream",
     "text": [
      "\n",
      "Most recent 10 clients:\n"
     ]
    },
    {
     "data": {
      "text/html": [
       "<div>\n",
       "<style scoped>\n",
       "    .dataframe tbody tr th:only-of-type {\n",
       "        vertical-align: middle;\n",
       "    }\n",
       "\n",
       "    .dataframe tbody tr th {\n",
       "        vertical-align: top;\n",
       "    }\n",
       "\n",
       "    .dataframe thead th {\n",
       "        text-align: right;\n",
       "    }\n",
       "</style>\n",
       "<table border=\"1\" class=\"dataframe\">\n",
       "  <thead>\n",
       "    <tr style=\"text-align: right;\">\n",
       "      <th></th>\n",
       "      <th>n_roles</th>\n",
       "      <th>n_projects</th>\n",
       "      <th>n_people</th>\n",
       "      <th>started_at_formatted</th>\n",
       "    </tr>\n",
       "  </thead>\n",
       "  <tbody>\n",
       "    <tr>\n",
       "      <th>26</th>\n",
       "      <td>2</td>\n",
       "      <td>1</td>\n",
       "      <td>0</td>\n",
       "      <td>2024-08-19</td>\n",
       "    </tr>\n",
       "    <tr>\n",
       "      <th>37</th>\n",
       "      <td>3</td>\n",
       "      <td>5</td>\n",
       "      <td>0</td>\n",
       "      <td>2024-10-13</td>\n",
       "    </tr>\n",
       "    <tr>\n",
       "      <th>25</th>\n",
       "      <td>2</td>\n",
       "      <td>1</td>\n",
       "      <td>1</td>\n",
       "      <td>2024-10-14</td>\n",
       "    </tr>\n",
       "    <tr>\n",
       "      <th>22</th>\n",
       "      <td>1</td>\n",
       "      <td>1</td>\n",
       "      <td>1</td>\n",
       "      <td>2024-10-14</td>\n",
       "    </tr>\n",
       "    <tr>\n",
       "      <th>30</th>\n",
       "      <td>2</td>\n",
       "      <td>1</td>\n",
       "      <td>0</td>\n",
       "      <td>2025-02-05</td>\n",
       "    </tr>\n",
       "    <tr>\n",
       "      <th>27</th>\n",
       "      <td>2</td>\n",
       "      <td>1</td>\n",
       "      <td>0</td>\n",
       "      <td>2025-05-25</td>\n",
       "    </tr>\n",
       "    <tr>\n",
       "      <th>29</th>\n",
       "      <td>2</td>\n",
       "      <td>1</td>\n",
       "      <td>0</td>\n",
       "      <td>2025-06-08</td>\n",
       "    </tr>\n",
       "    <tr>\n",
       "      <th>19</th>\n",
       "      <td>1</td>\n",
       "      <td>1</td>\n",
       "      <td>2</td>\n",
       "      <td>2025-09-04</td>\n",
       "    </tr>\n",
       "    <tr>\n",
       "      <th>10</th>\n",
       "      <td>0</td>\n",
       "      <td>1</td>\n",
       "      <td>0</td>\n",
       "      <td>NaN</td>\n",
       "    </tr>\n",
       "    <tr>\n",
       "      <th>36</th>\n",
       "      <td>3</td>\n",
       "      <td>1</td>\n",
       "      <td>0</td>\n",
       "      <td>NaN</td>\n",
       "    </tr>\n",
       "  </tbody>\n",
       "</table>\n",
       "</div>"
      ],
      "text/plain": [
       "    n_roles  n_projects  n_people started_at_formatted\n",
       "26        2           1         0           2024-08-19\n",
       "37        3           5         0           2024-10-13\n",
       "25        2           1         1           2024-10-14\n",
       "22        1           1         1           2024-10-14\n",
       "30        2           1         0           2025-02-05\n",
       "27        2           1         0           2025-05-25\n",
       "29        2           1         0           2025-06-08\n",
       "19        1           1         2           2025-09-04\n",
       "10        0           1         0                  NaN\n",
       "36        3           1         0                  NaN"
      ]
     },
     "metadata": {},
     "output_type": "display_data"
    },
    {
     "name": "stdout",
     "output_type": "stream",
     "text": [
      "\n",
      "=== FINAL SUMMARY ===\n",
      "Total clients with 'Clients' category: 35\n",
      "Clients with valid start dates: 33\n",
      "Clients with valid n_roles: 35, Total n_roles: 97\n",
      "Clients with valid n_projects: 35, Total n_projects: 45\n",
      "Clients with valid n_people: 35, Total n_people: 12\n"
     ]
    }
   ],
   "source": [
    "# Detailed Client Table with Timeline\n",
    "print(\"=== DETAILED CLIENT TIMELINE TABLE ===\")\n",
    "\n",
    "if len(clients_only) > 0:\n",
    "    # Create a comprehensive client summary table\n",
    "    client_display_cols = ['started_at_clean'] + available_metrics\n",
    "    \n",
    "    # Add client identifier if available\n",
    "    if 'client_name' in clients_only.columns:\n",
    "        client_display_cols = ['client_name'] + client_display_cols\n",
    "    elif 'name' in clients_only.columns:\n",
    "        client_display_cols = ['name'] + client_display_cols\n",
    "    \n",
    "    # Filter columns that exist\n",
    "    display_cols = [col for col in client_display_cols if col in clients_only.columns]\n",
    "    \n",
    "    if display_cols:\n",
    "        client_summary = clients_only[display_cols].copy()\n",
    "        \n",
    "        # Format date if present\n",
    "        if 'started_at_clean' in client_summary.columns:\n",
    "            client_summary['started_at_formatted'] = client_summary['started_at_clean'].dt.strftime('%Y-%m-%d')\n",
    "            client_summary = client_summary.drop('started_at_clean', axis=1)\n",
    "            client_summary = client_summary.sort_values('started_at_formatted')\n",
    "        \n",
    "        print(\"Top 10 clients by start date:\")\n",
    "        display(client_summary.head(10))\n",
    "        \n",
    "        if len(client_summary) > 10:\n",
    "            print(f\"\\nMost recent 10 clients:\")\n",
    "            display(client_summary.tail(10))\n",
    "    \n",
    "    print(f\"\\n=== FINAL SUMMARY ===\")\n",
    "    print(f\"Total clients with 'Clients' category: {len(clients_only)}\")\n",
    "    if 'started_at_clean' in clients_only.columns:\n",
    "        valid_dates = clients_only['started_at_clean'].notna().sum()\n",
    "        print(f\"Clients with valid start dates: {valid_dates}\")\n",
    "    \n",
    "    for metric in available_metrics:\n",
    "        valid_metrics = clients_only[metric].notna().sum()\n",
    "        total_metric = clients_only[metric].sum()\n",
    "        print(f\"Clients with valid {metric}: {valid_metrics}, Total {metric}: {total_metric}\")\n",
    "\n",
    "else:\n",
    "    print(\"❌ No client data available for analysis\")"
   ]
  },
  {
   "cell_type": "code",
   "execution_count": null,
   "id": "52ffcba5",
   "metadata": {},
   "outputs": [],
   "source": []
  },
  {
   "cell_type": "code",
   "execution_count": 16,
   "id": "3c87bb3c",
   "metadata": {},
   "outputs": [
    {
     "name": "stdout",
     "output_type": "stream",
     "text": [
      "=== SANKEY DIAGRAM: CLIENTS -> PROJECTS -> ROLES BY YEAR ===\n",
      "✓ Data prepared. Generating diagrams for the most recent years: [np.float64(2025.0), np.float64(2024.0), np.float64(2023.0)]\n",
      "\n",
      "--- Generating Sankey for 2025 ---\n"
     ]
    },
    {
     "data": {
      "application/vnd.plotly.v1+json": {
       "config": {
        "plotlyServerURL": "https://plot.ly"
       },
       "data": [
        {
         "link": {
          "source": [
           3,
           4,
           1,
           4,
           2,
           4,
           0,
           4
          ],
          "target": [
           4,
           6,
           4,
           6,
           4,
           6,
           4,
           5
          ],
          "value": [
           1,
           1,
           1,
           1,
           1,
           1,
           1,
           1
          ]
         },
         "node": {
          "color": "teal",
          "label": [
           "264b42da-30b3-80bb-8943-d29e46f0163c",
           "249b42da-30b3-8075-bbfe-d255bfdbc015",
           "249b42da-30b3-80ed-b62c-eee76874c710",
           "185b42da-30b3-806b-b7bc-dbe985651461",
           "1 Projects",
           "1 Roles",
           "2 Roles"
          ],
          "line": {
           "color": "black",
           "width": 0.5
          },
          "pad": 25,
          "thickness": 20
         },
         "type": "sankey"
        }
       ],
       "layout": {
        "font": {
         "size": 12
        },
        "template": {
         "data": {
          "bar": [
           {
            "error_x": {
             "color": "#2a3f5f"
            },
            "error_y": {
             "color": "#2a3f5f"
            },
            "marker": {
             "line": {
              "color": "#E5ECF6",
              "width": 0.5
             },
             "pattern": {
              "fillmode": "overlay",
              "size": 10,
              "solidity": 0.2
             }
            },
            "type": "bar"
           }
          ],
          "barpolar": [
           {
            "marker": {
             "line": {
              "color": "#E5ECF6",
              "width": 0.5
             },
             "pattern": {
              "fillmode": "overlay",
              "size": 10,
              "solidity": 0.2
             }
            },
            "type": "barpolar"
           }
          ],
          "carpet": [
           {
            "aaxis": {
             "endlinecolor": "#2a3f5f",
             "gridcolor": "white",
             "linecolor": "white",
             "minorgridcolor": "white",
             "startlinecolor": "#2a3f5f"
            },
            "baxis": {
             "endlinecolor": "#2a3f5f",
             "gridcolor": "white",
             "linecolor": "white",
             "minorgridcolor": "white",
             "startlinecolor": "#2a3f5f"
            },
            "type": "carpet"
           }
          ],
          "choropleth": [
           {
            "colorbar": {
             "outlinewidth": 0,
             "ticks": ""
            },
            "type": "choropleth"
           }
          ],
          "contour": [
           {
            "colorbar": {
             "outlinewidth": 0,
             "ticks": ""
            },
            "colorscale": [
             [
              0,
              "#0d0887"
             ],
             [
              0.1111111111111111,
              "#46039f"
             ],
             [
              0.2222222222222222,
              "#7201a8"
             ],
             [
              0.3333333333333333,
              "#9c179e"
             ],
             [
              0.4444444444444444,
              "#bd3786"
             ],
             [
              0.5555555555555556,
              "#d8576b"
             ],
             [
              0.6666666666666666,
              "#ed7953"
             ],
             [
              0.7777777777777778,
              "#fb9f3a"
             ],
             [
              0.8888888888888888,
              "#fdca26"
             ],
             [
              1,
              "#f0f921"
             ]
            ],
            "type": "contour"
           }
          ],
          "contourcarpet": [
           {
            "colorbar": {
             "outlinewidth": 0,
             "ticks": ""
            },
            "type": "contourcarpet"
           }
          ],
          "heatmap": [
           {
            "colorbar": {
             "outlinewidth": 0,
             "ticks": ""
            },
            "colorscale": [
             [
              0,
              "#0d0887"
             ],
             [
              0.1111111111111111,
              "#46039f"
             ],
             [
              0.2222222222222222,
              "#7201a8"
             ],
             [
              0.3333333333333333,
              "#9c179e"
             ],
             [
              0.4444444444444444,
              "#bd3786"
             ],
             [
              0.5555555555555556,
              "#d8576b"
             ],
             [
              0.6666666666666666,
              "#ed7953"
             ],
             [
              0.7777777777777778,
              "#fb9f3a"
             ],
             [
              0.8888888888888888,
              "#fdca26"
             ],
             [
              1,
              "#f0f921"
             ]
            ],
            "type": "heatmap"
           }
          ],
          "histogram": [
           {
            "marker": {
             "pattern": {
              "fillmode": "overlay",
              "size": 10,
              "solidity": 0.2
             }
            },
            "type": "histogram"
           }
          ],
          "histogram2d": [
           {
            "colorbar": {
             "outlinewidth": 0,
             "ticks": ""
            },
            "colorscale": [
             [
              0,
              "#0d0887"
             ],
             [
              0.1111111111111111,
              "#46039f"
             ],
             [
              0.2222222222222222,
              "#7201a8"
             ],
             [
              0.3333333333333333,
              "#9c179e"
             ],
             [
              0.4444444444444444,
              "#bd3786"
             ],
             [
              0.5555555555555556,
              "#d8576b"
             ],
             [
              0.6666666666666666,
              "#ed7953"
             ],
             [
              0.7777777777777778,
              "#fb9f3a"
             ],
             [
              0.8888888888888888,
              "#fdca26"
             ],
             [
              1,
              "#f0f921"
             ]
            ],
            "type": "histogram2d"
           }
          ],
          "histogram2dcontour": [
           {
            "colorbar": {
             "outlinewidth": 0,
             "ticks": ""
            },
            "colorscale": [
             [
              0,
              "#0d0887"
             ],
             [
              0.1111111111111111,
              "#46039f"
             ],
             [
              0.2222222222222222,
              "#7201a8"
             ],
             [
              0.3333333333333333,
              "#9c179e"
             ],
             [
              0.4444444444444444,
              "#bd3786"
             ],
             [
              0.5555555555555556,
              "#d8576b"
             ],
             [
              0.6666666666666666,
              "#ed7953"
             ],
             [
              0.7777777777777778,
              "#fb9f3a"
             ],
             [
              0.8888888888888888,
              "#fdca26"
             ],
             [
              1,
              "#f0f921"
             ]
            ],
            "type": "histogram2dcontour"
           }
          ],
          "mesh3d": [
           {
            "colorbar": {
             "outlinewidth": 0,
             "ticks": ""
            },
            "type": "mesh3d"
           }
          ],
          "parcoords": [
           {
            "line": {
             "colorbar": {
              "outlinewidth": 0,
              "ticks": ""
             }
            },
            "type": "parcoords"
           }
          ],
          "pie": [
           {
            "automargin": true,
            "type": "pie"
           }
          ],
          "scatter": [
           {
            "fillpattern": {
             "fillmode": "overlay",
             "size": 10,
             "solidity": 0.2
            },
            "type": "scatter"
           }
          ],
          "scatter3d": [
           {
            "line": {
             "colorbar": {
              "outlinewidth": 0,
              "ticks": ""
             }
            },
            "marker": {
             "colorbar": {
              "outlinewidth": 0,
              "ticks": ""
             }
            },
            "type": "scatter3d"
           }
          ],
          "scattercarpet": [
           {
            "marker": {
             "colorbar": {
              "outlinewidth": 0,
              "ticks": ""
             }
            },
            "type": "scattercarpet"
           }
          ],
          "scattergeo": [
           {
            "marker": {
             "colorbar": {
              "outlinewidth": 0,
              "ticks": ""
             }
            },
            "type": "scattergeo"
           }
          ],
          "scattergl": [
           {
            "marker": {
             "colorbar": {
              "outlinewidth": 0,
              "ticks": ""
             }
            },
            "type": "scattergl"
           }
          ],
          "scattermap": [
           {
            "marker": {
             "colorbar": {
              "outlinewidth": 0,
              "ticks": ""
             }
            },
            "type": "scattermap"
           }
          ],
          "scattermapbox": [
           {
            "marker": {
             "colorbar": {
              "outlinewidth": 0,
              "ticks": ""
             }
            },
            "type": "scattermapbox"
           }
          ],
          "scatterpolar": [
           {
            "marker": {
             "colorbar": {
              "outlinewidth": 0,
              "ticks": ""
             }
            },
            "type": "scatterpolar"
           }
          ],
          "scatterpolargl": [
           {
            "marker": {
             "colorbar": {
              "outlinewidth": 0,
              "ticks": ""
             }
            },
            "type": "scatterpolargl"
           }
          ],
          "scatterternary": [
           {
            "marker": {
             "colorbar": {
              "outlinewidth": 0,
              "ticks": ""
             }
            },
            "type": "scatterternary"
           }
          ],
          "surface": [
           {
            "colorbar": {
             "outlinewidth": 0,
             "ticks": ""
            },
            "colorscale": [
             [
              0,
              "#0d0887"
             ],
             [
              0.1111111111111111,
              "#46039f"
             ],
             [
              0.2222222222222222,
              "#7201a8"
             ],
             [
              0.3333333333333333,
              "#9c179e"
             ],
             [
              0.4444444444444444,
              "#bd3786"
             ],
             [
              0.5555555555555556,
              "#d8576b"
             ],
             [
              0.6666666666666666,
              "#ed7953"
             ],
             [
              0.7777777777777778,
              "#fb9f3a"
             ],
             [
              0.8888888888888888,
              "#fdca26"
             ],
             [
              1,
              "#f0f921"
             ]
            ],
            "type": "surface"
           }
          ],
          "table": [
           {
            "cells": {
             "fill": {
              "color": "#EBF0F8"
             },
             "line": {
              "color": "white"
             }
            },
            "header": {
             "fill": {
              "color": "#C8D4E3"
             },
             "line": {
              "color": "white"
             }
            },
            "type": "table"
           }
          ]
         },
         "layout": {
          "annotationdefaults": {
           "arrowcolor": "#2a3f5f",
           "arrowhead": 0,
           "arrowwidth": 1
          },
          "autotypenumbers": "strict",
          "coloraxis": {
           "colorbar": {
            "outlinewidth": 0,
            "ticks": ""
           }
          },
          "colorscale": {
           "diverging": [
            [
             0,
             "#8e0152"
            ],
            [
             0.1,
             "#c51b7d"
            ],
            [
             0.2,
             "#de77ae"
            ],
            [
             0.3,
             "#f1b6da"
            ],
            [
             0.4,
             "#fde0ef"
            ],
            [
             0.5,
             "#f7f7f7"
            ],
            [
             0.6,
             "#e6f5d0"
            ],
            [
             0.7,
             "#b8e186"
            ],
            [
             0.8,
             "#7fbc41"
            ],
            [
             0.9,
             "#4d9221"
            ],
            [
             1,
             "#276419"
            ]
           ],
           "sequential": [
            [
             0,
             "#0d0887"
            ],
            [
             0.1111111111111111,
             "#46039f"
            ],
            [
             0.2222222222222222,
             "#7201a8"
            ],
            [
             0.3333333333333333,
             "#9c179e"
            ],
            [
             0.4444444444444444,
             "#bd3786"
            ],
            [
             0.5555555555555556,
             "#d8576b"
            ],
            [
             0.6666666666666666,
             "#ed7953"
            ],
            [
             0.7777777777777778,
             "#fb9f3a"
            ],
            [
             0.8888888888888888,
             "#fdca26"
            ],
            [
             1,
             "#f0f921"
            ]
           ],
           "sequentialminus": [
            [
             0,
             "#0d0887"
            ],
            [
             0.1111111111111111,
             "#46039f"
            ],
            [
             0.2222222222222222,
             "#7201a8"
            ],
            [
             0.3333333333333333,
             "#9c179e"
            ],
            [
             0.4444444444444444,
             "#bd3786"
            ],
            [
             0.5555555555555556,
             "#d8576b"
            ],
            [
             0.6666666666666666,
             "#ed7953"
            ],
            [
             0.7777777777777778,
             "#fb9f3a"
            ],
            [
             0.8888888888888888,
             "#fdca26"
            ],
            [
             1,
             "#f0f921"
            ]
           ]
          },
          "colorway": [
           "#636efa",
           "#EF553B",
           "#00cc96",
           "#ab63fa",
           "#FFA15A",
           "#19d3f3",
           "#FF6692",
           "#B6E880",
           "#FF97FF",
           "#FECB52"
          ],
          "font": {
           "color": "#2a3f5f"
          },
          "geo": {
           "bgcolor": "white",
           "lakecolor": "white",
           "landcolor": "#E5ECF6",
           "showlakes": true,
           "showland": true,
           "subunitcolor": "white"
          },
          "hoverlabel": {
           "align": "left"
          },
          "hovermode": "closest",
          "mapbox": {
           "style": "light"
          },
          "paper_bgcolor": "white",
          "plot_bgcolor": "#E5ECF6",
          "polar": {
           "angularaxis": {
            "gridcolor": "white",
            "linecolor": "white",
            "ticks": ""
           },
           "bgcolor": "#E5ECF6",
           "radialaxis": {
            "gridcolor": "white",
            "linecolor": "white",
            "ticks": ""
           }
          },
          "scene": {
           "xaxis": {
            "backgroundcolor": "#E5ECF6",
            "gridcolor": "white",
            "gridwidth": 2,
            "linecolor": "white",
            "showbackground": true,
            "ticks": "",
            "zerolinecolor": "white"
           },
           "yaxis": {
            "backgroundcolor": "#E5ECF6",
            "gridcolor": "white",
            "gridwidth": 2,
            "linecolor": "white",
            "showbackground": true,
            "ticks": "",
            "zerolinecolor": "white"
           },
           "zaxis": {
            "backgroundcolor": "#E5ECF6",
            "gridcolor": "white",
            "gridwidth": 2,
            "linecolor": "white",
            "showbackground": true,
            "ticks": "",
            "zerolinecolor": "white"
           }
          },
          "shapedefaults": {
           "line": {
            "color": "#2a3f5f"
           }
          },
          "ternary": {
           "aaxis": {
            "gridcolor": "white",
            "linecolor": "white",
            "ticks": ""
           },
           "baxis": {
            "gridcolor": "white",
            "linecolor": "white",
            "ticks": ""
           },
           "bgcolor": "#E5ECF6",
           "caxis": {
            "gridcolor": "white",
            "linecolor": "white",
            "ticks": ""
           }
          },
          "title": {
           "x": 0.05
          },
          "xaxis": {
           "automargin": true,
           "gridcolor": "white",
           "linecolor": "white",
           "ticks": "",
           "title": {
            "standoff": 15
           },
           "zerolinecolor": "white",
           "zerolinewidth": 2
          },
          "yaxis": {
           "automargin": true,
           "gridcolor": "white",
           "linecolor": "white",
           "ticks": "",
           "title": {
            "standoff": 15
           },
           "zerolinecolor": "white",
           "zerolinewidth": 2
          }
         }
        },
        "title": {
         "text": "Client -> Projects -> Roles Flow for New Clients in 2025"
        }
       }
      }
     },
     "metadata": {},
     "output_type": "display_data"
    },
    {
     "name": "stdout",
     "output_type": "stream",
     "text": [
      "\n",
      "--- Generating Sankey for 2024 ---\n"
     ]
    },
    {
     "data": {
      "application/vnd.plotly.v1+json": {
       "config": {
        "plotlyServerURL": "https://plot.ly"
       },
       "data": [
        {
         "link": {
          "source": [
           3,
           8,
           4,
           8,
           6,
           10,
           2,
           8,
           5,
           8,
           0,
           8,
           7,
           9,
           1,
           8
          ],
          "target": [
           8,
           11,
           8,
           12,
           10,
           13,
           8,
           11,
           8,
           12,
           8,
           11,
           9,
           14,
           8,
           11
          ],
          "value": [
           1,
           1,
           1,
           1,
           1,
           1,
           1,
           1,
           1,
           1,
           1,
           1,
           1,
           1,
           1,
           1
          ]
         },
         "node": {
          "color": "teal",
          "label": [
           "53354996-d9a0-4312-b5d5-8ecb56a13048",
           "e484733b-a243-4358-8def-b422d77cceb2",
           "254af57c-b40e-42fb-92ed-e18cb8a36d0c",
           "11ab42da-30b3-80ab-b07d-fb72bc3aafc0",
           "11bb42da-30b3-80f6-8dcb-f3a53720ddf4",
           "2b008d01-06b6-4749-ba28-02a2aa1acea4",
           "122b42da-30b3-8022-88b5-d5212d80755f",
           "d6cd8164-a355-4b4a-a506-02eb9b34ba74",
           "1 Projects",
           "2 Projects",
           "5 Projects",
           "1 Roles",
           "2 Roles",
           "3 Roles",
           "4 Roles"
          ],
          "line": {
           "color": "black",
           "width": 0.5
          },
          "pad": 25,
          "thickness": 20
         },
         "type": "sankey"
        }
       ],
       "layout": {
        "font": {
         "size": 12
        },
        "template": {
         "data": {
          "bar": [
           {
            "error_x": {
             "color": "#2a3f5f"
            },
            "error_y": {
             "color": "#2a3f5f"
            },
            "marker": {
             "line": {
              "color": "#E5ECF6",
              "width": 0.5
             },
             "pattern": {
              "fillmode": "overlay",
              "size": 10,
              "solidity": 0.2
             }
            },
            "type": "bar"
           }
          ],
          "barpolar": [
           {
            "marker": {
             "line": {
              "color": "#E5ECF6",
              "width": 0.5
             },
             "pattern": {
              "fillmode": "overlay",
              "size": 10,
              "solidity": 0.2
             }
            },
            "type": "barpolar"
           }
          ],
          "carpet": [
           {
            "aaxis": {
             "endlinecolor": "#2a3f5f",
             "gridcolor": "white",
             "linecolor": "white",
             "minorgridcolor": "white",
             "startlinecolor": "#2a3f5f"
            },
            "baxis": {
             "endlinecolor": "#2a3f5f",
             "gridcolor": "white",
             "linecolor": "white",
             "minorgridcolor": "white",
             "startlinecolor": "#2a3f5f"
            },
            "type": "carpet"
           }
          ],
          "choropleth": [
           {
            "colorbar": {
             "outlinewidth": 0,
             "ticks": ""
            },
            "type": "choropleth"
           }
          ],
          "contour": [
           {
            "colorbar": {
             "outlinewidth": 0,
             "ticks": ""
            },
            "colorscale": [
             [
              0,
              "#0d0887"
             ],
             [
              0.1111111111111111,
              "#46039f"
             ],
             [
              0.2222222222222222,
              "#7201a8"
             ],
             [
              0.3333333333333333,
              "#9c179e"
             ],
             [
              0.4444444444444444,
              "#bd3786"
             ],
             [
              0.5555555555555556,
              "#d8576b"
             ],
             [
              0.6666666666666666,
              "#ed7953"
             ],
             [
              0.7777777777777778,
              "#fb9f3a"
             ],
             [
              0.8888888888888888,
              "#fdca26"
             ],
             [
              1,
              "#f0f921"
             ]
            ],
            "type": "contour"
           }
          ],
          "contourcarpet": [
           {
            "colorbar": {
             "outlinewidth": 0,
             "ticks": ""
            },
            "type": "contourcarpet"
           }
          ],
          "heatmap": [
           {
            "colorbar": {
             "outlinewidth": 0,
             "ticks": ""
            },
            "colorscale": [
             [
              0,
              "#0d0887"
             ],
             [
              0.1111111111111111,
              "#46039f"
             ],
             [
              0.2222222222222222,
              "#7201a8"
             ],
             [
              0.3333333333333333,
              "#9c179e"
             ],
             [
              0.4444444444444444,
              "#bd3786"
             ],
             [
              0.5555555555555556,
              "#d8576b"
             ],
             [
              0.6666666666666666,
              "#ed7953"
             ],
             [
              0.7777777777777778,
              "#fb9f3a"
             ],
             [
              0.8888888888888888,
              "#fdca26"
             ],
             [
              1,
              "#f0f921"
             ]
            ],
            "type": "heatmap"
           }
          ],
          "histogram": [
           {
            "marker": {
             "pattern": {
              "fillmode": "overlay",
              "size": 10,
              "solidity": 0.2
             }
            },
            "type": "histogram"
           }
          ],
          "histogram2d": [
           {
            "colorbar": {
             "outlinewidth": 0,
             "ticks": ""
            },
            "colorscale": [
             [
              0,
              "#0d0887"
             ],
             [
              0.1111111111111111,
              "#46039f"
             ],
             [
              0.2222222222222222,
              "#7201a8"
             ],
             [
              0.3333333333333333,
              "#9c179e"
             ],
             [
              0.4444444444444444,
              "#bd3786"
             ],
             [
              0.5555555555555556,
              "#d8576b"
             ],
             [
              0.6666666666666666,
              "#ed7953"
             ],
             [
              0.7777777777777778,
              "#fb9f3a"
             ],
             [
              0.8888888888888888,
              "#fdca26"
             ],
             [
              1,
              "#f0f921"
             ]
            ],
            "type": "histogram2d"
           }
          ],
          "histogram2dcontour": [
           {
            "colorbar": {
             "outlinewidth": 0,
             "ticks": ""
            },
            "colorscale": [
             [
              0,
              "#0d0887"
             ],
             [
              0.1111111111111111,
              "#46039f"
             ],
             [
              0.2222222222222222,
              "#7201a8"
             ],
             [
              0.3333333333333333,
              "#9c179e"
             ],
             [
              0.4444444444444444,
              "#bd3786"
             ],
             [
              0.5555555555555556,
              "#d8576b"
             ],
             [
              0.6666666666666666,
              "#ed7953"
             ],
             [
              0.7777777777777778,
              "#fb9f3a"
             ],
             [
              0.8888888888888888,
              "#fdca26"
             ],
             [
              1,
              "#f0f921"
             ]
            ],
            "type": "histogram2dcontour"
           }
          ],
          "mesh3d": [
           {
            "colorbar": {
             "outlinewidth": 0,
             "ticks": ""
            },
            "type": "mesh3d"
           }
          ],
          "parcoords": [
           {
            "line": {
             "colorbar": {
              "outlinewidth": 0,
              "ticks": ""
             }
            },
            "type": "parcoords"
           }
          ],
          "pie": [
           {
            "automargin": true,
            "type": "pie"
           }
          ],
          "scatter": [
           {
            "fillpattern": {
             "fillmode": "overlay",
             "size": 10,
             "solidity": 0.2
            },
            "type": "scatter"
           }
          ],
          "scatter3d": [
           {
            "line": {
             "colorbar": {
              "outlinewidth": 0,
              "ticks": ""
             }
            },
            "marker": {
             "colorbar": {
              "outlinewidth": 0,
              "ticks": ""
             }
            },
            "type": "scatter3d"
           }
          ],
          "scattercarpet": [
           {
            "marker": {
             "colorbar": {
              "outlinewidth": 0,
              "ticks": ""
             }
            },
            "type": "scattercarpet"
           }
          ],
          "scattergeo": [
           {
            "marker": {
             "colorbar": {
              "outlinewidth": 0,
              "ticks": ""
             }
            },
            "type": "scattergeo"
           }
          ],
          "scattergl": [
           {
            "marker": {
             "colorbar": {
              "outlinewidth": 0,
              "ticks": ""
             }
            },
            "type": "scattergl"
           }
          ],
          "scattermap": [
           {
            "marker": {
             "colorbar": {
              "outlinewidth": 0,
              "ticks": ""
             }
            },
            "type": "scattermap"
           }
          ],
          "scattermapbox": [
           {
            "marker": {
             "colorbar": {
              "outlinewidth": 0,
              "ticks": ""
             }
            },
            "type": "scattermapbox"
           }
          ],
          "scatterpolar": [
           {
            "marker": {
             "colorbar": {
              "outlinewidth": 0,
              "ticks": ""
             }
            },
            "type": "scatterpolar"
           }
          ],
          "scatterpolargl": [
           {
            "marker": {
             "colorbar": {
              "outlinewidth": 0,
              "ticks": ""
             }
            },
            "type": "scatterpolargl"
           }
          ],
          "scatterternary": [
           {
            "marker": {
             "colorbar": {
              "outlinewidth": 0,
              "ticks": ""
             }
            },
            "type": "scatterternary"
           }
          ],
          "surface": [
           {
            "colorbar": {
             "outlinewidth": 0,
             "ticks": ""
            },
            "colorscale": [
             [
              0,
              "#0d0887"
             ],
             [
              0.1111111111111111,
              "#46039f"
             ],
             [
              0.2222222222222222,
              "#7201a8"
             ],
             [
              0.3333333333333333,
              "#9c179e"
             ],
             [
              0.4444444444444444,
              "#bd3786"
             ],
             [
              0.5555555555555556,
              "#d8576b"
             ],
             [
              0.6666666666666666,
              "#ed7953"
             ],
             [
              0.7777777777777778,
              "#fb9f3a"
             ],
             [
              0.8888888888888888,
              "#fdca26"
             ],
             [
              1,
              "#f0f921"
             ]
            ],
            "type": "surface"
           }
          ],
          "table": [
           {
            "cells": {
             "fill": {
              "color": "#EBF0F8"
             },
             "line": {
              "color": "white"
             }
            },
            "header": {
             "fill": {
              "color": "#C8D4E3"
             },
             "line": {
              "color": "white"
             }
            },
            "type": "table"
           }
          ]
         },
         "layout": {
          "annotationdefaults": {
           "arrowcolor": "#2a3f5f",
           "arrowhead": 0,
           "arrowwidth": 1
          },
          "autotypenumbers": "strict",
          "coloraxis": {
           "colorbar": {
            "outlinewidth": 0,
            "ticks": ""
           }
          },
          "colorscale": {
           "diverging": [
            [
             0,
             "#8e0152"
            ],
            [
             0.1,
             "#c51b7d"
            ],
            [
             0.2,
             "#de77ae"
            ],
            [
             0.3,
             "#f1b6da"
            ],
            [
             0.4,
             "#fde0ef"
            ],
            [
             0.5,
             "#f7f7f7"
            ],
            [
             0.6,
             "#e6f5d0"
            ],
            [
             0.7,
             "#b8e186"
            ],
            [
             0.8,
             "#7fbc41"
            ],
            [
             0.9,
             "#4d9221"
            ],
            [
             1,
             "#276419"
            ]
           ],
           "sequential": [
            [
             0,
             "#0d0887"
            ],
            [
             0.1111111111111111,
             "#46039f"
            ],
            [
             0.2222222222222222,
             "#7201a8"
            ],
            [
             0.3333333333333333,
             "#9c179e"
            ],
            [
             0.4444444444444444,
             "#bd3786"
            ],
            [
             0.5555555555555556,
             "#d8576b"
            ],
            [
             0.6666666666666666,
             "#ed7953"
            ],
            [
             0.7777777777777778,
             "#fb9f3a"
            ],
            [
             0.8888888888888888,
             "#fdca26"
            ],
            [
             1,
             "#f0f921"
            ]
           ],
           "sequentialminus": [
            [
             0,
             "#0d0887"
            ],
            [
             0.1111111111111111,
             "#46039f"
            ],
            [
             0.2222222222222222,
             "#7201a8"
            ],
            [
             0.3333333333333333,
             "#9c179e"
            ],
            [
             0.4444444444444444,
             "#bd3786"
            ],
            [
             0.5555555555555556,
             "#d8576b"
            ],
            [
             0.6666666666666666,
             "#ed7953"
            ],
            [
             0.7777777777777778,
             "#fb9f3a"
            ],
            [
             0.8888888888888888,
             "#fdca26"
            ],
            [
             1,
             "#f0f921"
            ]
           ]
          },
          "colorway": [
           "#636efa",
           "#EF553B",
           "#00cc96",
           "#ab63fa",
           "#FFA15A",
           "#19d3f3",
           "#FF6692",
           "#B6E880",
           "#FF97FF",
           "#FECB52"
          ],
          "font": {
           "color": "#2a3f5f"
          },
          "geo": {
           "bgcolor": "white",
           "lakecolor": "white",
           "landcolor": "#E5ECF6",
           "showlakes": true,
           "showland": true,
           "subunitcolor": "white"
          },
          "hoverlabel": {
           "align": "left"
          },
          "hovermode": "closest",
          "mapbox": {
           "style": "light"
          },
          "paper_bgcolor": "white",
          "plot_bgcolor": "#E5ECF6",
          "polar": {
           "angularaxis": {
            "gridcolor": "white",
            "linecolor": "white",
            "ticks": ""
           },
           "bgcolor": "#E5ECF6",
           "radialaxis": {
            "gridcolor": "white",
            "linecolor": "white",
            "ticks": ""
           }
          },
          "scene": {
           "xaxis": {
            "backgroundcolor": "#E5ECF6",
            "gridcolor": "white",
            "gridwidth": 2,
            "linecolor": "white",
            "showbackground": true,
            "ticks": "",
            "zerolinecolor": "white"
           },
           "yaxis": {
            "backgroundcolor": "#E5ECF6",
            "gridcolor": "white",
            "gridwidth": 2,
            "linecolor": "white",
            "showbackground": true,
            "ticks": "",
            "zerolinecolor": "white"
           },
           "zaxis": {
            "backgroundcolor": "#E5ECF6",
            "gridcolor": "white",
            "gridwidth": 2,
            "linecolor": "white",
            "showbackground": true,
            "ticks": "",
            "zerolinecolor": "white"
           }
          },
          "shapedefaults": {
           "line": {
            "color": "#2a3f5f"
           }
          },
          "ternary": {
           "aaxis": {
            "gridcolor": "white",
            "linecolor": "white",
            "ticks": ""
           },
           "baxis": {
            "gridcolor": "white",
            "linecolor": "white",
            "ticks": ""
           },
           "bgcolor": "#E5ECF6",
           "caxis": {
            "gridcolor": "white",
            "linecolor": "white",
            "ticks": ""
           }
          },
          "title": {
           "x": 0.05
          },
          "xaxis": {
           "automargin": true,
           "gridcolor": "white",
           "linecolor": "white",
           "ticks": "",
           "title": {
            "standoff": 15
           },
           "zerolinecolor": "white",
           "zerolinewidth": 2
          },
          "yaxis": {
           "automargin": true,
           "gridcolor": "white",
           "linecolor": "white",
           "ticks": "",
           "title": {
            "standoff": 15
           },
           "zerolinecolor": "white",
           "zerolinewidth": 2
          }
         }
        },
        "title": {
         "text": "Client -> Projects -> Roles Flow for New Clients in 2024"
        }
       }
      }
     },
     "metadata": {},
     "output_type": "display_data"
    },
    {
     "name": "stdout",
     "output_type": "stream",
     "text": [
      "\n",
      "--- Generating Sankey for 2023 ---\n"
     ]
    },
    {
     "data": {
      "application/vnd.plotly.v1+json": {
       "config": {
        "plotlyServerURL": "https://plot.ly"
       },
       "data": [
        {
         "link": {
          "source": [
           3,
           7,
           1,
           7,
           2,
           7,
           4,
           7,
           5,
           8,
           0,
           7,
           6,
           8
          ],
          "target": [
           7,
           10,
           7,
           9,
           7,
           10,
           7,
           10,
           8,
           11,
           7,
           9,
           8,
           12
          ],
          "value": [
           1,
           1,
           1,
           1,
           1,
           1,
           1,
           1,
           1,
           1,
           1,
           1,
           1,
           1
          ]
         },
         "node": {
          "color": "teal",
          "label": [
           "f52ee8fd-bf12-472a-85a2-01572c78912d",
           "38384640-b197-4d46-b793-b9cd5dbe9a73",
           "3fd0b031-485c-4804-8400-85b3cfe26d3f",
           "0a8dedb2-2836-4e29-b6fb-7f38b87c39e5",
           "ae0ee164-868b-4149-a452-eb83e6923fc9",
           "afb6524b-9701-418b-aa00-6d1a6b7969d0",
           "f63533d5-5060-47e1-99bc-80a305f94471",
           "1 Projects",
           "2 Projects",
           "1 Roles",
           "2 Roles",
           "4 Roles",
           "6 Roles"
          ],
          "line": {
           "color": "black",
           "width": 0.5
          },
          "pad": 25,
          "thickness": 20
         },
         "type": "sankey"
        }
       ],
       "layout": {
        "font": {
         "size": 12
        },
        "template": {
         "data": {
          "bar": [
           {
            "error_x": {
             "color": "#2a3f5f"
            },
            "error_y": {
             "color": "#2a3f5f"
            },
            "marker": {
             "line": {
              "color": "#E5ECF6",
              "width": 0.5
             },
             "pattern": {
              "fillmode": "overlay",
              "size": 10,
              "solidity": 0.2
             }
            },
            "type": "bar"
           }
          ],
          "barpolar": [
           {
            "marker": {
             "line": {
              "color": "#E5ECF6",
              "width": 0.5
             },
             "pattern": {
              "fillmode": "overlay",
              "size": 10,
              "solidity": 0.2
             }
            },
            "type": "barpolar"
           }
          ],
          "carpet": [
           {
            "aaxis": {
             "endlinecolor": "#2a3f5f",
             "gridcolor": "white",
             "linecolor": "white",
             "minorgridcolor": "white",
             "startlinecolor": "#2a3f5f"
            },
            "baxis": {
             "endlinecolor": "#2a3f5f",
             "gridcolor": "white",
             "linecolor": "white",
             "minorgridcolor": "white",
             "startlinecolor": "#2a3f5f"
            },
            "type": "carpet"
           }
          ],
          "choropleth": [
           {
            "colorbar": {
             "outlinewidth": 0,
             "ticks": ""
            },
            "type": "choropleth"
           }
          ],
          "contour": [
           {
            "colorbar": {
             "outlinewidth": 0,
             "ticks": ""
            },
            "colorscale": [
             [
              0,
              "#0d0887"
             ],
             [
              0.1111111111111111,
              "#46039f"
             ],
             [
              0.2222222222222222,
              "#7201a8"
             ],
             [
              0.3333333333333333,
              "#9c179e"
             ],
             [
              0.4444444444444444,
              "#bd3786"
             ],
             [
              0.5555555555555556,
              "#d8576b"
             ],
             [
              0.6666666666666666,
              "#ed7953"
             ],
             [
              0.7777777777777778,
              "#fb9f3a"
             ],
             [
              0.8888888888888888,
              "#fdca26"
             ],
             [
              1,
              "#f0f921"
             ]
            ],
            "type": "contour"
           }
          ],
          "contourcarpet": [
           {
            "colorbar": {
             "outlinewidth": 0,
             "ticks": ""
            },
            "type": "contourcarpet"
           }
          ],
          "heatmap": [
           {
            "colorbar": {
             "outlinewidth": 0,
             "ticks": ""
            },
            "colorscale": [
             [
              0,
              "#0d0887"
             ],
             [
              0.1111111111111111,
              "#46039f"
             ],
             [
              0.2222222222222222,
              "#7201a8"
             ],
             [
              0.3333333333333333,
              "#9c179e"
             ],
             [
              0.4444444444444444,
              "#bd3786"
             ],
             [
              0.5555555555555556,
              "#d8576b"
             ],
             [
              0.6666666666666666,
              "#ed7953"
             ],
             [
              0.7777777777777778,
              "#fb9f3a"
             ],
             [
              0.8888888888888888,
              "#fdca26"
             ],
             [
              1,
              "#f0f921"
             ]
            ],
            "type": "heatmap"
           }
          ],
          "histogram": [
           {
            "marker": {
             "pattern": {
              "fillmode": "overlay",
              "size": 10,
              "solidity": 0.2
             }
            },
            "type": "histogram"
           }
          ],
          "histogram2d": [
           {
            "colorbar": {
             "outlinewidth": 0,
             "ticks": ""
            },
            "colorscale": [
             [
              0,
              "#0d0887"
             ],
             [
              0.1111111111111111,
              "#46039f"
             ],
             [
              0.2222222222222222,
              "#7201a8"
             ],
             [
              0.3333333333333333,
              "#9c179e"
             ],
             [
              0.4444444444444444,
              "#bd3786"
             ],
             [
              0.5555555555555556,
              "#d8576b"
             ],
             [
              0.6666666666666666,
              "#ed7953"
             ],
             [
              0.7777777777777778,
              "#fb9f3a"
             ],
             [
              0.8888888888888888,
              "#fdca26"
             ],
             [
              1,
              "#f0f921"
             ]
            ],
            "type": "histogram2d"
           }
          ],
          "histogram2dcontour": [
           {
            "colorbar": {
             "outlinewidth": 0,
             "ticks": ""
            },
            "colorscale": [
             [
              0,
              "#0d0887"
             ],
             [
              0.1111111111111111,
              "#46039f"
             ],
             [
              0.2222222222222222,
              "#7201a8"
             ],
             [
              0.3333333333333333,
              "#9c179e"
             ],
             [
              0.4444444444444444,
              "#bd3786"
             ],
             [
              0.5555555555555556,
              "#d8576b"
             ],
             [
              0.6666666666666666,
              "#ed7953"
             ],
             [
              0.7777777777777778,
              "#fb9f3a"
             ],
             [
              0.8888888888888888,
              "#fdca26"
             ],
             [
              1,
              "#f0f921"
             ]
            ],
            "type": "histogram2dcontour"
           }
          ],
          "mesh3d": [
           {
            "colorbar": {
             "outlinewidth": 0,
             "ticks": ""
            },
            "type": "mesh3d"
           }
          ],
          "parcoords": [
           {
            "line": {
             "colorbar": {
              "outlinewidth": 0,
              "ticks": ""
             }
            },
            "type": "parcoords"
           }
          ],
          "pie": [
           {
            "automargin": true,
            "type": "pie"
           }
          ],
          "scatter": [
           {
            "fillpattern": {
             "fillmode": "overlay",
             "size": 10,
             "solidity": 0.2
            },
            "type": "scatter"
           }
          ],
          "scatter3d": [
           {
            "line": {
             "colorbar": {
              "outlinewidth": 0,
              "ticks": ""
             }
            },
            "marker": {
             "colorbar": {
              "outlinewidth": 0,
              "ticks": ""
             }
            },
            "type": "scatter3d"
           }
          ],
          "scattercarpet": [
           {
            "marker": {
             "colorbar": {
              "outlinewidth": 0,
              "ticks": ""
             }
            },
            "type": "scattercarpet"
           }
          ],
          "scattergeo": [
           {
            "marker": {
             "colorbar": {
              "outlinewidth": 0,
              "ticks": ""
             }
            },
            "type": "scattergeo"
           }
          ],
          "scattergl": [
           {
            "marker": {
             "colorbar": {
              "outlinewidth": 0,
              "ticks": ""
             }
            },
            "type": "scattergl"
           }
          ],
          "scattermap": [
           {
            "marker": {
             "colorbar": {
              "outlinewidth": 0,
              "ticks": ""
             }
            },
            "type": "scattermap"
           }
          ],
          "scattermapbox": [
           {
            "marker": {
             "colorbar": {
              "outlinewidth": 0,
              "ticks": ""
             }
            },
            "type": "scattermapbox"
           }
          ],
          "scatterpolar": [
           {
            "marker": {
             "colorbar": {
              "outlinewidth": 0,
              "ticks": ""
             }
            },
            "type": "scatterpolar"
           }
          ],
          "scatterpolargl": [
           {
            "marker": {
             "colorbar": {
              "outlinewidth": 0,
              "ticks": ""
             }
            },
            "type": "scatterpolargl"
           }
          ],
          "scatterternary": [
           {
            "marker": {
             "colorbar": {
              "outlinewidth": 0,
              "ticks": ""
             }
            },
            "type": "scatterternary"
           }
          ],
          "surface": [
           {
            "colorbar": {
             "outlinewidth": 0,
             "ticks": ""
            },
            "colorscale": [
             [
              0,
              "#0d0887"
             ],
             [
              0.1111111111111111,
              "#46039f"
             ],
             [
              0.2222222222222222,
              "#7201a8"
             ],
             [
              0.3333333333333333,
              "#9c179e"
             ],
             [
              0.4444444444444444,
              "#bd3786"
             ],
             [
              0.5555555555555556,
              "#d8576b"
             ],
             [
              0.6666666666666666,
              "#ed7953"
             ],
             [
              0.7777777777777778,
              "#fb9f3a"
             ],
             [
              0.8888888888888888,
              "#fdca26"
             ],
             [
              1,
              "#f0f921"
             ]
            ],
            "type": "surface"
           }
          ],
          "table": [
           {
            "cells": {
             "fill": {
              "color": "#EBF0F8"
             },
             "line": {
              "color": "white"
             }
            },
            "header": {
             "fill": {
              "color": "#C8D4E3"
             },
             "line": {
              "color": "white"
             }
            },
            "type": "table"
           }
          ]
         },
         "layout": {
          "annotationdefaults": {
           "arrowcolor": "#2a3f5f",
           "arrowhead": 0,
           "arrowwidth": 1
          },
          "autotypenumbers": "strict",
          "coloraxis": {
           "colorbar": {
            "outlinewidth": 0,
            "ticks": ""
           }
          },
          "colorscale": {
           "diverging": [
            [
             0,
             "#8e0152"
            ],
            [
             0.1,
             "#c51b7d"
            ],
            [
             0.2,
             "#de77ae"
            ],
            [
             0.3,
             "#f1b6da"
            ],
            [
             0.4,
             "#fde0ef"
            ],
            [
             0.5,
             "#f7f7f7"
            ],
            [
             0.6,
             "#e6f5d0"
            ],
            [
             0.7,
             "#b8e186"
            ],
            [
             0.8,
             "#7fbc41"
            ],
            [
             0.9,
             "#4d9221"
            ],
            [
             1,
             "#276419"
            ]
           ],
           "sequential": [
            [
             0,
             "#0d0887"
            ],
            [
             0.1111111111111111,
             "#46039f"
            ],
            [
             0.2222222222222222,
             "#7201a8"
            ],
            [
             0.3333333333333333,
             "#9c179e"
            ],
            [
             0.4444444444444444,
             "#bd3786"
            ],
            [
             0.5555555555555556,
             "#d8576b"
            ],
            [
             0.6666666666666666,
             "#ed7953"
            ],
            [
             0.7777777777777778,
             "#fb9f3a"
            ],
            [
             0.8888888888888888,
             "#fdca26"
            ],
            [
             1,
             "#f0f921"
            ]
           ],
           "sequentialminus": [
            [
             0,
             "#0d0887"
            ],
            [
             0.1111111111111111,
             "#46039f"
            ],
            [
             0.2222222222222222,
             "#7201a8"
            ],
            [
             0.3333333333333333,
             "#9c179e"
            ],
            [
             0.4444444444444444,
             "#bd3786"
            ],
            [
             0.5555555555555556,
             "#d8576b"
            ],
            [
             0.6666666666666666,
             "#ed7953"
            ],
            [
             0.7777777777777778,
             "#fb9f3a"
            ],
            [
             0.8888888888888888,
             "#fdca26"
            ],
            [
             1,
             "#f0f921"
            ]
           ]
          },
          "colorway": [
           "#636efa",
           "#EF553B",
           "#00cc96",
           "#ab63fa",
           "#FFA15A",
           "#19d3f3",
           "#FF6692",
           "#B6E880",
           "#FF97FF",
           "#FECB52"
          ],
          "font": {
           "color": "#2a3f5f"
          },
          "geo": {
           "bgcolor": "white",
           "lakecolor": "white",
           "landcolor": "#E5ECF6",
           "showlakes": true,
           "showland": true,
           "subunitcolor": "white"
          },
          "hoverlabel": {
           "align": "left"
          },
          "hovermode": "closest",
          "mapbox": {
           "style": "light"
          },
          "paper_bgcolor": "white",
          "plot_bgcolor": "#E5ECF6",
          "polar": {
           "angularaxis": {
            "gridcolor": "white",
            "linecolor": "white",
            "ticks": ""
           },
           "bgcolor": "#E5ECF6",
           "radialaxis": {
            "gridcolor": "white",
            "linecolor": "white",
            "ticks": ""
           }
          },
          "scene": {
           "xaxis": {
            "backgroundcolor": "#E5ECF6",
            "gridcolor": "white",
            "gridwidth": 2,
            "linecolor": "white",
            "showbackground": true,
            "ticks": "",
            "zerolinecolor": "white"
           },
           "yaxis": {
            "backgroundcolor": "#E5ECF6",
            "gridcolor": "white",
            "gridwidth": 2,
            "linecolor": "white",
            "showbackground": true,
            "ticks": "",
            "zerolinecolor": "white"
           },
           "zaxis": {
            "backgroundcolor": "#E5ECF6",
            "gridcolor": "white",
            "gridwidth": 2,
            "linecolor": "white",
            "showbackground": true,
            "ticks": "",
            "zerolinecolor": "white"
           }
          },
          "shapedefaults": {
           "line": {
            "color": "#2a3f5f"
           }
          },
          "ternary": {
           "aaxis": {
            "gridcolor": "white",
            "linecolor": "white",
            "ticks": ""
           },
           "baxis": {
            "gridcolor": "white",
            "linecolor": "white",
            "ticks": ""
           },
           "bgcolor": "#E5ECF6",
           "caxis": {
            "gridcolor": "white",
            "linecolor": "white",
            "ticks": ""
           }
          },
          "title": {
           "x": 0.05
          },
          "xaxis": {
           "automargin": true,
           "gridcolor": "white",
           "linecolor": "white",
           "ticks": "",
           "title": {
            "standoff": 15
           },
           "zerolinecolor": "white",
           "zerolinewidth": 2
          },
          "yaxis": {
           "automargin": true,
           "gridcolor": "white",
           "linecolor": "white",
           "ticks": "",
           "title": {
            "standoff": 15
           },
           "zerolinecolor": "white",
           "zerolinewidth": 2
          }
         }
        },
        "title": {
         "text": "Client -> Projects -> Roles Flow for New Clients in 2023"
        }
       }
      }
     },
     "metadata": {},
     "output_type": "display_data"
    }
   ],
   "source": [
    "# Multi-Level Sankey: Clients -> Projects -> Roles\n",
    "import plotly.graph_objects as go\n",
    "\n",
    "print(\"=== SANKEY DIAGRAM: CLIENTS -> PROJECTS -> ROLES BY YEAR ===\")\n",
    "\n",
    "# Check for required data\n",
    "if 'clients_only' in locals() and all(c in clients_only.columns for c in ['started_at_clean', 'n_projects', 'n_roles']):\n",
    "    \n",
    "    # Prepare the data\n",
    "    sankey_data = clients_only.copy()\n",
    "    sankey_data['year'] = sankey_data['started_at_clean'].dt.year\n",
    "    client_col = 'client_id'\n",
    "\n",
    "    if client_col in sankey_data.columns:\n",
    "        # Get the most recent years with data\n",
    "        recent_years = sorted(sankey_data['year'].dropna().unique(), reverse=True)[:3]\n",
    "        print(f\"✓ Data prepared. Generating diagrams for the most recent years: {recent_years}\")\n",
    "\n",
    "        for year in recent_years:\n",
    "            print(f\"\\n--- Generating Sankey for {int(year)} ---\")\n",
    "            \n",
    "            # Filter data for the year and drop rows with missing values in key columns\n",
    "            year_data = sankey_data[sankey_data['year'] == year].dropna(subset=[client_col, 'n_projects', 'n_roles'])\n",
    "            \n",
    "            if year_data.empty:\n",
    "                print(f\"No complete client data (client, projects, roles) for {int(year)}.\")\n",
    "                continue\n",
    "\n",
    "            # --- Prepare data for Plotly Sankey ---\n",
    "            # 1. Create unique labels for all nodes\n",
    "            client_labels = year_data[client_col].unique()\n",
    "            project_labels = [f\"{int(p)} Projects\" for p in sorted(year_data['n_projects'].unique())]\n",
    "            role_labels = [f\"{int(r)} Roles\" for r in sorted(year_data['n_roles'].unique())]\n",
    "            \n",
    "            # Combine all labels, ensuring no duplicates\n",
    "            all_labels = list(dict.fromkeys(list(client_labels) + project_labels + role_labels))\n",
    "            \n",
    "            # 2. Create a mapping from label to index\n",
    "            label_to_idx = {label: i for i, label in enumerate(all_labels)}\n",
    "            \n",
    "            # 3. Create source, target, and value lists for the links\n",
    "            source = []\n",
    "            target = []\n",
    "            value = []\n",
    "            \n",
    "            # Group by client, project count, and role count to aggregate flows\n",
    "            grouped = year_data.groupby([client_col, 'n_projects', 'n_roles']).size().reset_index(name='count')\n",
    "\n",
    "            for _, row in grouped.iterrows():\n",
    "                # Link 1: Client -> Projects\n",
    "                source.append(label_to_idx[row[client_col]])\n",
    "                target.append(label_to_idx[f\"{int(row['n_projects'])} Projects\"])\n",
    "                value.append(row['count']) # Value is the number of clients in this group\n",
    "\n",
    "                # Link 2: Projects -> Roles\n",
    "                source.append(label_to_idx[f\"{int(row['n_projects'])} Projects\"])\n",
    "                target.append(label_to_idx[f\"{int(row['n_roles'])} Roles\"])\n",
    "                value.append(row['count']) # Value is the number of clients in this group\n",
    "\n",
    "            # --- Create the Figure ---\n",
    "            fig = go.Figure(data=[go.Sankey(\n",
    "                node=dict(\n",
    "                    pad=25,\n",
    "                    thickness=20,\n",
    "                    line=dict(color=\"black\", width=0.5),\n",
    "                    label=all_labels,\n",
    "                    color=\"teal\"\n",
    "                ),\n",
    "                link=dict(\n",
    "                    source=source,\n",
    "                    target=target,\n",
    "                    value=value\n",
    "                ))])\n",
    "\n",
    "            fig.update_layout(\n",
    "                title_text=f\"Client -> Projects -> Roles Flow for New Clients in {int(year)}\",\n",
    "                font_size=12\n",
    "            )\n",
    "            fig.show()\n",
    "            \n",
    "    else:\n",
    "        print(f\"❌ The specified client column '{client_col}' was not found.\")\n",
    "else:\n",
    "    print(\"❌ 'clients_only' DataFrame not found or missing required columns ('started_at_clean', 'n_projects', 'n_roles').\")\n",
    "    print(\"Please run the previous analysis cells first.\")"
   ]
  },
  {
   "cell_type": "code",
   "execution_count": 17,
   "id": "ca49f954",
   "metadata": {},
   "outputs": [
    {
     "name": "stdout",
     "output_type": "stream",
     "text": [
      "=== OVERALL SANKEY DIAGRAM: CLIENTS -> PROJECTS -> ROLES ===\n",
      "✓ Data prepared. Generating a single diagram for all 35 client records.\n"
     ]
    },
    {
     "data": {
      "application/vnd.plotly.v1+json": {
       "config": {
        "plotlyServerURL": "https://plot.ly"
       },
       "data": [
        {
         "link": {
          "source": [
           4,
           36,
           20,
           36,
           34,
           39,
           9,
           36,
           12,
           36,
           24,
           38,
           7,
           35,
           17,
           36,
           29,
           37,
           14,
           36,
           16,
           36,
           3,
           36,
           6,
           36,
           13,
           36,
           19,
           36,
           10,
           36,
           18,
           36,
           32,
           36,
           26,
           37,
           1,
           36,
           25,
           35,
           23,
           36,
           11,
           36,
           0,
           36,
           27,
           36,
           5,
           35,
           21,
           36,
           15,
           35,
           22,
           36,
           28,
           37,
           33,
           36,
           30,
           37,
           2,
           36,
           8,
           36,
           31,
           37
          ],
          "target": [
           36,
           41,
           36,
           42,
           39,
           48,
           36,
           41,
           36,
           42,
           38,
           43,
           35,
           41,
           36,
           42,
           37,
           44,
           36,
           42,
           36,
           42,
           36,
           41,
           36,
           41,
           36,
           42,
           36,
           42,
           36,
           41,
           36,
           42,
           36,
           46,
           37,
           44,
           36,
           41,
           35,
           43,
           36,
           43,
           36,
           41,
           36,
           40,
           36,
           44,
           35,
           41,
           36,
           42,
           35,
           42,
           36,
           42,
           37,
           44,
           36,
           47,
           37,
           44,
           36,
           41,
           36,
           41,
           37,
           45
          ],
          "value": [
           1,
           1,
           1,
           1,
           1,
           1,
           1,
           1,
           1,
           1,
           1,
           1,
           1,
           1,
           1,
           1,
           1,
           1,
           1,
           1,
           1,
           1,
           1,
           1,
           1,
           1,
           1,
           1,
           1,
           1,
           1,
           1,
           1,
           1,
           1,
           1,
           1,
           1,
           1,
           1,
           1,
           1,
           1,
           1,
           1,
           1,
           1,
           1,
           1,
           1,
           1,
           1,
           1,
           1,
           1,
           1,
           1,
           1,
           1,
           1,
           1,
           1,
           1,
           1,
           1,
           1,
           1,
           1,
           1,
           1
          ]
         },
         "node": {
          "color": "cornflowerblue",
          "label": [
           "7fa223a8-390d-4d99-8766-51d0c87726bb",
           "53354996-d9a0-4312-b5d5-8ecb56a13048",
           "e484733b-a243-4358-8def-b422d77cceb2",
           "254af57c-b40e-42fb-92ed-e18cb8a36d0c",
           "0329ebb5-3e0d-488f-b7ef-da8165183aba",
           "88371294-7ed1-499d-b8e5-3d1070b7354f",
           "264b42da-30b3-80bb-8943-d29e46f0163c",
           "13a63062-a24e-4b96-b989-ac57809ff3e4",
           "f52ee8fd-bf12-472a-85a2-01572c78912d",
           "11ab42da-30b3-80ab-b07d-fb72bc3aafc0",
           "38384640-b197-4d46-b793-b9cd5dbe9a73",
           "78d6df1c-159f-47bb-9b0f-243ae706f9c8",
           "11bb42da-30b3-80f6-8dcb-f3a53720ddf4",
           "2b008d01-06b6-4749-ba28-02a2aa1acea4",
           "249b42da-30b3-8075-bbfe-d255bfdbc015",
           "942834c1-34c5-43cc-97b7-a8a0ef645a84",
           "249b42da-30b3-80ed-b62c-eee76874c710",
           "185b42da-30b3-806b-b7bc-dbe985651461",
           "3fd0b031-485c-4804-8400-85b3cfe26d3f",
           "32ec5219-5a4b-4e85-892f-e4c2e20b1881",
           "0a8dedb2-2836-4e29-b6fb-7f38b87c39e5",
           "8d01a8f6-2a56-4fb2-b4be-b2e816bd2d02",
           "ae0ee164-868b-4149-a452-eb83e6923fc9",
           "5d85541a-f1f7-42f3-b424-8851bed5300f",
           "122b42da-30b3-8022-88b5-d5212d80755f",
           "57a4b0ee-a007-4918-a944-77312f8b2306",
           "4845bf38-1d33-4949-a1f3-ade9436679fc",
           "81fd4459-3cb2-4e6a-9113-5ffb5e7a6f75",
           "afb6524b-9701-418b-aa00-6d1a6b7969d0",
           "245f7e77-4e1d-4621-ae0d-932dc78e1f15",
           "d6cd8164-a355-4b4a-a506-02eb9b34ba74",
           "f63533d5-5060-47e1-99bc-80a305f94471",
           "43db11b5-8688-4831-930a-b2a5ed51e717",
           "b7799cf5-ea66-4fcf-b705-630819a8ec8c",
           "0b539912-e3de-480a-8e64-1acf6c0b03b3",
           "0 Projects",
           "1 Projects",
           "2 Projects",
           "5 Projects",
           "6 Projects",
           "0 Roles",
           "1 Roles",
           "2 Roles",
           "3 Roles",
           "4 Roles",
           "6 Roles",
           "7 Roles",
           "10 Roles",
           "12 Roles"
          ],
          "line": {
           "color": "black",
           "width": 0.5
          },
          "pad": 25,
          "thickness": 20
         },
         "type": "sankey"
        }
       ],
       "layout": {
        "font": {
         "size": 12
        },
        "height": 800,
        "template": {
         "data": {
          "bar": [
           {
            "error_x": {
             "color": "#2a3f5f"
            },
            "error_y": {
             "color": "#2a3f5f"
            },
            "marker": {
             "line": {
              "color": "#E5ECF6",
              "width": 0.5
             },
             "pattern": {
              "fillmode": "overlay",
              "size": 10,
              "solidity": 0.2
             }
            },
            "type": "bar"
           }
          ],
          "barpolar": [
           {
            "marker": {
             "line": {
              "color": "#E5ECF6",
              "width": 0.5
             },
             "pattern": {
              "fillmode": "overlay",
              "size": 10,
              "solidity": 0.2
             }
            },
            "type": "barpolar"
           }
          ],
          "carpet": [
           {
            "aaxis": {
             "endlinecolor": "#2a3f5f",
             "gridcolor": "white",
             "linecolor": "white",
             "minorgridcolor": "white",
             "startlinecolor": "#2a3f5f"
            },
            "baxis": {
             "endlinecolor": "#2a3f5f",
             "gridcolor": "white",
             "linecolor": "white",
             "minorgridcolor": "white",
             "startlinecolor": "#2a3f5f"
            },
            "type": "carpet"
           }
          ],
          "choropleth": [
           {
            "colorbar": {
             "outlinewidth": 0,
             "ticks": ""
            },
            "type": "choropleth"
           }
          ],
          "contour": [
           {
            "colorbar": {
             "outlinewidth": 0,
             "ticks": ""
            },
            "colorscale": [
             [
              0,
              "#0d0887"
             ],
             [
              0.1111111111111111,
              "#46039f"
             ],
             [
              0.2222222222222222,
              "#7201a8"
             ],
             [
              0.3333333333333333,
              "#9c179e"
             ],
             [
              0.4444444444444444,
              "#bd3786"
             ],
             [
              0.5555555555555556,
              "#d8576b"
             ],
             [
              0.6666666666666666,
              "#ed7953"
             ],
             [
              0.7777777777777778,
              "#fb9f3a"
             ],
             [
              0.8888888888888888,
              "#fdca26"
             ],
             [
              1,
              "#f0f921"
             ]
            ],
            "type": "contour"
           }
          ],
          "contourcarpet": [
           {
            "colorbar": {
             "outlinewidth": 0,
             "ticks": ""
            },
            "type": "contourcarpet"
           }
          ],
          "heatmap": [
           {
            "colorbar": {
             "outlinewidth": 0,
             "ticks": ""
            },
            "colorscale": [
             [
              0,
              "#0d0887"
             ],
             [
              0.1111111111111111,
              "#46039f"
             ],
             [
              0.2222222222222222,
              "#7201a8"
             ],
             [
              0.3333333333333333,
              "#9c179e"
             ],
             [
              0.4444444444444444,
              "#bd3786"
             ],
             [
              0.5555555555555556,
              "#d8576b"
             ],
             [
              0.6666666666666666,
              "#ed7953"
             ],
             [
              0.7777777777777778,
              "#fb9f3a"
             ],
             [
              0.8888888888888888,
              "#fdca26"
             ],
             [
              1,
              "#f0f921"
             ]
            ],
            "type": "heatmap"
           }
          ],
          "histogram": [
           {
            "marker": {
             "pattern": {
              "fillmode": "overlay",
              "size": 10,
              "solidity": 0.2
             }
            },
            "type": "histogram"
           }
          ],
          "histogram2d": [
           {
            "colorbar": {
             "outlinewidth": 0,
             "ticks": ""
            },
            "colorscale": [
             [
              0,
              "#0d0887"
             ],
             [
              0.1111111111111111,
              "#46039f"
             ],
             [
              0.2222222222222222,
              "#7201a8"
             ],
             [
              0.3333333333333333,
              "#9c179e"
             ],
             [
              0.4444444444444444,
              "#bd3786"
             ],
             [
              0.5555555555555556,
              "#d8576b"
             ],
             [
              0.6666666666666666,
              "#ed7953"
             ],
             [
              0.7777777777777778,
              "#fb9f3a"
             ],
             [
              0.8888888888888888,
              "#fdca26"
             ],
             [
              1,
              "#f0f921"
             ]
            ],
            "type": "histogram2d"
           }
          ],
          "histogram2dcontour": [
           {
            "colorbar": {
             "outlinewidth": 0,
             "ticks": ""
            },
            "colorscale": [
             [
              0,
              "#0d0887"
             ],
             [
              0.1111111111111111,
              "#46039f"
             ],
             [
              0.2222222222222222,
              "#7201a8"
             ],
             [
              0.3333333333333333,
              "#9c179e"
             ],
             [
              0.4444444444444444,
              "#bd3786"
             ],
             [
              0.5555555555555556,
              "#d8576b"
             ],
             [
              0.6666666666666666,
              "#ed7953"
             ],
             [
              0.7777777777777778,
              "#fb9f3a"
             ],
             [
              0.8888888888888888,
              "#fdca26"
             ],
             [
              1,
              "#f0f921"
             ]
            ],
            "type": "histogram2dcontour"
           }
          ],
          "mesh3d": [
           {
            "colorbar": {
             "outlinewidth": 0,
             "ticks": ""
            },
            "type": "mesh3d"
           }
          ],
          "parcoords": [
           {
            "line": {
             "colorbar": {
              "outlinewidth": 0,
              "ticks": ""
             }
            },
            "type": "parcoords"
           }
          ],
          "pie": [
           {
            "automargin": true,
            "type": "pie"
           }
          ],
          "scatter": [
           {
            "fillpattern": {
             "fillmode": "overlay",
             "size": 10,
             "solidity": 0.2
            },
            "type": "scatter"
           }
          ],
          "scatter3d": [
           {
            "line": {
             "colorbar": {
              "outlinewidth": 0,
              "ticks": ""
             }
            },
            "marker": {
             "colorbar": {
              "outlinewidth": 0,
              "ticks": ""
             }
            },
            "type": "scatter3d"
           }
          ],
          "scattercarpet": [
           {
            "marker": {
             "colorbar": {
              "outlinewidth": 0,
              "ticks": ""
             }
            },
            "type": "scattercarpet"
           }
          ],
          "scattergeo": [
           {
            "marker": {
             "colorbar": {
              "outlinewidth": 0,
              "ticks": ""
             }
            },
            "type": "scattergeo"
           }
          ],
          "scattergl": [
           {
            "marker": {
             "colorbar": {
              "outlinewidth": 0,
              "ticks": ""
             }
            },
            "type": "scattergl"
           }
          ],
          "scattermap": [
           {
            "marker": {
             "colorbar": {
              "outlinewidth": 0,
              "ticks": ""
             }
            },
            "type": "scattermap"
           }
          ],
          "scattermapbox": [
           {
            "marker": {
             "colorbar": {
              "outlinewidth": 0,
              "ticks": ""
             }
            },
            "type": "scattermapbox"
           }
          ],
          "scatterpolar": [
           {
            "marker": {
             "colorbar": {
              "outlinewidth": 0,
              "ticks": ""
             }
            },
            "type": "scatterpolar"
           }
          ],
          "scatterpolargl": [
           {
            "marker": {
             "colorbar": {
              "outlinewidth": 0,
              "ticks": ""
             }
            },
            "type": "scatterpolargl"
           }
          ],
          "scatterternary": [
           {
            "marker": {
             "colorbar": {
              "outlinewidth": 0,
              "ticks": ""
             }
            },
            "type": "scatterternary"
           }
          ],
          "surface": [
           {
            "colorbar": {
             "outlinewidth": 0,
             "ticks": ""
            },
            "colorscale": [
             [
              0,
              "#0d0887"
             ],
             [
              0.1111111111111111,
              "#46039f"
             ],
             [
              0.2222222222222222,
              "#7201a8"
             ],
             [
              0.3333333333333333,
              "#9c179e"
             ],
             [
              0.4444444444444444,
              "#bd3786"
             ],
             [
              0.5555555555555556,
              "#d8576b"
             ],
             [
              0.6666666666666666,
              "#ed7953"
             ],
             [
              0.7777777777777778,
              "#fb9f3a"
             ],
             [
              0.8888888888888888,
              "#fdca26"
             ],
             [
              1,
              "#f0f921"
             ]
            ],
            "type": "surface"
           }
          ],
          "table": [
           {
            "cells": {
             "fill": {
              "color": "#EBF0F8"
             },
             "line": {
              "color": "white"
             }
            },
            "header": {
             "fill": {
              "color": "#C8D4E3"
             },
             "line": {
              "color": "white"
             }
            },
            "type": "table"
           }
          ]
         },
         "layout": {
          "annotationdefaults": {
           "arrowcolor": "#2a3f5f",
           "arrowhead": 0,
           "arrowwidth": 1
          },
          "autotypenumbers": "strict",
          "coloraxis": {
           "colorbar": {
            "outlinewidth": 0,
            "ticks": ""
           }
          },
          "colorscale": {
           "diverging": [
            [
             0,
             "#8e0152"
            ],
            [
             0.1,
             "#c51b7d"
            ],
            [
             0.2,
             "#de77ae"
            ],
            [
             0.3,
             "#f1b6da"
            ],
            [
             0.4,
             "#fde0ef"
            ],
            [
             0.5,
             "#f7f7f7"
            ],
            [
             0.6,
             "#e6f5d0"
            ],
            [
             0.7,
             "#b8e186"
            ],
            [
             0.8,
             "#7fbc41"
            ],
            [
             0.9,
             "#4d9221"
            ],
            [
             1,
             "#276419"
            ]
           ],
           "sequential": [
            [
             0,
             "#0d0887"
            ],
            [
             0.1111111111111111,
             "#46039f"
            ],
            [
             0.2222222222222222,
             "#7201a8"
            ],
            [
             0.3333333333333333,
             "#9c179e"
            ],
            [
             0.4444444444444444,
             "#bd3786"
            ],
            [
             0.5555555555555556,
             "#d8576b"
            ],
            [
             0.6666666666666666,
             "#ed7953"
            ],
            [
             0.7777777777777778,
             "#fb9f3a"
            ],
            [
             0.8888888888888888,
             "#fdca26"
            ],
            [
             1,
             "#f0f921"
            ]
           ],
           "sequentialminus": [
            [
             0,
             "#0d0887"
            ],
            [
             0.1111111111111111,
             "#46039f"
            ],
            [
             0.2222222222222222,
             "#7201a8"
            ],
            [
             0.3333333333333333,
             "#9c179e"
            ],
            [
             0.4444444444444444,
             "#bd3786"
            ],
            [
             0.5555555555555556,
             "#d8576b"
            ],
            [
             0.6666666666666666,
             "#ed7953"
            ],
            [
             0.7777777777777778,
             "#fb9f3a"
            ],
            [
             0.8888888888888888,
             "#fdca26"
            ],
            [
             1,
             "#f0f921"
            ]
           ]
          },
          "colorway": [
           "#636efa",
           "#EF553B",
           "#00cc96",
           "#ab63fa",
           "#FFA15A",
           "#19d3f3",
           "#FF6692",
           "#B6E880",
           "#FF97FF",
           "#FECB52"
          ],
          "font": {
           "color": "#2a3f5f"
          },
          "geo": {
           "bgcolor": "white",
           "lakecolor": "white",
           "landcolor": "#E5ECF6",
           "showlakes": true,
           "showland": true,
           "subunitcolor": "white"
          },
          "hoverlabel": {
           "align": "left"
          },
          "hovermode": "closest",
          "mapbox": {
           "style": "light"
          },
          "paper_bgcolor": "white",
          "plot_bgcolor": "#E5ECF6",
          "polar": {
           "angularaxis": {
            "gridcolor": "white",
            "linecolor": "white",
            "ticks": ""
           },
           "bgcolor": "#E5ECF6",
           "radialaxis": {
            "gridcolor": "white",
            "linecolor": "white",
            "ticks": ""
           }
          },
          "scene": {
           "xaxis": {
            "backgroundcolor": "#E5ECF6",
            "gridcolor": "white",
            "gridwidth": 2,
            "linecolor": "white",
            "showbackground": true,
            "ticks": "",
            "zerolinecolor": "white"
           },
           "yaxis": {
            "backgroundcolor": "#E5ECF6",
            "gridcolor": "white",
            "gridwidth": 2,
            "linecolor": "white",
            "showbackground": true,
            "ticks": "",
            "zerolinecolor": "white"
           },
           "zaxis": {
            "backgroundcolor": "#E5ECF6",
            "gridcolor": "white",
            "gridwidth": 2,
            "linecolor": "white",
            "showbackground": true,
            "ticks": "",
            "zerolinecolor": "white"
           }
          },
          "shapedefaults": {
           "line": {
            "color": "#2a3f5f"
           }
          },
          "ternary": {
           "aaxis": {
            "gridcolor": "white",
            "linecolor": "white",
            "ticks": ""
           },
           "baxis": {
            "gridcolor": "white",
            "linecolor": "white",
            "ticks": ""
           },
           "bgcolor": "#E5ECF6",
           "caxis": {
            "gridcolor": "white",
            "linecolor": "white",
            "ticks": ""
           }
          },
          "title": {
           "x": 0.05
          },
          "xaxis": {
           "automargin": true,
           "gridcolor": "white",
           "linecolor": "white",
           "ticks": "",
           "title": {
            "standoff": 15
           },
           "zerolinecolor": "white",
           "zerolinewidth": 2
          },
          "yaxis": {
           "automargin": true,
           "gridcolor": "white",
           "linecolor": "white",
           "ticks": "",
           "title": {
            "standoff": 15
           },
           "zerolinecolor": "white",
           "zerolinewidth": 2
          }
         }
        },
        "title": {
         "text": "Overall Client -> Projects -> Roles Flow"
        }
       }
      }
     },
     "metadata": {},
     "output_type": "display_data"
    }
   ],
   "source": [
    "# Overall Multi-Level Sankey: Clients -> Projects -> Roles\n",
    "import plotly.graph_objects as go\n",
    "\n",
    "print(\"=== OVERALL SANKEY DIAGRAM: CLIENTS -> PROJECTS -> ROLES ===\")\n",
    "\n",
    "# Check for required data\n",
    "if 'clients_only' in locals() and all(c in clients_only.columns for c in ['client_id', 'n_projects', 'n_roles']):\n",
    "    \n",
    "    # Prepare the data by dropping rows with missing values in key columns\n",
    "    sankey_data = clients_only.dropna(subset=['client_id', 'n_projects', 'n_roles']).copy()\n",
    "    client_col = 'client_id'\n",
    "\n",
    "    if not sankey_data.empty:\n",
    "        print(f\"✓ Data prepared. Generating a single diagram for all {len(sankey_data)} client records.\")\n",
    "\n",
    "        # --- Prepare data for Plotly Sankey ---\n",
    "        # 1. Create unique labels for all nodes\n",
    "        client_labels = sankey_data[client_col].unique()\n",
    "        project_labels = [f\"{int(p)} Projects\" for p in sorted(sankey_data['n_projects'].unique())]\n",
    "        role_labels = [f\"{int(r)} Roles\" for r in sorted(sankey_data['n_roles'].unique())]\n",
    "        \n",
    "        # Combine all labels, ensuring no duplicates\n",
    "        all_labels = list(dict.fromkeys(list(client_labels) + project_labels + role_labels))\n",
    "        \n",
    "        # 2. Create a mapping from label to index\n",
    "        label_to_idx = {label: i for i, label in enumerate(all_labels)}\n",
    "        \n",
    "        # 3. Create source, target, and value lists for the links\n",
    "        source = []\n",
    "        target = []\n",
    "        value = []\n",
    "        \n",
    "        # Group by client, project count, and role count to aggregate flows\n",
    "        # The 'count' will represent how many clients share the exact same project/role numbers\n",
    "        grouped = sankey_data.groupby([client_col, 'n_projects', 'n_roles']).size().reset_index(name='count')\n",
    "\n",
    "        for _, row in grouped.iterrows():\n",
    "            # Link 1: Client -> Projects\n",
    "            source.append(label_to_idx[row[client_col]])\n",
    "            target.append(label_to_idx[f\"{int(row['n_projects'])} Projects\"])\n",
    "            value.append(row['count'])\n",
    "\n",
    "            # Link 2: Projects -> Roles\n",
    "            source.append(label_to_idx[f\"{int(row['n_projects'])} Projects\"])\n",
    "            target.append(label_to_idx[f\"{int(row['n_roles'])} Roles\"])\n",
    "            value.append(row['count'])\n",
    "\n",
    "        # --- Create the Figure ---\n",
    "        fig = go.Figure(data=[go.Sankey(\n",
    "            node=dict(\n",
    "                pad=25,\n",
    "                thickness=20,\n",
    "                line=dict(color=\"black\", width=0.5),\n",
    "                label=all_labels,\n",
    "                color=\"cornflowerblue\"\n",
    "            ),\n",
    "            link=dict(\n",
    "                source=source,\n",
    "                target=target,\n",
    "                value=value\n",
    "            ))])\n",
    "\n",
    "        fig.update_layout(\n",
    "            title_text=\"Overall Client -> Projects -> Roles Flow\",\n",
    "            font_size=12,\n",
    "            height=800 # Adjust height for better readability if there are many clients\n",
    "        )\n",
    "        fig.show()\n",
    "            \n",
    "    else:\n",
    "        print(\"❌ No complete client data (client, projects, roles) available to generate a diagram.\")\n",
    "else:\n",
    "    print(\"❌ 'clients_only' DataFrame not found or missing required columns ('client_id', 'n_projects', 'n_roles').\")\n",
    "    print(\"Please run the previous analysis cells first.\")"
   ]
  },
  {
   "cell_type": "code",
   "execution_count": 15,
   "id": "83830989",
   "metadata": {},
   "outputs": [
    {
     "data": {
      "text/html": [
       "<div>\n",
       "<style scoped>\n",
       "    .dataframe tbody tr th:only-of-type {\n",
       "        vertical-align: middle;\n",
       "    }\n",
       "\n",
       "    .dataframe tbody tr th {\n",
       "        vertical-align: top;\n",
       "    }\n",
       "\n",
       "    .dataframe thead th {\n",
       "        text-align: right;\n",
       "    }\n",
       "</style>\n",
       "<table border=\"1\" class=\"dataframe\">\n",
       "  <thead>\n",
       "    <tr style=\"text-align: right;\">\n",
       "      <th></th>\n",
       "      <th>client_id</th>\n",
       "      <th>category</th>\n",
       "      <th>industry_id</th>\n",
       "      <th>company_size</th>\n",
       "      <th>company_type</th>\n",
       "      <th>n_roles</th>\n",
       "      <th>n_projects</th>\n",
       "      <th>n_people</th>\n",
       "      <th>started_at</th>\n",
       "      <th>name_anon</th>\n",
       "    </tr>\n",
       "  </thead>\n",
       "  <tbody>\n",
       "    <tr>\n",
       "      <th>47</th>\n",
       "      <td>0b539912-e3de-480a-8e64-1acf6c0b03b3</td>\n",
       "      <td>Clients</td>\n",
       "      <td>f99a9738-1f86-48ec-b212-28ec0ad4c8e4</td>\n",
       "      <td>&gt;250</td>\n",
       "      <td>Private</td>\n",
       "      <td>12</td>\n",
       "      <td>6</td>\n",
       "      <td>0</td>\n",
       "      <td>2021-10-04</td>\n",
       "      <td>Ortega Group</td>\n",
       "    </tr>\n",
       "  </tbody>\n",
       "</table>\n",
       "</div>"
      ],
      "text/plain": [
       "                               client_id category  \\\n",
       "47  0b539912-e3de-480a-8e64-1acf6c0b03b3  Clients   \n",
       "\n",
       "                             industry_id company_size company_type  n_roles  \\\n",
       "47  f99a9738-1f86-48ec-b212-28ec0ad4c8e4         >250      Private       12   \n",
       "\n",
       "    n_projects  n_people  started_at     name_anon  \n",
       "47           6         0  2021-10-04  Ortega Group  "
      ]
     },
     "execution_count": 15,
     "metadata": {},
     "output_type": "execute_result"
    }
   ],
   "source": [
    "df_clients[df_clients['n_projects'] == 6]"
   ]
  },
  {
   "cell_type": "code",
   "execution_count": 14,
   "id": "5e291c78",
   "metadata": {},
   "outputs": [
    {
     "name": "stdout",
     "output_type": "stream",
     "text": [
      "=== N_PROJECTS STATISTICAL ANALYSIS (CLIENTS ONLY) ===\n",
      "\n",
      "✓ category column found\n",
      "Original records: 48\n",
      "Records with category='Clients': 35\n",
      "Filtered out: 13 non-client records\n",
      "\n",
      "✓ n_projects column found\n",
      "\n",
      "=== BASIC STATISTICS ===\n",
      "Total client records (category='Clients'): 35\n",
      "Clients with valid n_projects: 35\n",
      "Clients with missing n_projects: 0\n",
      "\n",
      "=== DESCRIPTIVE STATISTICS ===\n",
      "count    35.000000\n",
      "mean      1.285714\n",
      "std       1.177521\n",
      "min       0.000000\n",
      "25%       1.000000\n",
      "50%       1.000000\n",
      "75%       1.000000\n",
      "max       6.000000\n",
      "Name: n_projects, dtype: float64\n",
      "\n",
      "Additional metrics:\n",
      "  Mode (most common): 1\n",
      "  Range: 6\n",
      "  Variance: 1.39\n",
      "  Skewness: 2.84\n",
      "  Kurtosis: 9.43\n",
      "\n",
      "=== PERCENTILE BREAKDOWN ===\n",
      "  10th percentile: 0.4 projects\n",
      "  25th percentile: 1.0 projects\n",
      "  50th percentile: 1.0 projects\n",
      "  75th percentile: 1.0 projects\n",
      "  90th percentile: 2.0 projects\n",
      "  95th percentile: 2.9 projects\n",
      "  99th percentile: 5.7 projects\n",
      "\n",
      "=== DISTRIBUTION OF n_projects ===\n",
      "n_projects\n",
      "0     4\n",
      "1    24\n",
      "2     5\n",
      "5     1\n",
      "6     1\n",
      "Name: count, dtype: int64\n",
      "\n",
      "=== CLIENT CATEGORIES BY PROJECT COUNT ===\n",
      "project_count_category\n",
      "Single (1)          24\n",
      "Few (2-3)            5\n",
      "Several (4-5)        1\n",
      "Many (6-10)          1\n",
      "Large (11-20)        0\n",
      "Very Large (20+)     0\n",
      "Name: count, dtype: int64\n",
      "\n",
      "Percentages:\n",
      "project_count_category\n",
      "Single (1)          68.57\n",
      "Few (2-3)           14.29\n",
      "Several (4-5)        2.86\n",
      "Many (6-10)          2.86\n",
      "Large (11-20)        0.00\n",
      "Very Large (20+)     0.00\n",
      "Name: count, dtype: float64\n",
      "\n",
      "⚠️  WARNING: 4 clients have 0 projects (11.43%)\n",
      "This may indicate data quality issues.\n",
      "\n",
      "=== TOP 10 CLIENTS BY PROJECT COUNT ===\n"
     ]
    },
    {
     "data": {
      "text/html": [
       "<div>\n",
       "<style scoped>\n",
       "    .dataframe tbody tr th:only-of-type {\n",
       "        vertical-align: middle;\n",
       "    }\n",
       "\n",
       "    .dataframe tbody tr th {\n",
       "        vertical-align: top;\n",
       "    }\n",
       "\n",
       "    .dataframe thead th {\n",
       "        text-align: right;\n",
       "    }\n",
       "</style>\n",
       "<table border=\"1\" class=\"dataframe\">\n",
       "  <thead>\n",
       "    <tr style=\"text-align: right;\">\n",
       "      <th></th>\n",
       "      <th>client_id</th>\n",
       "      <th>n_projects</th>\n",
       "      <th>n_people</th>\n",
       "      <th>n_roles</th>\n",
       "    </tr>\n",
       "  </thead>\n",
       "  <tbody>\n",
       "    <tr>\n",
       "      <th>47</th>\n",
       "      <td>0b539912-e3de-480a-8e64-1acf6c0b03b3</td>\n",
       "      <td>6</td>\n",
       "      <td>0</td>\n",
       "      <td>12</td>\n",
       "    </tr>\n",
       "    <tr>\n",
       "      <th>37</th>\n",
       "      <td>122b42da-30b3-8022-88b5-d5212d80755f</td>\n",
       "      <td>5</td>\n",
       "      <td>0</td>\n",
       "      <td>3</td>\n",
       "    </tr>\n",
       "    <tr>\n",
       "      <th>39</th>\n",
       "      <td>4845bf38-1d33-4949-a1f3-ade9436679fc</td>\n",
       "      <td>2</td>\n",
       "      <td>0</td>\n",
       "      <td>4</td>\n",
       "    </tr>\n",
       "    <tr>\n",
       "      <th>41</th>\n",
       "      <td>afb6524b-9701-418b-aa00-6d1a6b7969d0</td>\n",
       "      <td>2</td>\n",
       "      <td>0</td>\n",
       "      <td>4</td>\n",
       "    </tr>\n",
       "    <tr>\n",
       "      <th>42</th>\n",
       "      <td>245f7e77-4e1d-4621-ae0d-932dc78e1f15</td>\n",
       "      <td>2</td>\n",
       "      <td>0</td>\n",
       "      <td>4</td>\n",
       "    </tr>\n",
       "    <tr>\n",
       "      <th>43</th>\n",
       "      <td>d6cd8164-a355-4b4a-a506-02eb9b34ba74</td>\n",
       "      <td>2</td>\n",
       "      <td>1</td>\n",
       "      <td>4</td>\n",
       "    </tr>\n",
       "    <tr>\n",
       "      <th>44</th>\n",
       "      <td>f63533d5-5060-47e1-99bc-80a305f94471</td>\n",
       "      <td>2</td>\n",
       "      <td>5</td>\n",
       "      <td>6</td>\n",
       "    </tr>\n",
       "    <tr>\n",
       "      <th>10</th>\n",
       "      <td>7fa223a8-390d-4d99-8766-51d0c87726bb</td>\n",
       "      <td>1</td>\n",
       "      <td>0</td>\n",
       "      <td>0</td>\n",
       "    </tr>\n",
       "    <tr>\n",
       "      <th>11</th>\n",
       "      <td>53354996-d9a0-4312-b5d5-8ecb56a13048</td>\n",
       "      <td>1</td>\n",
       "      <td>0</td>\n",
       "      <td>1</td>\n",
       "    </tr>\n",
       "    <tr>\n",
       "      <th>12</th>\n",
       "      <td>e484733b-a243-4358-8def-b422d77cceb2</td>\n",
       "      <td>1</td>\n",
       "      <td>1</td>\n",
       "      <td>1</td>\n",
       "    </tr>\n",
       "  </tbody>\n",
       "</table>\n",
       "</div>"
      ],
      "text/plain": [
       "                               client_id  n_projects  n_people  n_roles\n",
       "47  0b539912-e3de-480a-8e64-1acf6c0b03b3           6         0       12\n",
       "37  122b42da-30b3-8022-88b5-d5212d80755f           5         0        3\n",
       "39  4845bf38-1d33-4949-a1f3-ade9436679fc           2         0        4\n",
       "41  afb6524b-9701-418b-aa00-6d1a6b7969d0           2         0        4\n",
       "42  245f7e77-4e1d-4621-ae0d-932dc78e1f15           2         0        4\n",
       "43  d6cd8164-a355-4b4a-a506-02eb9b34ba74           2         1        4\n",
       "44  f63533d5-5060-47e1-99bc-80a305f94471           2         5        6\n",
       "10  7fa223a8-390d-4d99-8766-51d0c87726bb           1         0        0\n",
       "11  53354996-d9a0-4312-b5d5-8ecb56a13048           1         0        1\n",
       "12  e484733b-a243-4358-8def-b422d77cceb2           1         1        1"
      ]
     },
     "metadata": {},
     "output_type": "display_data"
    },
    {
     "data": {
      "image/png": "[encoded data removed]",
      "text/plain": [
       "<Figure size 1600x1200 with 4 Axes>"
      ]
     },
     "metadata": {},
     "output_type": "display_data"
    },
    {
     "name": "stdout",
     "output_type": "stream",
     "text": [
      "\n",
      "✓ Analysis complete\n"
     ]
    }
   ],
   "source": [
    "# Statistical Analysis of n_projects in Client Data (CLIENTS ONLY)\n",
    "print(\"=== N_PROJECTS STATISTICAL ANALYSIS (CLIENTS ONLY) ===\\n\")\n",
    "\n",
    "# First, filter for only \"Clients\" category\n",
    "if 'category' in df_clients.columns:\n",
    "    print(\"✓ category column found\")\n",
    "    \n",
    "    # Filter for only Clients (exclude internal/other categories)\n",
    "    clients_filtered = df_clients[df_clients['category'] == 'Clients'].copy()\n",
    "    \n",
    "    print(f\"Original records: {len(df_clients)}\")\n",
    "    print(f\"Records with category='Clients': {len(clients_filtered)}\")\n",
    "    print(f\"Filtered out: {len(df_clients) - len(clients_filtered)} non-client records\")\n",
    "    \n",
    "    if 'n_projects' in clients_filtered.columns:\n",
    "        print(\"\\n✓ n_projects column found\")\n",
    "        \n",
    "        # Remove any null values for analysis\n",
    "        n_projects_clean = clients_filtered['n_projects'].dropna()\n",
    "        \n",
    "        print(f\"\\n=== BASIC STATISTICS ===\")\n",
    "        print(f\"Total client records (category='Clients'): {len(clients_filtered)}\")\n",
    "        print(f\"Clients with valid n_projects: {len(n_projects_clean)}\")\n",
    "        print(f\"Clients with missing n_projects: {clients_filtered['n_projects'].isna().sum()}\")\n",
    "        \n",
    "        # Descriptive statistics\n",
    "        print(f\"\\n=== DESCRIPTIVE STATISTICS ===\")\n",
    "        print(n_projects_clean.describe())\n",
    "        \n",
    "        print(f\"\\nAdditional metrics:\")\n",
    "        print(f\"  Mode (most common): {n_projects_clean.mode().values[0] if len(n_projects_clean.mode()) > 0 else 'N/A'}\")\n",
    "        print(f\"  Range: {n_projects_clean.max() - n_projects_clean.min()}\")\n",
    "        print(f\"  Variance: {n_projects_clean.var():.2f}\")\n",
    "        print(f\"  Skewness: {n_projects_clean.skew():.2f}\")\n",
    "        print(f\"  Kurtosis: {n_projects_clean.kurtosis():.2f}\")\n",
    "        \n",
    "        # Percentile breakdown\n",
    "        print(f\"\\n=== PERCENTILE BREAKDOWN ===\")\n",
    "        percentiles = [10, 25, 50, 75, 90, 95, 99]\n",
    "        for p in percentiles:\n",
    "            value = np.percentile(n_projects_clean, p)\n",
    "            print(f\"  {p}th percentile: {value:.1f} projects\")\n",
    "        \n",
    "        # Distribution of values\n",
    "        print(f\"\\n=== DISTRIBUTION OF n_projects ===\")\n",
    "        value_counts = n_projects_clean.value_counts().sort_index()\n",
    "        print(value_counts.head(20))\n",
    "        \n",
    "        # Category breakdown\n",
    "        print(f\"\\n=== CLIENT CATEGORIES BY PROJECT COUNT ===\")\n",
    "        clients_temp = clients_filtered.copy()\n",
    "        clients_temp['project_count_category'] = pd.cut(\n",
    "            clients_temp['n_projects'],\n",
    "            bins=[0, 1, 3, 5, 10, 20, float('inf')],\n",
    "            labels=['Single (1)', 'Few (2-3)', 'Several (4-5)', 'Many (6-10)', 'Large (11-20)', 'Very Large (20+)']\n",
    "        )\n",
    "        \n",
    "        category_counts = clients_temp['project_count_category'].value_counts().sort_index()\n",
    "        print(category_counts)\n",
    "        print(f\"\\nPercentages:\")\n",
    "        print((category_counts / len(clients_filtered) * 100).round(2))\n",
    "        \n",
    "        # Clients with zero projects (data quality check)\n",
    "        zero_projects = clients_filtered[clients_filtered['n_projects'] == 0]\n",
    "        if len(zero_projects) > 0:\n",
    "            print(f\"\\n⚠️  WARNING: {len(zero_projects)} clients have 0 projects ({len(zero_projects)/len(clients_filtered)*100:.2f}%)\")\n",
    "            print(\"This may indicate data quality issues.\")\n",
    "        \n",
    "        # Top clients by project count\n",
    "        print(f\"\\n=== TOP 10 CLIENTS BY PROJECT COUNT ===\")\n",
    "        top_clients = clients_filtered.nlargest(10, 'n_projects')[['client_id', 'n_projects', 'n_people', 'n_roles']]\n",
    "        display(top_clients)\n",
    "        \n",
    "        # Visualizations\n",
    "        fig, axes = plt.subplots(2, 2, figsize=(16, 12))\n",
    "        \n",
    "        # 1. Histogram\n",
    "        axes[0, 0].hist(n_projects_clean, bins=30, color='steelblue', edgecolor='black', alpha=0.7)\n",
    "        axes[0, 0].axvline(n_projects_clean.mean(), color='red', linestyle='--', linewidth=2, \n",
    "                           label=f'Mean: {n_projects_clean.mean():.1f}')\n",
    "        axes[0, 0].axvline(n_projects_clean.median(), color='green', linestyle='--', linewidth=2, \n",
    "                           label=f'Median: {n_projects_clean.median():.1f}')\n",
    "        axes[0, 0].set_title('Distribution of Projects per Client (Clients Only)', fontsize=14, fontweight='bold')\n",
    "        axes[0, 0].set_xlabel('Number of Projects')\n",
    "        axes[0, 0].set_ylabel('Number of Clients')\n",
    "        axes[0, 0].legend()\n",
    "        axes[0, 0].grid(True, alpha=0.3)\n",
    "        \n",
    "        # 2. Box plot\n",
    "        axes[0, 1].boxplot(n_projects_clean, vert=True)\n",
    "        axes[0, 1].set_title('Box Plot of Projects per Client (Clients Only)', fontsize=14, fontweight='bold')\n",
    "        axes[0, 1].set_ylabel('Number of Projects')\n",
    "        axes[0, 1].grid(True, alpha=0.3)\n",
    "        \n",
    "        # 3. Category bar chart\n",
    "        category_counts.plot(kind='bar', ax=axes[1, 0], color='coral', edgecolor='black')\n",
    "        axes[1, 0].set_title('Clients by Project Count Category', fontsize=14, fontweight='bold')\n",
    "        axes[1, 0].set_xlabel('Category')\n",
    "        axes[1, 0].set_ylabel('Number of Clients')\n",
    "        axes[1, 0].tick_params(axis='x', rotation=45)\n",
    "        axes[1, 0].grid(True, alpha=0.3, axis='y')\n",
    "        \n",
    "        # 4. Cumulative distribution\n",
    "        sorted_projects = n_projects_clean.sort_values()\n",
    "        cumulative_pct = np.arange(1, len(sorted_projects) + 1) / len(sorted_projects) * 100\n",
    "        axes[1, 1].plot(sorted_projects, cumulative_pct, color='purple', linewidth=2)\n",
    "        axes[1, 1].set_title('Cumulative Distribution of Projects (Clients Only)', fontsize=14, fontweight='bold')\n",
    "        axes[1, 1].set_xlabel('Number of Projects')\n",
    "        axes[1, 1].set_ylabel('Cumulative Percentage (%)')\n",
    "        axes[1, 1].grid(True, alpha=0.3)\n",
    "        \n",
    "        # Add reference lines at key percentiles\n",
    "        for p in [25, 50, 75, 90]:\n",
    "            value = np.percentile(n_projects_clean, p)\n",
    "            axes[1, 1].axhline(y=p, color='gray', linestyle=':', alpha=0.5)\n",
    "            axes[1, 1].axvline(x=value, color='gray', linestyle=':', alpha=0.5)\n",
    "            axes[1, 1].text(value, p, f'  P{p}', fontsize=8, va='bottom')\n",
    "        \n",
    "        plt.tight_layout()\n",
    "        plt.show()\n",
    "        \n",
    "        print(f\"\\n✓ Analysis complete\")\n",
    "        \n",
    "    else:\n",
    "        print(\"❌ n_projects column not found in filtered clients\")\n",
    "        print(f\"Available columns: {list(clients_filtered.columns)}\")\n",
    "        \n",
    "else:\n",
    "    print(\"❌ category column not found in df_clients\")\n",
    "    print(f\"Available columns: {list(df_clients.columns)}\")\n",
    "    print(\"\\nCannot filter for 'Clients' category. Using all data instead.\")"
   ]
  },
  {
   "cell_type": "code",
   "execution_count": 16,
   "id": "95dca5d2",
   "metadata": {},
   "outputs": [
    {
     "data": {
      "text/plain": [
       "np.int64(45)"
      ]
     },
     "execution_count": 16,
     "metadata": {},
     "output_type": "execute_result"
    }
   ],
   "source": [
    "clients_filtered.n_projects.sum()"
   ]
  },
  {
   "cell_type": "code",
   "execution_count": null,
   "id": "5555e216",
   "metadata": {},
   "outputs": [],
   "source": []
  }
 ],
 "metadata": {
  "kernelspec": {
   "display_name": ".venv",
   "language": "python",
   "name": "python3"
  },
  "language_info": {
   "codemirror_mode": {
    "name": "ipython",
    "version": 3
   },
   "file_extension": ".py",
   "mimetype": "text/x-python",
   "name": "python",
   "nbconvert_exporter": "python",
   "pygments_lexer": "ipython3",
   "version": "3.11.5"
  }
 },
 "nbformat": 4,
 "nbformat_minor": 5
}
