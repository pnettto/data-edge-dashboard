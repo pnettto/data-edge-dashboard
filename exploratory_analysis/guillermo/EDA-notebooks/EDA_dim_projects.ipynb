{
 "cells": [
  {
   "cell_type": "code",
   "execution_count": 1,
   "id": "7f71a146",
   "metadata": {},
   "outputs": [],
   "source": [
    "# Import Required Libraries\n",
    "import pandas as pd\n",
    "import numpy as np\n",
    "import matplotlib.pyplot as plt\n",
    "import seaborn as sns\n",
    "import os\n",
    "from pathlib import Path\n",
    "\n",
    "# Set display options\n",
    "pd.set_option('display.max_columns', None)\n",
    "pd.set_option('display.max_rows', 100)\n",
    "plt.style.use('seaborn-v0_8')\n",
    "sns.set_palette(\"husl\")"
   ]
  },
  {
   "cell_type": "code",
   "execution_count": 2,
   "id": "0c7617ee",
   "metadata": {},
   "outputs": [
    {
     "name": "stdout",
     "output_type": "stream",
     "text": [
      "✓ File found: c:\\Users\\guine\\Documents\\BC#4\\Hyper_python\\BI project\\Data Edge Internal Data\\dim__projects__anonymized.csv\n",
      "File size: 10757 bytes\n"
     ]
    }
   ],
   "source": [
    "# Set Data Directory Path\n",
    "data_dir = r\"c:\\Users\\guine\\Documents\\BC#4\\Hyper_python\\BI project\\Data Edge Internal Data\"\n",
    "file_path = os.path.join(data_dir, \"dim__projects__anonymized.csv\")\n",
    "\n",
    "# Verify file exists\n",
    "if os.path.exists(file_path):\n",
    "    print(f\"✓ File found: {file_path}\")\n",
    "    print(f\"File size: {os.path.getsize(file_path)} bytes\")\n",
    "else:\n",
    "    print(f\"✗ File not found: {file_path}\")"
   ]
  },
  {
   "cell_type": "code",
   "execution_count": 3,
   "id": "595ae2db",
   "metadata": {},
   "outputs": [
    {
     "name": "stdout",
     "output_type": "stream",
     "text": [
      "✓ Data loaded successfully!\n",
      "Dataset shape: (91, 7)\n"
     ]
    }
   ],
   "source": [
    "# Load Project Data\n",
    "try:\n",
    "    df_projects = pd.read_csv(file_path)\n",
    "    print(\"✓ Data loaded successfully!\")\n",
    "    print(f\"Dataset shape: {df_projects.shape}\")\n",
    "except Exception as e:\n",
    "    print(f\"✗ Error loading data: {e}\")"
   ]
  },
  {
   "cell_type": "code",
   "execution_count": 4,
   "id": "db45cd8b",
   "metadata": {},
   "outputs": [
    {
     "name": "stdout",
     "output_type": "stream",
     "text": [
      "=== BASIC INFORMATION ===\n",
      "Shape: (91, 7)\n",
      "Columns: ['project_id', 'client_id', 'clockify_project_billable', 'project_duration', 'estimated_durationn', 'client_anon', 'project_anon']\n",
      "Data types:\n",
      "project_id                   object\n",
      "client_id                    object\n",
      "clockify_project_billable      bool\n",
      "project_duration             object\n",
      "estimated_durationn          object\n",
      "client_anon                  object\n",
      "project_anon                 object\n",
      "dtype: object\n",
      "\n",
      "Memory usage: 39.87 KB\n"
     ]
    }
   ],
   "source": [
    "# Basic Information\n",
    "print(\"=== BASIC INFORMATION ===\")\n",
    "print(f\"Shape: {df_projects.shape}\")\n",
    "print(f\"Columns: {list(df_projects.columns)}\")\n",
    "print(f\"Data types:\\n{df_projects.dtypes}\")\n",
    "print(f\"\\nMemory usage: {df_projects.memory_usage(deep=True).sum() / 1024:.2f} KB\")"
   ]
  },
  {
   "cell_type": "code",
   "execution_count": 5,
   "id": "abed57af",
   "metadata": {},
   "outputs": [
    {
     "name": "stdout",
     "output_type": "stream",
     "text": [
      "=== FIRST 5 ROWS ===\n"
     ]
    },
    {
     "data": {
      "text/html": [
       "<div>\n",
       "<style scoped>\n",
       "    .dataframe tbody tr th:only-of-type {\n",
       "        vertical-align: middle;\n",
       "    }\n",
       "\n",
       "    .dataframe tbody tr th {\n",
       "        vertical-align: top;\n",
       "    }\n",
       "\n",
       "    .dataframe thead th {\n",
       "        text-align: right;\n",
       "    }\n",
       "</style>\n",
       "<table border=\"1\" class=\"dataframe\">\n",
       "  <thead>\n",
       "    <tr style=\"text-align: right;\">\n",
       "      <th></th>\n",
       "      <th>project_id</th>\n",
       "      <th>client_id</th>\n",
       "      <th>clockify_project_billable</th>\n",
       "      <th>project_duration</th>\n",
       "      <th>estimated_durationn</th>\n",
       "      <th>client_anon</th>\n",
       "      <th>project_anon</th>\n",
       "    </tr>\n",
       "  </thead>\n",
       "  <tbody>\n",
       "    <tr>\n",
       "      <th>0</th>\n",
       "      <td>5f60a92df2bfed445099122e</td>\n",
       "      <td>5f437b54d13ed94468add358</td>\n",
       "      <td>False</td>\n",
       "      <td>232H</td>\n",
       "      <td>Not estimated</td>\n",
       "      <td>Taylor, Simmons and Anderson</td>\n",
       "      <td>Obetald semester</td>\n",
       "    </tr>\n",
       "    <tr>\n",
       "      <th>1</th>\n",
       "      <td>65a66b6f7349ba6dbd1f1086</td>\n",
       "      <td>5f437b54d13ed94468add358</td>\n",
       "      <td>False</td>\n",
       "      <td>414H</td>\n",
       "      <td>Not estimated</td>\n",
       "      <td>Taylor, Simmons and Anderson</td>\n",
       "      <td>Brown, Martinez and Manning Projects</td>\n",
       "    </tr>\n",
       "    <tr>\n",
       "      <th>2</th>\n",
       "      <td>5f437f189decb91192e37bc0</td>\n",
       "      <td>5f437b54d13ed94468add358</td>\n",
       "      <td>False</td>\n",
       "      <td>10321H</td>\n",
       "      <td>Not estimated</td>\n",
       "      <td>Taylor, Simmons and Anderson</td>\n",
       "      <td>Semester</td>\n",
       "    </tr>\n",
       "    <tr>\n",
       "      <th>3</th>\n",
       "      <td>6179a9ac4d694b7ecbe75ea6</td>\n",
       "      <td>5f437b54d13ed94468add358</td>\n",
       "      <td>False</td>\n",
       "      <td>396H</td>\n",
       "      <td>Not estimated</td>\n",
       "      <td>Taylor, Simmons and Anderson</td>\n",
       "      <td>Vård av barn</td>\n",
       "    </tr>\n",
       "    <tr>\n",
       "      <th>4</th>\n",
       "      <td>65a66b65efacdd3a4371df50</td>\n",
       "      <td>5f437b54d13ed94468add358</td>\n",
       "      <td>False</td>\n",
       "      <td>52H</td>\n",
       "      <td>Not estimated</td>\n",
       "      <td>Taylor, Simmons and Anderson</td>\n",
       "      <td>Competence development</td>\n",
       "    </tr>\n",
       "  </tbody>\n",
       "</table>\n",
       "</div>"
      ],
      "text/plain": [
       "                 project_id                 client_id  \\\n",
       "0  5f60a92df2bfed445099122e  5f437b54d13ed94468add358   \n",
       "1  65a66b6f7349ba6dbd1f1086  5f437b54d13ed94468add358   \n",
       "2  5f437f189decb91192e37bc0  5f437b54d13ed94468add358   \n",
       "3  6179a9ac4d694b7ecbe75ea6  5f437b54d13ed94468add358   \n",
       "4  65a66b65efacdd3a4371df50  5f437b54d13ed94468add358   \n",
       "\n",
       "   clockify_project_billable project_duration estimated_durationn  \\\n",
       "0                      False             232H       Not estimated   \n",
       "1                      False             414H       Not estimated   \n",
       "2                      False           10321H       Not estimated   \n",
       "3                      False             396H       Not estimated   \n",
       "4                      False              52H       Not estimated   \n",
       "\n",
       "                    client_anon                          project_anon  \n",
       "0  Taylor, Simmons and Anderson                      Obetald semester  \n",
       "1  Taylor, Simmons and Anderson  Brown, Martinez and Manning Projects  \n",
       "2  Taylor, Simmons and Anderson                              Semester  \n",
       "3  Taylor, Simmons and Anderson                          Vård av barn  \n",
       "4  Taylor, Simmons and Anderson                Competence development  "
      ]
     },
     "metadata": {},
     "output_type": "display_data"
    },
    {
     "name": "stdout",
     "output_type": "stream",
     "text": [
      "\n",
      "=== LAST 5 ROWS ===\n"
     ]
    },
    {
     "data": {
      "text/html": [
       "<div>\n",
       "<style scoped>\n",
       "    .dataframe tbody tr th:only-of-type {\n",
       "        vertical-align: middle;\n",
       "    }\n",
       "\n",
       "    .dataframe tbody tr th {\n",
       "        vertical-align: top;\n",
       "    }\n",
       "\n",
       "    .dataframe thead th {\n",
       "        text-align: right;\n",
       "    }\n",
       "</style>\n",
       "<table border=\"1\" class=\"dataframe\">\n",
       "  <thead>\n",
       "    <tr style=\"text-align: right;\">\n",
       "      <th></th>\n",
       "      <th>project_id</th>\n",
       "      <th>client_id</th>\n",
       "      <th>clockify_project_billable</th>\n",
       "      <th>project_duration</th>\n",
       "      <th>estimated_durationn</th>\n",
       "      <th>client_anon</th>\n",
       "      <th>project_anon</th>\n",
       "    </tr>\n",
       "  </thead>\n",
       "  <tbody>\n",
       "    <tr>\n",
       "      <th>86</th>\n",
       "      <td>66fe75d1e316642842e5dc8c</td>\n",
       "      <td>66fe75bfcdc43032a10267d7</td>\n",
       "      <td>True</td>\n",
       "      <td>948H</td>\n",
       "      <td>Not estimated</td>\n",
       "      <td>Ramirez, Rodriguez and Gonzalez</td>\n",
       "      <td>Data &amp; AI support</td>\n",
       "    </tr>\n",
       "    <tr>\n",
       "      <th>87</th>\n",
       "      <td>6715f9d290254d10ca81e784</td>\n",
       "      <td>6715f9ce898fb011477dec07</td>\n",
       "      <td>True</td>\n",
       "      <td>994H</td>\n",
       "      <td>Not estimated</td>\n",
       "      <td>Harris, Watson and Donaldson</td>\n",
       "      <td>Data Specialist</td>\n",
       "    </tr>\n",
       "    <tr>\n",
       "      <th>88</th>\n",
       "      <td>671fe491605d557fc53c80f3</td>\n",
       "      <td>671fe472a75c3e4ef3b541e8</td>\n",
       "      <td>True</td>\n",
       "      <td>924H</td>\n",
       "      <td>Not estimated</td>\n",
       "      <td>Reed, Berry and Wilkins</td>\n",
       "      <td>Enterprise Peters and Sons</td>\n",
       "    </tr>\n",
       "    <tr>\n",
       "      <th>89</th>\n",
       "      <td>677fb4341c567d719ff4f8bd</td>\n",
       "      <td>677fb4321c567d719ff4f866</td>\n",
       "      <td>True</td>\n",
       "      <td>39H</td>\n",
       "      <td>Not estimated</td>\n",
       "      <td>Rivera, Davis and Roberts</td>\n",
       "      <td>WoW DS &amp; Analytics team</td>\n",
       "    </tr>\n",
       "    <tr>\n",
       "      <th>90</th>\n",
       "      <td>679b93d05d710856f30c8495</td>\n",
       "      <td>679b93c45d710856f30c8295</td>\n",
       "      <td>True</td>\n",
       "      <td>115H</td>\n",
       "      <td>Not estimated</td>\n",
       "      <td>Ward and Sons</td>\n",
       "      <td>Geo Opp. Ass.</td>\n",
       "    </tr>\n",
       "  </tbody>\n",
       "</table>\n",
       "</div>"
      ],
      "text/plain": [
       "                  project_id                 client_id  \\\n",
       "86  66fe75d1e316642842e5dc8c  66fe75bfcdc43032a10267d7   \n",
       "87  6715f9d290254d10ca81e784  6715f9ce898fb011477dec07   \n",
       "88  671fe491605d557fc53c80f3  671fe472a75c3e4ef3b541e8   \n",
       "89  677fb4341c567d719ff4f8bd  677fb4321c567d719ff4f866   \n",
       "90  679b93d05d710856f30c8495  679b93c45d710856f30c8295   \n",
       "\n",
       "    clockify_project_billable project_duration estimated_durationn  \\\n",
       "86                       True             948H       Not estimated   \n",
       "87                       True             994H       Not estimated   \n",
       "88                       True             924H       Not estimated   \n",
       "89                       True              39H       Not estimated   \n",
       "90                       True             115H       Not estimated   \n",
       "\n",
       "                        client_anon                project_anon  \n",
       "86  Ramirez, Rodriguez and Gonzalez           Data & AI support  \n",
       "87     Harris, Watson and Donaldson             Data Specialist  \n",
       "88          Reed, Berry and Wilkins  Enterprise Peters and Sons  \n",
       "89        Rivera, Davis and Roberts     WoW DS & Analytics team  \n",
       "90                    Ward and Sons               Geo Opp. Ass.  "
      ]
     },
     "metadata": {},
     "output_type": "display_data"
    }
   ],
   "source": [
    "# First Few Rows\n",
    "print(\"=== FIRST 5 ROWS ===\")\n",
    "display(df_projects.head())\n",
    "\n",
    "print(\"\\n=== LAST 5 ROWS ===\")\n",
    "display(df_projects.tail())"
   ]
  },
  {
   "cell_type": "code",
   "execution_count": 6,
   "id": "7e97a055",
   "metadata": {},
   "outputs": [
    {
     "name": "stdout",
     "output_type": "stream",
     "text": [
      "=== MISSING VALUES ===\n",
      "             Missing Count  Missing Percentage\n",
      "client_id                1            1.098901\n",
      "client_anon              1            1.098901\n",
      "\n",
      "=== DUPLICATES ===\n",
      "Total duplicated rows: 0\n",
      "Percentage of duplicates: 0.00%\n"
     ]
    }
   ],
   "source": [
    "# Missing Values Analysis\n",
    "print(\"=== MISSING VALUES ===\")\n",
    "missing_data = df_projects.isnull().sum()\n",
    "missing_percent = (missing_data / len(df_projects)) * 100\n",
    "missing_df = pd.DataFrame({\n",
    "    'Missing Count': missing_data,\n",
    "    'Missing Percentage': missing_percent\n",
    "}).sort_values('Missing Count', ascending=False)\n",
    "\n",
    "print(missing_df[missing_df['Missing Count'] > 0])\n",
    "\n",
    "# Duplicates\n",
    "print(f\"\\n=== DUPLICATES ===\")\n",
    "print(f\"Total duplicated rows: {df_projects.duplicated().sum()}\")\n",
    "print(f\"Percentage of duplicates: {(df_projects.duplicated().sum() / len(df_projects)) * 100:.2f}%\")"
   ]
  },
  {
   "cell_type": "code",
   "execution_count": 7,
   "id": "8dc266b7",
   "metadata": {},
   "outputs": [
    {
     "data": {
      "text/plain": [
       "np.int64(81)"
      ]
     },
     "execution_count": 7,
     "metadata": {},
     "output_type": "execute_result"
    }
   ],
   "source": [
    "df_projects[df_projects['clockify_project_billable'] == True].groupby('client_id')['project_id'].size().sum()"
   ]
  },
  {
   "cell_type": "code",
   "execution_count": 8,
   "id": "5906301d",
   "metadata": {},
   "outputs": [
    {
     "data": {
      "text/html": [
       "<div>\n",
       "<style scoped>\n",
       "    .dataframe tbody tr th:only-of-type {\n",
       "        vertical-align: middle;\n",
       "    }\n",
       "\n",
       "    .dataframe tbody tr th {\n",
       "        vertical-align: top;\n",
       "    }\n",
       "\n",
       "    .dataframe thead th {\n",
       "        text-align: right;\n",
       "    }\n",
       "</style>\n",
       "<table border=\"1\" class=\"dataframe\">\n",
       "  <thead>\n",
       "    <tr style=\"text-align: right;\">\n",
       "      <th></th>\n",
       "      <th>project_id</th>\n",
       "      <th>client_id</th>\n",
       "      <th>clockify_project_billable</th>\n",
       "      <th>project_duration</th>\n",
       "      <th>estimated_durationn</th>\n",
       "      <th>client_anon</th>\n",
       "      <th>project_anon</th>\n",
       "    </tr>\n",
       "  </thead>\n",
       "  <tbody>\n",
       "    <tr>\n",
       "      <th>6</th>\n",
       "      <td>5f437b557d26442bf54530ac</td>\n",
       "      <td>5f437b54d13ed94468add358</td>\n",
       "      <td>False</td>\n",
       "      <td>21358H8M</td>\n",
       "      <td>Not estimated</td>\n",
       "      <td>Taylor, Simmons and Anderson</td>\n",
       "      <td>Interntid</td>\n",
       "    </tr>\n",
       "  </tbody>\n",
       "</table>\n",
       "</div>"
      ],
      "text/plain": [
       "                 project_id                 client_id  \\\n",
       "6  5f437b557d26442bf54530ac  5f437b54d13ed94468add358   \n",
       "\n",
       "   clockify_project_billable project_duration estimated_durationn  \\\n",
       "6                      False         21358H8M       Not estimated   \n",
       "\n",
       "                    client_anon project_anon  \n",
       "6  Taylor, Simmons and Anderson    Interntid  "
      ]
     },
     "execution_count": 8,
     "metadata": {},
     "output_type": "execute_result"
    }
   ],
   "source": [
    "df_projects[df_projects['project_id'] == '5f437b557d26442bf54530ac']"
   ]
  },
  {
   "cell_type": "markdown",
   "id": "74065393",
   "metadata": {},
   "source": []
  },
  {
   "cell_type": "code",
   "execution_count": 9,
   "id": "a2f065ad",
   "metadata": {},
   "outputs": [
    {
     "data": {
      "text/plain": [
       "91"
      ]
     },
     "execution_count": 9,
     "metadata": {},
     "output_type": "execute_result"
    }
   ],
   "source": [
    "len(df_projects.project_id.unique())"
   ]
  },
  {
   "cell_type": "code",
   "execution_count": 10,
   "id": "3144b990",
   "metadata": {},
   "outputs": [
    {
     "data": {
      "text/html": [
       "<div>\n",
       "<style scoped>\n",
       "    .dataframe tbody tr th:only-of-type {\n",
       "        vertical-align: middle;\n",
       "    }\n",
       "\n",
       "    .dataframe tbody tr th {\n",
       "        vertical-align: top;\n",
       "    }\n",
       "\n",
       "    .dataframe thead th {\n",
       "        text-align: right;\n",
       "    }\n",
       "</style>\n",
       "<table border=\"1\" class=\"dataframe\">\n",
       "  <thead>\n",
       "    <tr style=\"text-align: right;\">\n",
       "      <th></th>\n",
       "      <th>project_id</th>\n",
       "      <th>client_id</th>\n",
       "      <th>clockify_project_billable</th>\n",
       "      <th>project_duration</th>\n",
       "      <th>estimated_durationn</th>\n",
       "      <th>client_anon</th>\n",
       "      <th>project_anon</th>\n",
       "    </tr>\n",
       "  </thead>\n",
       "  <tbody>\n",
       "    <tr>\n",
       "      <th>8</th>\n",
       "      <td>65a4f2b9c103c556d36f5a75</td>\n",
       "      <td>65a4f2b0c103c556d36f58f9</td>\n",
       "      <td>False</td>\n",
       "      <td>0S</td>\n",
       "      <td>Not estimated</td>\n",
       "      <td>Brown, Martinez and Manning</td>\n",
       "      <td>First blog post on website</td>\n",
       "    </tr>\n",
       "    <tr>\n",
       "      <th>9</th>\n",
       "      <td>66f65d5bce65d308a05d83a1</td>\n",
       "      <td>NaN</td>\n",
       "      <td>True</td>\n",
       "      <td>0S</td>\n",
       "      <td>Not estimated</td>\n",
       "      <td>NaN</td>\n",
       "      <td>svenska</td>\n",
       "    </tr>\n",
       "    <tr>\n",
       "      <th>49</th>\n",
       "      <td>632088d2546c0d171c027014</td>\n",
       "      <td>625e8513bdcc2633b147c0f4</td>\n",
       "      <td>True</td>\n",
       "      <td>0S</td>\n",
       "      <td>Not estimated</td>\n",
       "      <td>Jones-Willis</td>\n",
       "      <td>Transfers</td>\n",
       "    </tr>\n",
       "    <tr>\n",
       "      <th>72</th>\n",
       "      <td>649ab2ef8212c016cee5c856</td>\n",
       "      <td>649ab2945beb74277a46dc13</td>\n",
       "      <td>True</td>\n",
       "      <td>0S</td>\n",
       "      <td>Not estimated</td>\n",
       "      <td>Murphy-Herrera</td>\n",
       "      <td>Prisoptimering fas 1</td>\n",
       "    </tr>\n",
       "  </tbody>\n",
       "</table>\n",
       "</div>"
      ],
      "text/plain": [
       "                  project_id                 client_id  \\\n",
       "8   65a4f2b9c103c556d36f5a75  65a4f2b0c103c556d36f58f9   \n",
       "9   66f65d5bce65d308a05d83a1                       NaN   \n",
       "49  632088d2546c0d171c027014  625e8513bdcc2633b147c0f4   \n",
       "72  649ab2ef8212c016cee5c856  649ab2945beb74277a46dc13   \n",
       "\n",
       "    clockify_project_billable project_duration estimated_durationn  \\\n",
       "8                       False               0S       Not estimated   \n",
       "9                        True               0S       Not estimated   \n",
       "49                       True               0S       Not estimated   \n",
       "72                       True               0S       Not estimated   \n",
       "\n",
       "                    client_anon                project_anon  \n",
       "8   Brown, Martinez and Manning  First blog post on website  \n",
       "9                           NaN                     svenska  \n",
       "49                 Jones-Willis                   Transfers  \n",
       "72               Murphy-Herrera        Prisoptimering fas 1  "
      ]
     },
     "execution_count": 10,
     "metadata": {},
     "output_type": "execute_result"
    }
   ],
   "source": [
    "df_projects[df_projects['project_duration'] == '0S']"
   ]
  },
  {
   "cell_type": "code",
   "execution_count": 12,
   "id": "1559882f",
   "metadata": {},
   "outputs": [
    {
     "data": {
      "text/plain": [
       "estimated_durationn\n",
       "Not estimated    90\n",
       "PT400H            1\n",
       "Name: count, dtype: int64"
      ]
     },
     "execution_count": 12,
     "metadata": {},
     "output_type": "execute_result"
    }
   ],
   "source": [
    "df_projects.estimated_durationn.value_counts()"
   ]
  },
  {
   "cell_type": "code",
   "execution_count": 12,
   "id": "46a34bbc",
   "metadata": {},
   "outputs": [
    {
     "name": "stdout",
     "output_type": "stream",
     "text": [
      "\n",
      "Conversion examples:\n"
     ]
    },
    {
     "data": {
      "text/html": [
       "<div>\n",
       "<style scoped>\n",
       "    .dataframe tbody tr th:only-of-type {\n",
       "        vertical-align: middle;\n",
       "    }\n",
       "\n",
       "    .dataframe tbody tr th {\n",
       "        vertical-align: top;\n",
       "    }\n",
       "\n",
       "    .dataframe thead th {\n",
       "        text-align: right;\n",
       "    }\n",
       "</style>\n",
       "<table border=\"1\" class=\"dataframe\">\n",
       "  <thead>\n",
       "    <tr style=\"text-align: right;\">\n",
       "      <th></th>\n",
       "      <th>project_duration</th>\n",
       "      <th>project_duration_hours</th>\n",
       "    </tr>\n",
       "  </thead>\n",
       "  <tbody>\n",
       "    <tr>\n",
       "      <th>0</th>\n",
       "      <td>232H</td>\n",
       "      <td>232.0</td>\n",
       "    </tr>\n",
       "    <tr>\n",
       "      <th>1</th>\n",
       "      <td>414H</td>\n",
       "      <td>414.0</td>\n",
       "    </tr>\n",
       "    <tr>\n",
       "      <th>2</th>\n",
       "      <td>10321H</td>\n",
       "      <td>10321.0</td>\n",
       "    </tr>\n",
       "    <tr>\n",
       "      <th>3</th>\n",
       "      <td>396H</td>\n",
       "      <td>396.0</td>\n",
       "    </tr>\n",
       "    <tr>\n",
       "      <th>4</th>\n",
       "      <td>52H</td>\n",
       "      <td>52.0</td>\n",
       "    </tr>\n",
       "    <tr>\n",
       "      <th>5</th>\n",
       "      <td>7156H</td>\n",
       "      <td>7156.0</td>\n",
       "    </tr>\n",
       "    <tr>\n",
       "      <th>6</th>\n",
       "      <td>21358H8M</td>\n",
       "      <td>21358.0</td>\n",
       "    </tr>\n",
       "    <tr>\n",
       "      <th>7</th>\n",
       "      <td>982H12M</td>\n",
       "      <td>982.0</td>\n",
       "    </tr>\n",
       "    <tr>\n",
       "      <th>8</th>\n",
       "      <td>0S</td>\n",
       "      <td>0.0</td>\n",
       "    </tr>\n",
       "    <tr>\n",
       "      <th>9</th>\n",
       "      <td>0S</td>\n",
       "      <td>0.0</td>\n",
       "    </tr>\n",
       "    <tr>\n",
       "      <th>10</th>\n",
       "      <td>3027H</td>\n",
       "      <td>3027.0</td>\n",
       "    </tr>\n",
       "    <tr>\n",
       "      <th>11</th>\n",
       "      <td>1313H</td>\n",
       "      <td>1313.0</td>\n",
       "    </tr>\n",
       "    <tr>\n",
       "      <th>12</th>\n",
       "      <td>800H</td>\n",
       "      <td>800.0</td>\n",
       "    </tr>\n",
       "    <tr>\n",
       "      <th>13</th>\n",
       "      <td>639H</td>\n",
       "      <td>639.0</td>\n",
       "    </tr>\n",
       "    <tr>\n",
       "      <th>14</th>\n",
       "      <td>3608H</td>\n",
       "      <td>3608.0</td>\n",
       "    </tr>\n",
       "  </tbody>\n",
       "</table>\n",
       "</div>"
      ],
      "text/plain": [
       "   project_duration  project_duration_hours\n",
       "0              232H                   232.0\n",
       "1              414H                   414.0\n",
       "2            10321H                 10321.0\n",
       "3              396H                   396.0\n",
       "4               52H                    52.0\n",
       "5             7156H                  7156.0\n",
       "6          21358H8M                 21358.0\n",
       "7           982H12M                   982.0\n",
       "8                0S                     0.0\n",
       "9                0S                     0.0\n",
       "10            3027H                  3027.0\n",
       "11            1313H                  1313.0\n",
       "12             800H                   800.0\n",
       "13             639H                   639.0\n",
       "14            3608H                  3608.0"
      ]
     },
     "metadata": {},
     "output_type": "display_data"
    },
    {
     "name": "stdout",
     "output_type": "stream",
     "text": [
      "Projects after cleaning: 91\n"
     ]
    }
   ],
   "source": [
    "import re\n",
    "    \n",
    "def extract_hours(duration_str):\n",
    "    \"\"\"Extract hours from duration string format like '21358H8M', '0H0M0S', '0S'\"\"\"\n",
    "    if pd.isna(duration_str):\n",
    "        return None\n",
    "    \n",
    "    duration_str = str(duration_str).strip()\n",
    "    \n",
    "    # Handle special case '0S' (0 seconds = 0 hours)\n",
    "    if duration_str == '0S':\n",
    "        return 0.0\n",
    "    \n",
    "    # Use regex to find hours (number before 'H')\n",
    "    hours_match = re.search(r'(\\d+)H', duration_str)\n",
    "    \n",
    "    if hours_match:\n",
    "        return float(hours_match.group(1))\n",
    "    else:\n",
    "        # If no 'H' found, check if it's just a number\n",
    "        if duration_str.isdigit():\n",
    "            return float(duration_str)\n",
    "        else:\n",
    "            return None\n",
    "\n",
    "# Apply the conversion function\n",
    "df_projects['project_duration_hours'] = df_projects['project_duration'].apply(extract_hours)\n",
    "\n",
    "# Show some examples of the conversion\n",
    "print(f\"\\nConversion examples:\")\n",
    "sample_conversions = df_projects[['project_duration', 'project_duration_hours']].head(15)\n",
    "display(sample_conversions)\n",
    "\n",
    "# Check for any conversion issues\n",
    "invalid_durations = df_projects['project_duration_hours'].isna().sum()\n",
    "if invalid_durations > 0:\n",
    "    print(f\"⚠️  Warning: {invalid_durations} project_duration values could not be converted\")\n",
    "    print(\"Examples of unconverted values:\")\n",
    "    unconverted = df_projects[df_projects['project_duration_hours'].isna()]['project_duration'].unique()[:10]\n",
    "    print(unconverted)\n",
    "\n",
    "# Remove projects with invalid duration values\n",
    "df_projects_clean = df_projects.dropna(subset=['project_duration_hours'])\n",
    "print(f\"Projects after cleaning: {len(df_projects_clean)}\")\n"
   ]
  },
  {
   "cell_type": "code",
   "execution_count": null,
   "id": "66adcc3e",
   "metadata": {},
   "outputs": [],
   "source": []
  }
 ],
 "metadata": {
  "kernelspec": {
   "display_name": ".venv",
   "language": "python",
   "name": "python3"
  },
  "language_info": {
   "codemirror_mode": {
    "name": "ipython",
    "version": 3
   },
   "file_extension": ".py",
   "mimetype": "text/x-python",
   "name": "python",
   "nbconvert_exporter": "python",
   "pygments_lexer": "ipython3",
   "version": "3.11.5"
  }
 },
 "nbformat": 4,
 "nbformat_minor": 5
}
