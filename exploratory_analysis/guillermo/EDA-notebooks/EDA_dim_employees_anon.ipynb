{
 "cells": [
  {
   "cell_type": "markdown",
   "id": "9e3db5ea",
   "metadata": {},
   "source": [
    "# Exploratory Data Analysis - Employee Dimension Data\n",
    "This notebook performs EDA on the `dim_employees_anon.csv` file from the Data Edge Internal Data folder."
   ]
  },
  {
   "cell_type": "code",
   "execution_count": 1,
   "id": "c0bb4289",
   "metadata": {},
   "outputs": [],
   "source": [
    "# Import Required Libraries\n",
    "import pandas as pd\n",
    "import numpy as np\n",
    "import matplotlib.pyplot as plt\n",
    "import seaborn as sns\n",
    "import os\n",
    "from pathlib import Path\n",
    "\n",
    "# Set display options\n",
    "pd.set_option('display.max_columns', None)\n",
    "pd.set_option('display.max_rows', 100)\n",
    "plt.style.use('seaborn-v0_8')\n",
    "sns.set_palette(\"husl\")"
   ]
  },
  {
   "cell_type": "code",
   "execution_count": 2,
   "id": "84e77748",
   "metadata": {},
   "outputs": [
    {
     "name": "stdout",
     "output_type": "stream",
     "text": [
      "✓ File found: c:\\Users\\guine\\Documents\\BC#4\\Hyper_python\\BI project\\Data Edge Internal Data\\dim_employees_anon.csv\n",
      "File size: 488 bytes\n"
     ]
    }
   ],
   "source": [
    "# Set Data Directory Path\n",
    "data_dir = r\"c:\\Users\\guine\\Documents\\BC#4\\Hyper_python\\BI project\\Data Edge Internal Data\"\n",
    "file_path = os.path.join(data_dir, \"dim_employees_anon.csv\")\n",
    "\n",
    "# Verify file exists\n",
    "if os.path.exists(file_path):\n",
    "    print(f\"✓ File found: {file_path}\")\n",
    "    print(f\"File size: {os.path.getsize(file_path)} bytes\")\n",
    "else:\n",
    "    print(f\"✗ File not found: {file_path}\")"
   ]
  },
  {
   "cell_type": "code",
   "execution_count": 3,
   "id": "3f94f491",
   "metadata": {},
   "outputs": [
    {
     "name": "stdout",
     "output_type": "stream",
     "text": [
      "✓ Data loaded successfully!\n",
      "Dataset shape: (13, 6)\n"
     ]
    }
   ],
   "source": [
    "# Load Employee Data\n",
    "try:\n",
    "    df_employees = pd.read_csv(file_path)\n",
    "    print(\"✓ Data loaded successfully!\")\n",
    "    print(f\"Dataset shape: {df_employees.shape}\")\n",
    "except Exception as e:\n",
    "    print(f\"✗ Error loading data: {e}\")"
   ]
  },
  {
   "cell_type": "markdown",
   "id": "77836a01",
   "metadata": {},
   "source": [
    "## Dataset Overview"
   ]
  },
  {
   "cell_type": "code",
   "execution_count": 4,
   "id": "b5e1dbef",
   "metadata": {},
   "outputs": [
    {
     "name": "stdout",
     "output_type": "stream",
     "text": [
      "=== BASIC INFORMATION ===\n",
      "Shape: (13, 6)\n",
      "Columns: ['employee_id', 'employee_code', 'first_name', 'last_name', 'is_active', 'practice']\n",
      "Data types:\n",
      "employee_id       int64\n",
      "employee_code     int64\n",
      "first_name       object\n",
      "last_name        object\n",
      "is_active          bool\n",
      "practice         object\n",
      "dtype: object\n",
      "\n",
      "Memory usage: 2.74 KB\n"
     ]
    }
   ],
   "source": [
    "# Basic Information\n",
    "print(\"=== BASIC INFORMATION ===\")\n",
    "print(f\"Shape: {df_employees.shape}\")\n",
    "print(f\"Columns: {list(df_employees.columns)}\")\n",
    "print(f\"Data types:\\n{df_employees.dtypes}\")\n",
    "print(f\"\\nMemory usage: {df_employees.memory_usage(deep=True).sum() / 1024:.2f} KB\")"
   ]
  },
  {
   "cell_type": "code",
   "execution_count": 5,
   "id": "a44890b6",
   "metadata": {},
   "outputs": [
    {
     "name": "stdout",
     "output_type": "stream",
     "text": [
      "=== FIRST 5 ROWS ===\n"
     ]
    },
    {
     "data": {
      "text/html": [
       "<div>\n",
       "<style scoped>\n",
       "    .dataframe tbody tr th:only-of-type {\n",
       "        vertical-align: middle;\n",
       "    }\n",
       "\n",
       "    .dataframe tbody tr th {\n",
       "        vertical-align: top;\n",
       "    }\n",
       "\n",
       "    .dataframe thead th {\n",
       "        text-align: right;\n",
       "    }\n",
       "</style>\n",
       "<table border=\"1\" class=\"dataframe\">\n",
       "  <thead>\n",
       "    <tr style=\"text-align: right;\">\n",
       "      <th></th>\n",
       "      <th>employee_id</th>\n",
       "      <th>employee_code</th>\n",
       "      <th>first_name</th>\n",
       "      <th>last_name</th>\n",
       "      <th>is_active</th>\n",
       "      <th>practice</th>\n",
       "    </tr>\n",
       "  </thead>\n",
       "  <tbody>\n",
       "    <tr>\n",
       "      <th>0</th>\n",
       "      <td>20</td>\n",
       "      <td>22</td>\n",
       "      <td>Luke</td>\n",
       "      <td>Rhinehart</td>\n",
       "      <td>True</td>\n",
       "      <td>NaN</td>\n",
       "    </tr>\n",
       "    <tr>\n",
       "      <th>1</th>\n",
       "      <td>21</td>\n",
       "      <td>23</td>\n",
       "      <td>Alexander</td>\n",
       "      <td>Macedon</td>\n",
       "      <td>True</td>\n",
       "      <td>NaN</td>\n",
       "    </tr>\n",
       "    <tr>\n",
       "      <th>2</th>\n",
       "      <td>12</td>\n",
       "      <td>18</td>\n",
       "      <td>Rachel</td>\n",
       "      <td>Lamb</td>\n",
       "      <td>True</td>\n",
       "      <td>Analytics</td>\n",
       "    </tr>\n",
       "    <tr>\n",
       "      <th>3</th>\n",
       "      <td>2</td>\n",
       "      <td>9</td>\n",
       "      <td>Bingo</td>\n",
       "      <td>Storm</td>\n",
       "      <td>True</td>\n",
       "      <td>Analytics</td>\n",
       "    </tr>\n",
       "    <tr>\n",
       "      <th>4</th>\n",
       "      <td>9</td>\n",
       "      <td>15</td>\n",
       "      <td>Astarion</td>\n",
       "      <td>Baldersson</td>\n",
       "      <td>True</td>\n",
       "      <td>Analytics</td>\n",
       "    </tr>\n",
       "  </tbody>\n",
       "</table>\n",
       "</div>"
      ],
      "text/plain": [
       "   employee_id  employee_code first_name   last_name  is_active   practice\n",
       "0           20             22       Luke   Rhinehart       True        NaN\n",
       "1           21             23  Alexander     Macedon       True        NaN\n",
       "2           12             18     Rachel        Lamb       True  Analytics\n",
       "3            2              9      Bingo       Storm       True  Analytics\n",
       "4            9             15   Astarion  Baldersson       True  Analytics"
      ]
     },
     "metadata": {},
     "output_type": "display_data"
    },
    {
     "name": "stdout",
     "output_type": "stream",
     "text": [
      "\n",
      "=== LAST 5 ROWS ===\n"
     ]
    },
    {
     "data": {
      "text/html": [
       "<div>\n",
       "<style scoped>\n",
       "    .dataframe tbody tr th:only-of-type {\n",
       "        vertical-align: middle;\n",
       "    }\n",
       "\n",
       "    .dataframe tbody tr th {\n",
       "        vertical-align: top;\n",
       "    }\n",
       "\n",
       "    .dataframe thead th {\n",
       "        text-align: right;\n",
       "    }\n",
       "</style>\n",
       "<table border=\"1\" class=\"dataframe\">\n",
       "  <thead>\n",
       "    <tr style=\"text-align: right;\">\n",
       "      <th></th>\n",
       "      <th>employee_id</th>\n",
       "      <th>employee_code</th>\n",
       "      <th>first_name</th>\n",
       "      <th>last_name</th>\n",
       "      <th>is_active</th>\n",
       "      <th>practice</th>\n",
       "    </tr>\n",
       "  </thead>\n",
       "  <tbody>\n",
       "    <tr>\n",
       "      <th>8</th>\n",
       "      <td>11</td>\n",
       "      <td>3</td>\n",
       "      <td>ilya</td>\n",
       "      <td>Altman</td>\n",
       "      <td>True</td>\n",
       "      <td>Business</td>\n",
       "    </tr>\n",
       "    <tr>\n",
       "      <th>9</th>\n",
       "      <td>4</td>\n",
       "      <td>19</td>\n",
       "      <td>Gunnar</td>\n",
       "      <td>Gunnarsson</td>\n",
       "      <td>True</td>\n",
       "      <td>Business</td>\n",
       "    </tr>\n",
       "    <tr>\n",
       "      <th>10</th>\n",
       "      <td>10</td>\n",
       "      <td>12</td>\n",
       "      <td>Dag</td>\n",
       "      <td>Ström</td>\n",
       "      <td>True</td>\n",
       "      <td>Data</td>\n",
       "    </tr>\n",
       "    <tr>\n",
       "      <th>11</th>\n",
       "      <td>6</td>\n",
       "      <td>4</td>\n",
       "      <td>Jana</td>\n",
       "      <td>Bjork</td>\n",
       "      <td>True</td>\n",
       "      <td>Data</td>\n",
       "    </tr>\n",
       "    <tr>\n",
       "      <th>12</th>\n",
       "      <td>8</td>\n",
       "      <td>1</td>\n",
       "      <td>Gabriel</td>\n",
       "      <td>Lennartsson</td>\n",
       "      <td>True</td>\n",
       "      <td>Data</td>\n",
       "    </tr>\n",
       "  </tbody>\n",
       "</table>\n",
       "</div>"
      ],
      "text/plain": [
       "    employee_id  employee_code first_name    last_name  is_active  practice\n",
       "8            11              3       ilya       Altman       True  Business\n",
       "9             4             19     Gunnar   Gunnarsson       True  Business\n",
       "10           10             12        Dag        Ström       True      Data\n",
       "11            6              4       Jana        Bjork       True      Data\n",
       "12            8              1    Gabriel  Lennartsson       True      Data"
      ]
     },
     "metadata": {},
     "output_type": "display_data"
    }
   ],
   "source": [
    "# First Few Rows\n",
    "print(\"=== FIRST 5 ROWS ===\")\n",
    "display(df_employees.head())\n",
    "\n",
    "print(\"\\n=== LAST 5 ROWS ===\")\n",
    "display(df_employees.tail())"
   ]
  },
  {
   "cell_type": "markdown",
   "id": "09fabfea",
   "metadata": {},
   "source": [
    "## Data Quality Assessment"
   ]
  },
  {
   "cell_type": "code",
   "execution_count": 6,
   "id": "7a3d6858",
   "metadata": {},
   "outputs": [
    {
     "name": "stdout",
     "output_type": "stream",
     "text": [
      "=== MISSING VALUES ===\n",
      "          Missing Count  Missing Percentage\n",
      "practice              2           15.384615\n",
      "\n",
      "=== DUPLICATES ===\n",
      "Total duplicated rows: 0\n",
      "Percentage of duplicates: 0.00%\n"
     ]
    }
   ],
   "source": [
    "# Missing Values Analysis\n",
    "print(\"=== MISSING VALUES ===\")\n",
    "missing_data = df_employees.isnull().sum()\n",
    "missing_percent = (missing_data / len(df_employees)) * 100\n",
    "missing_df = pd.DataFrame({\n",
    "    'Missing Count': missing_data,\n",
    "    'Missing Percentage': missing_percent\n",
    "}).sort_values('Missing Count', ascending=False)\n",
    "\n",
    "print(missing_df[missing_df['Missing Count'] > 0])\n",
    "\n",
    "# Duplicates\n",
    "print(f\"\\n=== DUPLICATES ===\")\n",
    "print(f\"Total duplicated rows: {df_employees.duplicated().sum()}\")\n",
    "print(f\"Percentage of duplicates: {(df_employees.duplicated().sum() / len(df_employees)) * 100:.2f}%\")"
   ]
  },
  {
   "cell_type": "markdown",
   "id": "9c967c82",
   "metadata": {},
   "source": [
    "## Statistical Summary"
   ]
  },
  {
   "cell_type": "code",
   "execution_count": 9,
   "id": "aa22f831",
   "metadata": {},
   "outputs": [
    {
     "data": {
      "text/plain": [
       "practice\n",
       "Analytics    4\n",
       "Business     4\n",
       "Data         3\n",
       "Name: count, dtype: int64"
      ]
     },
     "execution_count": 9,
     "metadata": {},
     "output_type": "execute_result"
    }
   ],
   "source": [
    "df_employees.practice.value_counts()"
   ]
  },
  {
   "cell_type": "code",
   "execution_count": null,
   "id": "b95d58f6",
   "metadata": {},
   "outputs": [],
   "source": []
  }
 ],
 "metadata": {
  "kernelspec": {
   "display_name": ".venv",
   "language": "python",
   "name": "python3"
  },
  "language_info": {
   "codemirror_mode": {
    "name": "ipython",
    "version": 3
   },
   "file_extension": ".py",
   "mimetype": "text/x-python",
   "name": "python",
   "nbconvert_exporter": "python",
   "pygments_lexer": "ipython3",
   "version": "3.11.5"
  }
 },
 "nbformat": 4,
 "nbformat_minor": 5
}
