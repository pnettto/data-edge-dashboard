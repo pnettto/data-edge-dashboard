{
 "cells": [
  {
   "cell_type": "markdown",
   "id": "9e3db5ea",
   "metadata": {},
   "source": [
    "# Exploratory Data Analysis - Employee Dimension Data\n",
    "This notebook performs EDA on the `dim_employees_anon.csv` file from the Data Edge Internal Data folder."
   ]
  },
  {
   "cell_type": "code",
   "execution_count": 2,
   "id": "c0bb4289",
   "metadata": {},
   "outputs": [],
   "source": [
    "# Import Required Libraries\n",
    "import pandas as pd\n",
    "import numpy as np\n",
    "import matplotlib.pyplot as plt\n",
    "import seaborn as sns\n",
    "import os\n",
    "from pathlib import Path\n",
    "\n",
    "# Set display options\n",
    "pd.set_option('display.max_columns', None)\n",
    "pd.set_option('display.max_rows', 100)\n",
    "plt.style.use('seaborn-v0_8')\n",
    "sns.set_palette(\"husl\")"
   ]
  },
  {
   "cell_type": "code",
   "execution_count": 3,
   "id": "84e77748",
   "metadata": {},
   "outputs": [
    {
     "name": "stdout",
     "output_type": "stream",
     "text": [
      "✓ File found: c:\\Users\\guine\\Documents\\BC#4\\Hyper_python\\BI project\\Data Edge Internal Data\\stg_qbis__activity_time.csv\n",
      "File size: 52639 bytes\n"
     ]
    }
   ],
   "source": [
    "# Set Data Directory Path\n",
    "data_dir = r\"c:\\Users\\guine\\Documents\\BC#4\\Hyper_python\\BI project\\Data Edge Internal Data\"\n",
    "file_path = os.path.join(data_dir, \"stg_qbis__activity_time.csv\")\n",
    "\n",
    "# Verify file exists\n",
    "if os.path.exists(file_path):\n",
    "    print(f\"✓ File found: {file_path}\")\n",
    "    print(f\"File size: {os.path.getsize(file_path)} bytes\")\n",
    "else:\n",
    "    print(f\"✗ File not found: {file_path}\")"
   ]
  },
  {
   "cell_type": "code",
   "execution_count": 4,
   "id": "3f94f491",
   "metadata": {},
   "outputs": [
    {
     "name": "stdout",
     "output_type": "stream",
     "text": [
      "✓ Data loaded successfully!\n",
      "Dataset shape: (866, 8)\n"
     ]
    }
   ],
   "source": [
    "# Load Employee Data\n",
    "try:\n",
    "    df_qbis_time = pd.read_csv(file_path)\n",
    "    print(\"✓ Data loaded successfully!\")\n",
    "    print(f\"Dataset shape: {df_qbis_time.shape}\")\n",
    "except Exception as e:\n",
    "    print(f\"✗ Error loading data: {e}\")"
   ]
  },
  {
   "cell_type": "markdown",
   "id": "77836a01",
   "metadata": {},
   "source": [
    "## Dataset Overview"
   ]
  },
  {
   "cell_type": "code",
   "execution_count": 6,
   "id": "b5e1dbef",
   "metadata": {},
   "outputs": [
    {
     "name": "stdout",
     "output_type": "stream",
     "text": [
      "=== BASIC INFORMATION ===\n",
      "Shape: (866, 8)\n",
      "Columns: ['activity_time_id', 'employee_id', 'activity_id', 'activity_date', 'minutes', 'factor_value', 'notes_internal', 'processed_at']\n",
      "Data types:\n",
      "activity_time_id      int64\n",
      "employee_id           int64\n",
      "activity_id           int64\n",
      "activity_date        object\n",
      "minutes               int64\n",
      "factor_value        float64\n",
      "notes_internal       object\n",
      "processed_at         object\n",
      "dtype: object\n",
      "\n",
      "Memory usage: 191.56 KB\n"
     ]
    }
   ],
   "source": [
    "# Basic Information\n",
    "print(\"=== BASIC INFORMATION ===\")\n",
    "print(f\"Shape: {df_qbis_time.shape}\")\n",
    "print(f\"Columns: {list(df_qbis_time.columns)}\")\n",
    "print(f\"Data types:\\n{df_qbis_time.dtypes}\")\n",
    "print(f\"\\nMemory usage: {df_qbis_time.memory_usage(deep=True).sum() / 1024:.2f} KB\")"
   ]
  },
  {
   "cell_type": "code",
   "execution_count": 7,
   "id": "a44890b6",
   "metadata": {},
   "outputs": [
    {
     "name": "stdout",
     "output_type": "stream",
     "text": [
      "=== FIRST 5 ROWS ===\n"
     ]
    },
    {
     "data": {
      "text/html": [
       "<div>\n",
       "<style scoped>\n",
       "    .dataframe tbody tr th:only-of-type {\n",
       "        vertical-align: middle;\n",
       "    }\n",
       "\n",
       "    .dataframe tbody tr th {\n",
       "        vertical-align: top;\n",
       "    }\n",
       "\n",
       "    .dataframe thead th {\n",
       "        text-align: right;\n",
       "    }\n",
       "</style>\n",
       "<table border=\"1\" class=\"dataframe\">\n",
       "  <thead>\n",
       "    <tr style=\"text-align: right;\">\n",
       "      <th></th>\n",
       "      <th>activity_time_id</th>\n",
       "      <th>employee_id</th>\n",
       "      <th>activity_id</th>\n",
       "      <th>activity_date</th>\n",
       "      <th>minutes</th>\n",
       "      <th>factor_value</th>\n",
       "      <th>notes_internal</th>\n",
       "      <th>processed_at</th>\n",
       "    </tr>\n",
       "  </thead>\n",
       "  <tbody>\n",
       "    <tr>\n",
       "      <th>0</th>\n",
       "      <td>750</td>\n",
       "      <td>5</td>\n",
       "      <td>20</td>\n",
       "      <td>2025-05-10</td>\n",
       "      <td>0</td>\n",
       "      <td>0.0</td>\n",
       "      <td>Data Innovation Summit + Interna möten fredag</td>\n",
       "      <td>2025-09-08 05:26:08.566517 UTC</td>\n",
       "    </tr>\n",
       "    <tr>\n",
       "      <th>1</th>\n",
       "      <td>1256</td>\n",
       "      <td>3</td>\n",
       "      <td>17</td>\n",
       "      <td>2025-06-26</td>\n",
       "      <td>30</td>\n",
       "      <td>1.0</td>\n",
       "      <td>NaN</td>\n",
       "      <td>2025-09-08 05:26:08.566517 UTC</td>\n",
       "    </tr>\n",
       "    <tr>\n",
       "      <th>2</th>\n",
       "      <td>1255</td>\n",
       "      <td>3</td>\n",
       "      <td>17</td>\n",
       "      <td>2025-06-25</td>\n",
       "      <td>30</td>\n",
       "      <td>1.0</td>\n",
       "      <td>NaN</td>\n",
       "      <td>2025-09-08 05:26:08.566517 UTC</td>\n",
       "    </tr>\n",
       "    <tr>\n",
       "      <th>3</th>\n",
       "      <td>1257</td>\n",
       "      <td>3</td>\n",
       "      <td>17</td>\n",
       "      <td>2025-06-27</td>\n",
       "      <td>30</td>\n",
       "      <td>1.0</td>\n",
       "      <td>NaN</td>\n",
       "      <td>2025-09-08 05:26:08.566517 UTC</td>\n",
       "    </tr>\n",
       "    <tr>\n",
       "      <th>4</th>\n",
       "      <td>1564</td>\n",
       "      <td>3</td>\n",
       "      <td>21</td>\n",
       "      <td>2025-08-21</td>\n",
       "      <td>30</td>\n",
       "      <td>1.0</td>\n",
       "      <td>NaN</td>\n",
       "      <td>2025-09-08 05:26:08.566517 UTC</td>\n",
       "    </tr>\n",
       "  </tbody>\n",
       "</table>\n",
       "</div>"
      ],
      "text/plain": [
       "   activity_time_id  employee_id  activity_id activity_date  minutes  \\\n",
       "0               750            5           20    2025-05-10        0   \n",
       "1              1256            3           17    2025-06-26       30   \n",
       "2              1255            3           17    2025-06-25       30   \n",
       "3              1257            3           17    2025-06-27       30   \n",
       "4              1564            3           21    2025-08-21       30   \n",
       "\n",
       "   factor_value                                 notes_internal  \\\n",
       "0           0.0  Data Innovation Summit + Interna möten fredag   \n",
       "1           1.0                                            NaN   \n",
       "2           1.0                                            NaN   \n",
       "3           1.0                                            NaN   \n",
       "4           1.0                                            NaN   \n",
       "\n",
       "                     processed_at  \n",
       "0  2025-09-08 05:26:08.566517 UTC  \n",
       "1  2025-09-08 05:26:08.566517 UTC  \n",
       "2  2025-09-08 05:26:08.566517 UTC  \n",
       "3  2025-09-08 05:26:08.566517 UTC  \n",
       "4  2025-09-08 05:26:08.566517 UTC  "
      ]
     },
     "metadata": {},
     "output_type": "display_data"
    },
    {
     "name": "stdout",
     "output_type": "stream",
     "text": [
      "\n",
      "=== LAST 5 ROWS ===\n"
     ]
    },
    {
     "data": {
      "text/html": [
       "<div>\n",
       "<style scoped>\n",
       "    .dataframe tbody tr th:only-of-type {\n",
       "        vertical-align: middle;\n",
       "    }\n",
       "\n",
       "    .dataframe tbody tr th {\n",
       "        vertical-align: top;\n",
       "    }\n",
       "\n",
       "    .dataframe thead th {\n",
       "        text-align: right;\n",
       "    }\n",
       "</style>\n",
       "<table border=\"1\" class=\"dataframe\">\n",
       "  <thead>\n",
       "    <tr style=\"text-align: right;\">\n",
       "      <th></th>\n",
       "      <th>activity_time_id</th>\n",
       "      <th>employee_id</th>\n",
       "      <th>activity_id</th>\n",
       "      <th>activity_date</th>\n",
       "      <th>minutes</th>\n",
       "      <th>factor_value</th>\n",
       "      <th>notes_internal</th>\n",
       "      <th>processed_at</th>\n",
       "    </tr>\n",
       "  </thead>\n",
       "  <tbody>\n",
       "    <tr>\n",
       "      <th>861</th>\n",
       "      <td>230</td>\n",
       "      <td>4</td>\n",
       "      <td>14</td>\n",
       "      <td>2025-04-02</td>\n",
       "      <td>540</td>\n",
       "      <td>1.0</td>\n",
       "      <td>NaN</td>\n",
       "      <td>2025-09-08 05:26:08.566517 UTC</td>\n",
       "    </tr>\n",
       "    <tr>\n",
       "      <th>862</th>\n",
       "      <td>222</td>\n",
       "      <td>4</td>\n",
       "      <td>14</td>\n",
       "      <td>2025-04-07</td>\n",
       "      <td>540</td>\n",
       "      <td>1.0</td>\n",
       "      <td>NaN</td>\n",
       "      <td>2025-09-08 05:26:08.566517 UTC</td>\n",
       "    </tr>\n",
       "    <tr>\n",
       "      <th>863</th>\n",
       "      <td>209</td>\n",
       "      <td>4</td>\n",
       "      <td>14</td>\n",
       "      <td>2025-04-22</td>\n",
       "      <td>600</td>\n",
       "      <td>1.0</td>\n",
       "      <td>NaN</td>\n",
       "      <td>2025-09-08 05:26:08.566517 UTC</td>\n",
       "    </tr>\n",
       "    <tr>\n",
       "      <th>864</th>\n",
       "      <td>210</td>\n",
       "      <td>4</td>\n",
       "      <td>14</td>\n",
       "      <td>2025-04-23</td>\n",
       "      <td>600</td>\n",
       "      <td>1.0</td>\n",
       "      <td>NaN</td>\n",
       "      <td>2025-09-08 05:26:08.566517 UTC</td>\n",
       "    </tr>\n",
       "    <tr>\n",
       "      <th>865</th>\n",
       "      <td>359</td>\n",
       "      <td>5</td>\n",
       "      <td>18</td>\n",
       "      <td>2025-05-05</td>\n",
       "      <td>960</td>\n",
       "      <td>1.0</td>\n",
       "      <td>FYI Lägger 8 tim extra som korrigering, då jag...</td>\n",
       "      <td>2025-09-08 05:26:08.566517 UTC</td>\n",
       "    </tr>\n",
       "  </tbody>\n",
       "</table>\n",
       "</div>"
      ],
      "text/plain": [
       "     activity_time_id  employee_id  activity_id activity_date  minutes  \\\n",
       "861               230            4           14    2025-04-02      540   \n",
       "862               222            4           14    2025-04-07      540   \n",
       "863               209            4           14    2025-04-22      600   \n",
       "864               210            4           14    2025-04-23      600   \n",
       "865               359            5           18    2025-05-05      960   \n",
       "\n",
       "     factor_value                                     notes_internal  \\\n",
       "861           1.0                                                NaN   \n",
       "862           1.0                                                NaN   \n",
       "863           1.0                                                NaN   \n",
       "864           1.0                                                NaN   \n",
       "865           1.0  FYI Lägger 8 tim extra som korrigering, då jag...   \n",
       "\n",
       "                       processed_at  \n",
       "861  2025-09-08 05:26:08.566517 UTC  \n",
       "862  2025-09-08 05:26:08.566517 UTC  \n",
       "863  2025-09-08 05:26:08.566517 UTC  \n",
       "864  2025-09-08 05:26:08.566517 UTC  \n",
       "865  2025-09-08 05:26:08.566517 UTC  "
      ]
     },
     "metadata": {},
     "output_type": "display_data"
    }
   ],
   "source": [
    "# First Few Rows\n",
    "print(\"=== FIRST 5 ROWS ===\")\n",
    "display(df_qbis_time.head())\n",
    "\n",
    "print(\"\\n=== LAST 5 ROWS ===\")\n",
    "display(df_qbis_time.tail())"
   ]
  },
  {
   "cell_type": "markdown",
   "id": "09fabfea",
   "metadata": {},
   "source": [
    "## Data Quality Assessment"
   ]
  },
  {
   "cell_type": "code",
   "execution_count": 8,
   "id": "7a3d6858",
   "metadata": {},
   "outputs": [
    {
     "name": "stdout",
     "output_type": "stream",
     "text": [
      "=== MISSING VALUES ===\n",
      "                Missing Count  Missing Percentage\n",
      "notes_internal            863            99.65358\n",
      "\n",
      "=== DUPLICATES ===\n",
      "Total duplicated rows: 0\n",
      "Percentage of duplicates: 0.00%\n"
     ]
    }
   ],
   "source": [
    "# Missing Values Analysis\n",
    "print(\"=== MISSING VALUES ===\")\n",
    "missing_data = df_qbis_time.isnull().sum()\n",
    "missing_percent = (missing_data / len(df_qbis_time)) * 100\n",
    "missing_df = pd.DataFrame({\n",
    "    'Missing Count': missing_data,\n",
    "    'Missing Percentage': missing_percent\n",
    "}).sort_values('Missing Count', ascending=False)\n",
    "\n",
    "print(missing_df[missing_df['Missing Count'] > 0])\n",
    "\n",
    "# Duplicates\n",
    "print(f\"\\n=== DUPLICATES ===\")\n",
    "print(f\"Total duplicated rows: {df_qbis_time.duplicated().sum()}\")\n",
    "print(f\"Percentage of duplicates: {(df_qbis_time.duplicated().sum() / len(df_qbis_time)) * 100:.2f}%\")"
   ]
  },
  {
   "cell_type": "markdown",
   "id": "9c967c82",
   "metadata": {},
   "source": [
    "## Statistical Summary"
   ]
  },
  {
   "cell_type": "code",
   "execution_count": 11,
   "id": "aa22f831",
   "metadata": {},
   "outputs": [
    {
     "data": {
      "text/plain": [
       "employee_id\n",
       "3     174\n",
       "5      86\n",
       "2      85\n",
       "4      82\n",
       "6      81\n",
       "9      80\n",
       "11     79\n",
       "8      78\n",
       "10     67\n",
       "12     54\n",
       "Name: count, dtype: int64"
      ]
     },
     "execution_count": 11,
     "metadata": {},
     "output_type": "execute_result"
    }
   ],
   "source": [
    "df_qbis_time.employee_id.value_counts()"
   ]
  },
  {
   "cell_type": "code",
   "execution_count": null,
   "id": "b95d58f6",
   "metadata": {},
   "outputs": [],
   "source": []
  }
 ],
 "metadata": {
  "kernelspec": {
   "display_name": ".venv",
   "language": "python",
   "name": "python3"
  },
  "language_info": {
   "codemirror_mode": {
    "name": "ipython",
    "version": 3
   },
   "file_extension": ".py",
   "mimetype": "text/x-python",
   "name": "python",
   "nbconvert_exporter": "python",
   "pygments_lexer": "ipython3",
   "version": "3.11.5"
  }
 },
 "nbformat": 4,
 "nbformat_minor": 5
}
