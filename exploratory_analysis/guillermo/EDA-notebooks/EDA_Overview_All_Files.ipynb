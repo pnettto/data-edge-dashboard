{
 "cells": [
  {
   "cell_type": "markdown",
   "id": "c72bd6ea",
   "metadata": {},
   "source": [
    "# Data Edge Internal Data - Complete Overview & EDA\n",
    "This notebook provides a comprehensive overview of all CSV files in the Data Edge Internal Data folder, allowing you to understand the entire dataset structure before diving into individual file analysis."
   ]
  },
  {
   "cell_type": "code",
   "execution_count": null,
   "id": "66407239",
   "metadata": {},
   "outputs": [],
   "source": [
    "# Import Required Libraries\n",
    "import pandas as pd\n",
    "import numpy as np\n",
    "import matplotlib.pyplot as plt\n",
    "import seaborn as sns\n",
    "import os\n",
    "from pathlib import Path\n",
    "import warnings\n",
    "warnings.filterwarnings('ignore')\n",
    "\n",
    "# Set display options\n",
    "pd.set_option('display.max_columns', None)\n",
    "pd.set_option('display.max_rows', 100)\n",
    "plt.style.use('seaborn-v0_8')\n",
    "sns.set_palette(\"husl\")\n",
    "\n",
    "print(\"Libraries imported successfully!\")"
   ]
  },
  {
   "cell_type": "code",
   "execution_count": null,
   "id": "b933d3d1",
   "metadata": {},
   "outputs": [],
   "source": [
    "# Set Data Directory and List All Files\n",
    "data_dir = r\"c:\\Users\\guine\\Documents\\BC#4\\Hyper_python\\BI project\\Data Edge Internal Data\"\n",
    "\n",
    "# Get all CSV files\n",
    "csv_files = [f for f in os.listdir(data_dir) if f.endswith('.csv')]\n",
    "print(f\"Found {len(csv_files)} CSV files:\")\n",
    "for i, file in enumerate(csv_files, 1):\n",
    "    file_path = os.path.join(data_dir, file)\n",
    "    size_mb = os.path.getsize(file_path) / (1024 * 1024)\n",
    "    print(f\"{i:2d}. {file:<40} ({size_mb:.2f} MB)\")\n",
    "\n",
    "# Categorize files by type\n",
    "fact_tables = [f for f in csv_files if f.startswith('fct_')]\n",
    "dim_tables = [f for f in csv_files if f.startswith('dim_')]\n",
    "staging_tables = [f for f in csv_files if f.startswith('stg_')]\n",
    "\n",
    "print(f\"\\n📊 Data Architecture Overview:\")\n",
    "print(f\"   • Fact Tables: {len(fact_tables)} files\")\n",
    "print(f\"   • Dimension Tables: {len(dim_tables)} files\") \n",
    "print(f\"   • Staging Tables: {len(staging_tables)} files\")"
   ]
  },
  {
   "cell_type": "code",
   "execution_count": null,
   "id": "8c3d9739",
   "metadata": {},
   "outputs": [],
   "source": [
    "# Quick Load and Overview of All Files\n",
    "file_overview = []\n",
    "\n",
    "for file in csv_files:\n",
    "    file_path = os.path.join(data_dir, file)\n",
    "    try:\n",
    "        # Load just the first few rows to get structure\n",
    "        df_sample = pd.read_csv(file_path, nrows=5)\n",
    "        \n",
    "        file_info = {\n",
    "            'filename': file,\n",
    "            'rows': len(pd.read_csv(file_path)),\n",
    "            'columns': len(df_sample.columns),\n",
    "            'column_names': list(df_sample.columns),\n",
    "            'size_mb': os.path.getsize(file_path) / (1024 * 1024),\n",
    "            'first_row_sample': df_sample.iloc[0].to_dict() if len(df_sample) > 0 else {}\n",
    "        }\n",
    "        file_overview.append(file_info)\n",
    "        print(f\"✓ Loaded {file}\")\n",
    "        \n",
    "    except Exception as e:\n",
    "        print(f\"✗ Error loading {file}: {e}\")\n",
    "\n",
    "# Create summary DataFrame\n",
    "summary_df = pd.DataFrame([{\n",
    "    'File': info['filename'],\n",
    "    'Rows': info['rows'],\n",
    "    'Columns': info['columns'], \n",
    "    'Size (MB)': round(info['size_mb'], 2),\n",
    "    'Column Names': ', '.join(info['column_names'][:3]) + ('...' if len(info['column_names']) > 3 else '')\n",
    "} for info in file_overview])\n",
    "\n",
    "print(f\"\\n📋 Files Summary:\")\n",
    "display(summary_df.sort_values('Size (MB)', ascending=False))"
   ]
  }
 ],
 "metadata": {
  "kernelspec": {
   "display_name": ".venv",
   "language": "python",
   "name": "python3"
  },
  "language_info": {
   "name": "python",
   "version": "3.11.5"
  }
 },
 "nbformat": 4,
 "nbformat_minor": 5
}
